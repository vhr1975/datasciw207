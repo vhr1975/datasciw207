{
 "cells": [
  {
   "cell_type": "markdown",
   "metadata": {
    "id": "MKsRDH5ZUdfasdv"
   },
   "source": [
    "# Lab 9"
   ]
  },
  {
   "cell_type": "markdown",
   "metadata": {
    "id": "43534tdfgs-v"
   },
   "source": [
    "In this lab, we'll train models for sentiment classification and experiment with learned embeddings for text features."
   ]
  },
  {
   "cell_type": "code",
   "execution_count": 129,
   "metadata": {
    "id": "7X58hOMTUH-w"
   },
   "outputs": [],
   "source": [
    "# Import the libraries we'll use below.\n",
    "import numpy as np\n",
    "from matplotlib import pyplot as plt\n",
    "import pandas as pd\n",
    "import seaborn as sns  # for nicer plots\n",
    "sns.set(style=\"darkgrid\")  # default style\n",
    "import plotly.graph_objs as plotly  # for interactive plots\n",
    "\n",
    "import tensorflow as tf\n",
    "from tensorflow.keras.datasets import imdb"
   ]
  },
  {
   "cell_type": "markdown",
   "metadata": {
    "id": "eqppUDpmdptk"
   },
   "source": [
    "## Data for Sentiment Classification\n",
    "\n",
    "In this lab, we'll train a *sentiment* classifier for movie reviews. That is, the input is the text of a movie review and the output is the probability the input was a positive review. The target labels are binary, 0 for negative and 1 for positive.\n",
    "\n",
    "Our data includes 50,000 movie reviews on IMDB. The data comes pre-segmented into train and test splits. The [data loading function](https://www.tensorflow.org/api_docs/python/tf/keras/datasets/imdb/load_data) below also splits each input text into tokens (words) and maps the words to integer values. Each input is a sequence of integers corresponding to the words."
   ]
  },
  {
   "cell_type": "code",
   "execution_count": 130,
   "metadata": {
    "colab": {
     "base_uri": "https://localhost:8080/"
    },
    "executionInfo": {
     "elapsed": 5870,
     "status": "ok",
     "timestamp": 1646684495083,
     "user": {
      "displayName": "Daniel Gillick",
      "photoUrl": "https://lh3.googleusercontent.com/a-/AOh14Gg9DrSMlwYnG9EolecuJqe8n9m7fpcje4_UbYrhQ10=s64",
      "userId": "01872965353911650729"
     },
     "user_tz": 600
    },
    "id": "s6M-asvhQWV_",
    "outputId": "1aca520b-e1b6-4006-ac44-78ff33ac6da9"
   },
   "outputs": [
    {
     "name": "stdout",
     "output_type": "stream",
     "text": [
      "X_train.shape: (25000,)\n",
      "Y_train.shape: (25000,)\n",
      "X_test.shape: (25000,)\n",
      "Y_test.shape: (25000,)\n",
      "First training example data: [1, 14, 22, 16, 43, 530, 973, 1622, 1385, 65, 458, 4468, 66, 3941, 4, 173, 36, 256, 5, 25, 100, 43, 838, 112, 50, 670, 22665, 9, 35, 480, 284, 5, 150, 4, 172, 112, 167, 21631, 336, 385, 39, 4, 172, 4536, 1111, 17, 546, 38, 13, 447, 4, 192, 50, 16, 6, 147, 2025, 19, 14, 22, 4, 1920, 4613, 469, 4, 22, 71, 87, 12, 16, 43, 530, 38, 76, 15, 13, 1247, 4, 22, 17, 515, 17, 12, 16, 626, 18, 19193, 5, 62, 386, 12, 8, 316, 8, 106, 5, 4, 2223, 5244, 16, 480, 66, 3785, 33, 4, 130, 12, 16, 38, 619, 5, 25, 124, 51, 36, 135, 48, 25, 1415, 33, 6, 22, 12, 215, 28, 77, 52, 5, 14, 407, 16, 82, 10311, 8, 4, 107, 117, 5952, 15, 256, 4, 31050, 7, 3766, 5, 723, 36, 71, 43, 530, 476, 26, 400, 317, 46, 7, 4, 12118, 1029, 13, 104, 88, 4, 381, 15, 297, 98, 32, 2071, 56, 26, 141, 6, 194, 7486, 18, 4, 226, 22, 21, 134, 476, 26, 480, 5, 144, 30, 5535, 18, 51, 36, 28, 224, 92, 25, 104, 4, 226, 65, 16, 38, 1334, 88, 12, 16, 283, 5, 16, 4472, 113, 103, 32, 15, 16, 5345, 19, 178, 32]\n",
      "First training example label: 1\n"
     ]
    }
   ],
   "source": [
    "(X_train, Y_train), (X_test, Y_test) = imdb.load_data(path=\"imdb.npz\",\n",
    "                                                      num_words=None,\n",
    "                                                      skip_top=0,\n",
    "                                                      maxlen=None,\n",
    "                                                      seed=113,\n",
    "                                                      start_char=1,\n",
    "                                                      oov_char=2,\n",
    "                                                      index_from=3)\n",
    "\n",
    "print(\"X_train.shape:\", X_train.shape)\n",
    "print(\"Y_train.shape:\", Y_train.shape)\n",
    "print(\"X_test.shape:\", X_test.shape)\n",
    "print(\"Y_test.shape:\", Y_test.shape)\n",
    "\n",
    "print('First training example data:', X_train[0])\n",
    "print('First training example label:', Y_train[0])"
   ]
  },
  {
   "cell_type": "markdown",
   "metadata": {
    "id": "MyIWiy-4gQK-"
   },
   "source": [
    "So our first training example is a positive review. But that sequence of integer IDs is hard to read. The data loader provides a dictionary mapping words to IDs. Let's create a reverse index.\n"
   ]
  },
  {
   "cell_type": "code",
   "execution_count": 131,
   "metadata": {
    "colab": {
     "base_uri": "https://localhost:8080/"
    },
    "executionInfo": {
     "elapsed": 801,
     "status": "ok",
     "timestamp": 1646684508506,
     "user": {
      "displayName": "Daniel Gillick",
      "photoUrl": "https://lh3.googleusercontent.com/a-/AOh14Gg9DrSMlwYnG9EolecuJqe8n9m7fpcje4_UbYrhQ10=s64",
      "userId": "01872965353911650729"
     },
     "user_tz": 600
    },
    "id": "HQ-qATkhUj7c",
    "outputId": "eea86a69-fe6a-4cdb-ac8c-9307a5118e47"
   },
   "outputs": [
    {
     "name": "stdout",
     "output_type": "stream",
     "text": [
      "Largest ID: 88587\n"
     ]
    }
   ],
   "source": [
    "# The imdb dataset comes with an index mapping words to integers.\n",
    "# In the index the words are ordered by frequency they occur.\n",
    "index = imdb.get_word_index()\n",
    "\n",
    "# Because we used index_from=3 (above), setting aside ids below 3 for special\n",
    "# symbols, we need to add 3 to the index values.\n",
    "index = dict([(key, value+3) for (key, value) in index.items()])\n",
    "\n",
    "# Create a reverse index so we can lookup tokens assigned to each id.\n",
    "reverse_index = dict([(value, key) for (key, value) in index.items()])\n",
    "reverse_index[1] = '<START>'  # start of input\n",
    "reverse_index[2] = '#'        # out-of-vocabulary (OOV)\n",
    "reverse_index[3] = '<UNUSED>'\n",
    "\n",
    "max_id = max(reverse_index.keys())\n",
    "print('Largest ID:', max_id)"
   ]
  },
  {
   "cell_type": "markdown",
   "metadata": {
    "id": "h76-b07ehWNQ"
   },
   "source": [
    "Note that our index (and reverse index) have over 88,000 tokens. That's quite a large vocabulary! Let's also write a decoding function for our data."
   ]
  },
  {
   "cell_type": "code",
   "execution_count": 132,
   "metadata": {
    "colab": {
     "base_uri": "https://localhost:8080/"
    },
    "executionInfo": {
     "elapsed": 358,
     "status": "ok",
     "timestamp": 1646684531998,
     "user": {
      "displayName": "Daniel Gillick",
      "photoUrl": "https://lh3.googleusercontent.com/a-/AOh14Gg9DrSMlwYnG9EolecuJqe8n9m7fpcje4_UbYrhQ10=s64",
      "userId": "01872965353911650729"
     },
     "user_tz": 600
    },
    "id": "UjobmouHS5Dm",
    "outputId": "29975a48-7fda-4600-bd0c-693c35dd8a54"
   },
   "outputs": [
    {
     "name": "stdout",
     "output_type": "stream",
     "text": [
      "[1, 14, 22, 16, 43, 530, 973, 1622, 1385, 65, 458, 4468, 66, 3941, 4, 173, 36, 256, 5, 25, 100, 43, 838, 112, 50, 670, 22665, 9, 35, 480, 284, 5, 150, 4, 172, 112, 167, 21631, 336, 385, 39, 4, 172, 4536, 1111, 17, 546, 38, 13, 447, 4, 192, 50, 16, 6, 147, 2025, 19, 14, 22, 4, 1920, 4613, 469, 4, 22, 71, 87, 12, 16, 43, 530, 38, 76, 15, 13, 1247, 4, 22, 17, 515, 17, 12, 16, 626, 18, 19193, 5, 62, 386, 12, 8, 316, 8, 106, 5, 4, 2223, 5244, 16, 480, 66, 3785, 33, 4, 130, 12, 16, 38, 619, 5, 25, 124, 51, 36, 135, 48, 25, 1415, 33, 6, 22, 12, 215, 28, 77, 52, 5, 14, 407, 16, 82, 10311, 8, 4, 107, 117, 5952, 15, 256, 4, 31050, 7, 3766, 5, 723, 36, 71, 43, 530, 476, 26, 400, 317, 46, 7, 4, 12118, 1029, 13, 104, 88, 4, 381, 15, 297, 98, 32, 2071, 56, 26, 141, 6, 194, 7486, 18, 4, 226, 22, 21, 134, 476, 26, 480, 5, 144, 30, 5535, 18, 51, 36, 28, 224, 92, 25, 104, 4, 226, 65, 16, 38, 1334, 88, 12, 16, 283, 5, 16, 4472, 113, 103, 32, 15, 16, 5345, 19, 178, 32]\n",
      "<START> this film was just brilliant casting location scenery story direction everyone's really suited the part they played and you could just imagine being there robert redford's is an amazing actor and now the same being director norman's father came from the same scottish island as myself so i loved the fact there was a real connection with this film the witty remarks throughout the film were great it was just brilliant so much that i bought the film as soon as it was released for retail and would recommend it to everyone to watch and the fly fishing was amazing really cried at the end it was so sad and you know what they say if you cry at a film it must have been good and this definitely was also congratulations to the two little boy's that played the part's of norman and paul they were just brilliant children are often left out of the praising list i think because the stars that play them all grown up are such a big profile for the whole film but these children are amazing and should be praised for what they have done don't you think the whole story was so lovely because it was true and was someone's life after all that was shared with us all\n"
     ]
    }
   ],
   "source": [
    "def decode(token_ids):\n",
    "  \"\"\"Return a string with the decoded text given a list of token ids.\"\"\"\n",
    "  # Try looking up each id in the index, but return '#' (for OOV) if not found.\n",
    "  tokens = [reverse_index.get(i, \"#\") for i in token_ids]\n",
    "\n",
    "  # Connect the string tokens with a space.\n",
    "  return ' '.join(tokens)\n",
    "\n",
    "# Show the ids corresponding tokens in the first example.\n",
    "print(X_train[0])\n",
    "print(decode(X_train[0]))"
   ]
  },
  {
   "cell_type": "markdown",
   "metadata": {
    "id": "g47w5CackGBA"
   },
   "source": [
    "### Text Lengths\n",
    "As usual, let's start with some data analysis. How long are the reviews? Is there a difference in length between positive and negative reviews? A histogram will help answer these questions."
   ]
  },
  {
   "cell_type": "code",
   "execution_count": 133,
   "metadata": {
    "colab": {
     "base_uri": "https://localhost:8080/",
     "height": 305
    },
    "executionInfo": {
     "elapsed": 762,
     "status": "ok",
     "timestamp": 1646684547021,
     "user": {
      "displayName": "Daniel Gillick",
      "photoUrl": "https://lh3.googleusercontent.com/a-/AOh14Gg9DrSMlwYnG9EolecuJqe8n9m7fpcje4_UbYrhQ10=s64",
      "userId": "01872965353911650729"
     },
     "user_tz": 600
    },
    "id": "kEOgzo8Gk3r7",
    "outputId": "e7446ffd-10c5-4c64-a5bc-7cab81a1d73f"
   },
   "outputs": [
    {
     "data": {
      "image/png": "[encoded data removed]",
      "text/plain": [
       "<Figure size 432x288 with 1 Axes>"
      ]
     },
     "metadata": {},
     "output_type": "display_data"
    },
    {
     "name": "stdout",
     "output_type": "stream",
     "text": [
      "Longest positive review: 2494\n",
      "Longest negative review: 1571\n"
     ]
    }
   ],
   "source": [
    "# Create a list of lengths for training examples with a positive label.\n",
    "text_lengths_pos = [len(x) for (i, x) in enumerate(X_train) if Y_train[i]]\n",
    "\n",
    "# And a list of lengths for training examples with a negative label.\n",
    "text_lengths_neg = [len(x) for (i, x) in enumerate(X_train) if not Y_train[i]]\n",
    "\n",
    "# The histogram function can take a list of inputs and corresponding labels.\n",
    "plt.hist([text_lengths_pos, text_lengths_neg], bins=20, range=(0, 1000),\n",
    "         label=['positive', 'negative'])\n",
    "plt.legend()\n",
    "plt.show()\n",
    "\n",
    "# Also check the longest reviews.\n",
    "print('Longest positive review:', max(text_lengths_pos))\n",
    "print('Longest negative review:', max(text_lengths_neg))"
   ]
  },
  {
   "cell_type": "markdown",
   "metadata": {
    "id": "c3ZE9gpkml3a"
   },
   "source": [
    "---\n",
    "### Exercise 1: Token Counts (8 points)\n",
    "For each of the given tokens, construct a table with the number of positive training examples that include that token and the number of negative training examples that include that token. For reference, here are the counts for the first two tokens:\n",
    "\n",
    "|Token|Pos Count|Neg Count|\n",
    "|-|-|-|\n",
    "|good|4767|4849|\n",
    "|bad|1491|4396|\n",
    "|amazing|868|240|\n",
    "|boring|301|1205|\n",
    "|laugh|525|685|\n",
    "|cry|231|114|"
   ]
  },
  {
   "cell_type": "code",
   "execution_count": 134,
   "metadata": {
    "id": "8YOYo6d01aWI"
   },
   "outputs": [
    {
     "name": "stdout",
     "output_type": "stream",
     "text": [
      "{'good': 4767, 'amazing': 868, 'cry': 231, 'bad': 1491, 'boring': 301, 'laugh': 525}\n",
      "{'good': 4849, 'bad': 4396, 'laugh': 685, 'boring': 1205, 'amazing': 240, 'cry': 114}\n"
     ]
    }
   ],
   "source": [
    "tokens = ['good', 'bad', 'amazing', 'boring', 'laugh', 'cry']\n",
    "# YOUR CODE HERE\n",
    "\n",
    "positive_count = {}\n",
    "negative_count = {}\n",
    "    \n",
    "# loop all the review in the training data\n",
    "for x in range(len(X_train)):\n",
    "    \n",
    "    result = decode(X_train[x])    \n",
    "    \n",
    "    # loop the review text\n",
    "    for review in tokens:\n",
    "        \n",
    "        # split text on space\n",
    "        if review in result.split(\" \"):\n",
    "            \n",
    "            # positive review found\n",
    "            if Y_train[x] == 1:\n",
    "                \n",
    "                if positive_count.get(review) == None:\n",
    "                    \n",
    "                    positive_count[review] = 0\n",
    "                    \n",
    "                positive_count[review] += 1\n",
    "                \n",
    "            # negative review found\n",
    "            elif Y_train[x] == 0:\n",
    "                \n",
    "                if negative_count.get(review) == None:\n",
    "                    \n",
    "                    negative_count[review] = 0\n",
    "                    \n",
    "                negative_count[review] += 1\n",
    "                \n",
    "print(positive_count)\n",
    "print(negative_count)\n"
   ]
  },
  {
   "cell_type": "markdown",
   "metadata": {},
   "source": [
    "---"
   ]
  },
  {
   "cell_type": "markdown",
   "metadata": {
    "id": "hhzt-LnQ1m8w"
   },
   "source": [
    "## Feature Representation\n",
    "Consider the difference between the pixel features we used for image classification and the text features we are now dealing with.\n",
    "\n",
    "An image had 784 pixel positions. At each position, there is a single value in [0,1] (after normalization).\n",
    "\n",
    "In contrast, a review has a variable number of ordered tokens (up to 2494 in the training examples). Each token occurs in a particular position. We can think of the token positions much like the 784 pixel positions, except that some of the trailing positions are empty, since review lengths vary.  At each token position, there is a single token, one of the 88587 entries in the vocabulary. So we can think of a review as a (2500, 90000) matrix: At each of ~2500 token positions, we have 1 of ~90000 token ids.\n",
    "\n",
    "This representation would have 2500 * 90000 = 225 million features -- quite a lot more complexity than the images, though as you'll see below, we will make some simplifying assumptions, reducing both the number of token positions and the number of vocabulary items."
   ]
  },
  {
   "cell_type": "markdown",
   "metadata": {
    "id": "Jm_F5JmWyfko"
   },
   "source": [
    "### Padding and Reduced Length\n",
    "As is clear from the length histogram, the current representation of the review text is a variable-length array. Since fixed-length arrays are easier to work with in Tensorflow, let's add special padding tokens at the end of each review until they are all the same length.\n",
    "\n",
    "We'll also use this operation to limit the number of token positions by truncating all reviews to a specified length. In the code below, as an example, we pad all training inputs to length 300."
   ]
  },
  {
   "cell_type": "code",
   "execution_count": 135,
   "metadata": {
    "colab": {
     "base_uri": "https://localhost:8080/"
    },
    "executionInfo": {
     "elapsed": 766,
     "status": "ok",
     "timestamp": 1646684609342,
     "user": {
      "displayName": "Daniel Gillick",
      "photoUrl": "https://lh3.googleusercontent.com/a-/AOh14Gg9DrSMlwYnG9EolecuJqe8n9m7fpcje4_UbYrhQ10=s64",
      "userId": "01872965353911650729"
     },
     "user_tz": 600
    },
    "id": "a4ou8bSUCWOx",
    "outputId": "be4bc9e1-47aa-4f82-e23b-569f8d6128a4"
   },
   "outputs": [
    {
     "name": "stdout",
     "output_type": "stream",
     "text": [
      "Length of X_train[0]: 218\n",
      "Length of X_train_padded[0]: 300\n",
      "[    1    14    22    16    43   530   973  1622  1385    65   458  4468\n",
      "    66  3941     4   173    36   256     5    25   100    43   838   112\n",
      "    50   670 22665     9    35   480   284     5   150     4   172   112\n",
      "   167 21631   336   385    39     4   172  4536  1111    17   546    38\n",
      "    13   447     4   192    50    16     6   147  2025    19    14    22\n",
      "     4  1920  4613   469     4    22    71    87    12    16    43   530\n",
      "    38    76    15    13  1247     4    22    17   515    17    12    16\n",
      "   626    18 19193     5    62   386    12     8   316     8   106     5\n",
      "     4  2223  5244    16   480    66  3785    33     4   130    12    16\n",
      "    38   619     5    25   124    51    36   135    48    25  1415    33\n",
      "     6    22    12   215    28    77    52     5    14   407    16    82\n",
      " 10311     8     4   107   117  5952    15   256     4 31050     7  3766\n",
      "     5   723    36    71    43   530   476    26   400   317    46     7\n",
      "     4 12118  1029    13   104    88     4   381    15   297    98    32\n",
      "  2071    56    26   141     6   194  7486    18     4   226    22    21\n",
      "   134   476    26   480     5   144    30  5535    18    51    36    28\n",
      "   224    92    25   104     4   226    65    16    38  1334    88    12\n",
      "    16   283     5    16  4472   113   103    32    15    16  5345    19\n",
      "   178    32     0     0     0     0     0     0     0     0     0     0\n",
      "     0     0     0     0     0     0     0     0     0     0     0     0\n",
      "     0     0     0     0     0     0     0     0     0     0     0     0\n",
      "     0     0     0     0     0     0     0     0     0     0     0     0\n",
      "     0     0     0     0     0     0     0     0     0     0     0     0\n",
      "     0     0     0     0     0     0     0     0     0     0     0     0\n",
      "     0     0     0     0     0     0     0     0     0     0     0     0]\n"
     ]
    }
   ],
   "source": [
    "def pad_data(sequences, max_length):\n",
    "  # Keras has a convenient utility for padding a sequence.\n",
    "  # Also make sure we get a numpy array rather than an array of lists.\n",
    "  return np.array(list(\n",
    "      tf.keras.preprocessing.sequence.pad_sequences(\n",
    "          sequences, maxlen=max_length, padding='post', value=0)))\n",
    "\n",
    "# Pad and truncate to 300 tokens.\n",
    "X_train_padded = pad_data(X_train, max_length=300)\n",
    "\n",
    "# Check the padded output.\n",
    "print('Length of X_train[0]:', len(X_train[0]))\n",
    "print('Length of X_train_padded[0]:', len(X_train_padded[0]))\n",
    "print(X_train_padded[0])"
   ]
  },
  {
   "cell_type": "markdown",
   "metadata": {
    "id": "lFEmcwBjL4e_"
   },
   "source": [
    "### Reduced Vocabulary\n",
    "We also want to be able to limit the vocabulary size. Since our padding function produces fixed-length sequences in a numpy matrix, we can use clever numpy indexing to efficiently replace all token ids larger than some value with the designated out-of-vocabulary (OOV) id.\n",
    "\n",
    "In the code below, as an example, we'll keep just token ids less than 1000, replacing all others with OOV."
   ]
  },
  {
   "cell_type": "code",
   "execution_count": 136,
   "metadata": {
    "colab": {
     "base_uri": "https://localhost:8080/"
    },
    "executionInfo": {
     "elapsed": 347,
     "status": "ok",
     "timestamp": 1646684634116,
     "user": {
      "displayName": "Daniel Gillick",
      "photoUrl": "https://lh3.googleusercontent.com/a-/AOh14Gg9DrSMlwYnG9EolecuJqe8n9m7fpcje4_UbYrhQ10=s64",
      "userId": "01872965353911650729"
     },
     "user_tz": 600
    },
    "id": "21qpyEgGNQeB",
    "outputId": "148ce890-4376-4c5a-f96a-9fb50cbe9538"
   },
   "outputs": [
    {
     "name": "stdout",
     "output_type": "stream",
     "text": [
      "[  1  14  22  16  43 530 973   2   2  65 458   2  66   2   4 173  36 256\n",
      "   5  25 100  43 838 112  50 670   2   9  35 480 284   5 150   4 172 112\n",
      " 167   2 336 385  39   4 172   2   2  17 546  38  13 447   4 192  50  16\n",
      "   6 147   2  19  14  22   4   2   2 469   4  22  71  87  12  16  43 530\n",
      "  38  76  15  13   2   4  22  17 515  17  12  16 626  18   2   5  62 386\n",
      "  12   8 316   8 106   5   4   2   2  16 480  66   2  33   4 130  12  16\n",
      "  38 619   5  25 124  51  36 135  48  25   2  33   6  22  12 215  28  77\n",
      "  52   5  14 407  16  82   2   8   4 107 117   2  15 256   4   2   7   2\n",
      "   5 723  36  71  43 530 476  26 400 317  46   7   4   2   2  13 104  88\n",
      "   4 381  15 297  98  32   2  56  26 141   6 194   2  18   4 226  22  21\n",
      " 134 476  26 480   5 144  30   2  18  51  36  28 224  92  25 104   4 226\n",
      "  65  16  38   2  88  12  16 283   5  16   2 113 103  32  15  16   2  19\n",
      " 178  32   0   0   0   0   0   0   0   0   0   0   0   0   0   0   0   0\n",
      "   0   0   0   0   0   0   0   0   0   0   0   0   0   0   0   0   0   0\n",
      "   0   0   0   0   0   0   0   0   0   0   0   0   0   0   0   0   0   0\n",
      "   0   0   0   0   0   0   0   0   0   0   0   0   0   0   0   0   0   0\n",
      "   0   0   0   0   0   0   0   0   0   0   0   0]\n",
      "<START> this film was just brilliant casting # # story direction # really # the part they played and you could just imagine being there robert # is an amazing actor and now the same being director # father came from the same # # as myself so i loved the fact there was a real # with this film the # # throughout the film were great it was just brilliant so much that i # the film as soon as it was released for # and would recommend it to everyone to watch and the # # was amazing really # at the end it was so sad and you know what they say if you # at a film it must have been good and this definitely was also # to the two little # that played the # of # and paul they were just brilliant children are often left out of the # # i think because the stars that play them all # up are such a big # for the whole film but these children are amazing and should be # for what they have done don't you think the whole story was so # because it was true and was # life after all that was # with us all # # # # # # # # # # # # # # # # # # # # # # # # # # # # # # # # # # # # # # # # # # # # # # # # # # # # # # # # # # # # # # # # # # # # # # # # # # # # # # # # # #\n"
     ]
    }
   ],
   "source": [
    "def limit_vocab(sequences, max_token_id, oov_id=2):\n",
    "  \"\"\"Replace token ids greater than or equal to max_token_id with the oov_id.\"\"\"\n",
    "  reduced_sequences = np.copy(sequences)\n",
    "  reduced_sequences[reduced_sequences >= max_token_id] = oov_id\n",
    "  return reduced_sequences\n",
    "\n",
    "# Reduce vocabulary to 1000 tokens.\n",
    "X_train_reduced = limit_vocab(X_train_padded, max_token_id=1000)\n",
    "print(X_train_reduced[0])\n",
    "\n",
    "# Decode to see what this looks like in tokens. Note the '#' for OOVs.\n",
    "print(decode(X_train_reduced[0]))"
   ]
  },
  {
   "cell_type": "markdown",
   "metadata": {
    "id": "d24mOPC6ybC4"
   },
   "source": [
    "### One-hot Encoding\n",
    "Our current feature representations are **sparse**. That is, we only keep track of the token ids that are present in the input. A **one-hot** encoding replaces a value like 22 (corresponding to 'film') with an array with a single 1 at position 22 and zeros everywhere else. This will be very memory-inefficient, but we'll do it anyway for clarity.\n",
    "\n",
    "As discussed above, let's dramatically reduce both the number of token positions (review length) and the number of token ids (vocabulary). We'll clip each review after 20 tokens (so 2500 -> 20) and keep only the most common 1000 tokens (so 90000 -> 1000)."
   ]
  },
  {
   "cell_type": "code",
   "execution_count": 137,
   "metadata": {
    "colab": {
     "base_uri": "https://localhost:8080/"
    },
    "executionInfo": {
     "elapsed": 1777,
     "status": "ok",
     "timestamp": 1646684668163,
     "user": {
      "displayName": "Daniel Gillick",
      "photoUrl": "https://lh3.googleusercontent.com/a-/AOh14Gg9DrSMlwYnG9EolecuJqe8n9m7fpcje4_UbYrhQ10=s64",
      "userId": "01872965353911650729"
     },
     "user_tz": 600
    },
    "id": "EXzkqVL3Jufj",
    "outputId": "69a06ea3-61e2-4d2b-ed57-69c51ee2c5f4"
   },
   "outputs": [
    {
     "name": "stdout",
     "output_type": "stream",
     "text": [
      "X_train_one_hot shape: (25000, 20, 1000)\n"
     ]
    }
   ],
   "source": [
    "# Keras has a util to create one-hot encodings.\n",
    "X_train_padded = pad_data(X_train, max_length=20)\n",
    "X_train_reduced = limit_vocab(X_train_padded, max_token_id=1000)\n",
    "X_train_one_hot = tf.keras.utils.to_categorical(X_train_reduced)\n",
    "print('X_train_one_hot shape:', X_train_one_hot.shape)"
   ]
  },
  {
   "cell_type": "markdown",
   "metadata": {
    "id": "B5RvIN4w66Ej"
   },
   "source": [
    "Note the shape of the one-hot encoded features. For each of our 25000 training examples, we have a 20 x 1000 matrix. That is, for each of 20 token positions, we have a vector of 1000 elements containing a single 1 and 999 zeros.\n",
    "\n",
    "We can think of these 1000-dimensional one-hot arrays as **embeddings**. Each token in the input has a 1000-dimensional representation. But because of the one-hot setup, the distance between each pair of tokens is the same ([1,0,0,...], [0,1,0,...], etc.). By contrast, learned embeddings result in meaningful distances between pairs of tokens. We'll get to that soon."
   ]
  },
  {
   "cell_type": "markdown",
   "metadata": {
    "id": "296Cnt647b5c"
   },
   "source": [
    "## Logistic Regression with One-Hot Encodings\n",
    "Let's start with something familiar -- logistic regression. Since our feature representation is in 2 dimensions (20 x 1000), we need to flatten it to pass it to Keras (remember we did this with the pixel data too). Let's try two strategies for flattening.\n",
    "\n",
    "1. Flatten by *concatenating* (as we did with pixels), turning (20 x 1000) data into (20000,) data. The result is a separate feature for each token at each position.\n",
    "2. Flatten by *averaging* over token positions, turning (20 x 1000) data into (1000,) data. The result is an array with average token counts, ignoring position.\n",
    "\n",
    "NOTE: Our prior assignments have used the standard Stochastic Gradient Descent (SGD) optimizer to compute the gradient from an estimate of the loss (based on the current mini-batch). There are many alternative optimizers. Here we'll use the **Adam** optimizer, which sometimes gives better results. One key characteristic of Adam is that it effectively uses a different learning rate for each parameter rather than a fixed learning rate as in SGD."
   ]
  },
  {
   "cell_type": "code",
   "execution_count": 138,
   "metadata": {
    "id": "6m6eebM-0dUW"
   },
   "outputs": [],
   "source": [
    "def build_onehot_model(average_over_positions=False):\n",
    "  \"\"\"Build a tf.keras model for one-hot data.\"\"\"\n",
    "  # Clear session and remove randomness.\n",
    "  tf.keras.backend.clear_session()\n",
    "  tf.random.set_seed(0)\n",
    "\n",
    "  model = tf.keras.Sequential()\n",
    "  if average_over_positions:\n",
    "    # This layer averages over the first dimension of the input by default.\n",
    "    model.add(tf.keras.layers.GlobalAveragePooling1D())\n",
    "  else:\n",
    "    # Concatenate.\n",
    "    model.add(tf.keras.layers.Flatten())\n",
    "  model.add(tf.keras.layers.Dense(\n",
    "      units=1,                     # output dim (for binary classification)\n",
    "      activation=\"sigmoid\"         # sigmoid activation for classification\n",
    "  ))\n",
    "\n",
    "  model.compile(loss='binary_crossentropy',   # this is a classification task\n",
    "                optimizer='adam',             # fancy optimizer\n",
    "                metrics=['accuracy'])\n",
    "\n",
    "  return model"
   ]
  },
  {
   "cell_type": "markdown",
   "metadata": {
    "id": "NY3W_1-OSZ2X"
   },
   "source": [
    "Now let's try fitting the model to our training data and check performance metrics on the validation (held-out) data. But first, here's a function for plotting the learning curves given the training history object we get from Keras."
   ]
  },
  {
   "cell_type": "code",
   "execution_count": 139,
   "metadata": {
    "id": "cOVmajSuMjN6"
   },
   "outputs": [],
   "source": [
    "def plot_history(history):\n",
    "  plt.ylabel('Loss')\n",
    "  plt.xlabel('Epoch')\n",
    "  plt.xticks(range(0, len(history['loss'] + 1)))\n",
    "  plt.plot(history['loss'], label=\"training\", marker='o')\n",
    "  plt.plot(history['val_loss'], label=\"validation\", marker='o')\n",
    "  plt.legend()\n",
    "  plt.show()"
   ]
  },
  {
   "cell_type": "code",
   "execution_count": 140,
   "metadata": {
    "colab": {
     "base_uri": "https://localhost:8080/",
     "height": 478
    },
    "executionInfo": {
     "elapsed": 22140,
     "status": "ok",
     "timestamp": 1646684718388,
     "user": {
      "displayName": "Daniel Gillick",
      "photoUrl": "https://lh3.googleusercontent.com/a-/AOh14Gg9DrSMlwYnG9EolecuJqe8n9m7fpcje4_UbYrhQ10=s64",
      "userId": "01872965353911650729"
     },
     "user_tz": 600
    },
    "id": "MyE4PgX70_op",
    "outputId": "3de05dfa-f372-4b77-ba43-f212c2f47c1e"
   },
   "outputs": [
    {
     "name": "stdout",
     "output_type": "stream",
     "text": [
      "Epoch 1/5\n",
      "352/352 [==============================] - 2s 4ms/step - loss: 0.6790 - accuracy: 0.6068 - val_loss: 0.6661 - val_accuracy: 0.6552\n",
      "Epoch 2/5\n",
      "352/352 [==============================] - 1s 4ms/step - loss: 0.6337 - accuracy: 0.7413 - val_loss: 0.6456 - val_accuracy: 0.6700\n",
      "Epoch 3/5\n",
      "352/352 [==============================] - 1s 4ms/step - loss: 0.5970 - accuracy: 0.7754 - val_loss: 0.6295 - val_accuracy: 0.6756\n",
      "Epoch 4/5\n",
      "352/352 [==============================] - 1s 4ms/step - loss: 0.5668 - accuracy: 0.7960 - val_loss: 0.6184 - val_accuracy: 0.6784\n",
      "Epoch 5/5\n",
      "352/352 [==============================] - 1s 4ms/step - loss: 0.5412 - accuracy: 0.8100 - val_loss: 0.6092 - val_accuracy: 0.6816\n"
     ]
    },
    {
     "data": {
      "image/png": "[encoded data removed]",
      "text/plain": [
       "<Figure size 432x288 with 1 Axes>"
      ]
     },
     "metadata": {},
     "output_type": "display_data"
    }
   ],
   "source": [
    "model = build_onehot_model()\n",
    "\n",
    "# Fit the model.\n",
    "history = model.fit(\n",
    "  x = X_train_one_hot,  # one-hot training data\n",
    "  y = Y_train,          # corresponding binary labels\n",
    "  epochs=5,             # number of passes through the training data\n",
    "  batch_size=64,        # mini-batch size\n",
    "  validation_split=0.1, # use a fraction of the examples for validation\n",
    "  verbose=1             # display some progress output during training\n",
    "  )\n",
    "\n",
    "# Convert the return value into a DataFrame so we can see the train loss \n",
    "# and binary accuracy after every epoch.\n",
    "history = pd.DataFrame(history.history)\n",
    "plot_history(history)"
   ]
  },
  {
   "cell_type": "markdown",
   "metadata": {
    "id": "QuCh9aQPv7F_"
   },
   "source": [
    "---\n",
    "### Exercise 2: Comparing logistic regrerssion models (8 points)\n",
    "Train the one-hot model using both the concatenating and the averaging strategies and compare the results. Let's call these *LR-C* (Logistic Regression Concatenating) and *LR-A* (Logistic Regression Averaging). Then answer the following questions:\n",
    "\n",
    "1. What are the final training and validation accuracies for LR-C and LR-A?\n",
    "2. How many parameters are there in each model?\n",
    "3. Would you say that either model is overfitting? Why or why not?\n",
    "4. Briefly describe how LR-C differs from LR-A. How do you explain the relationship between their respective validation accuracy results? "
   ]
  },
  {
   "cell_type": "markdown",
   "metadata": {
    "id": "CEAN5BejHc__"
   },
   "source": [
    "*Written answers:*\n",
    "\n",
    "1. Model *LR-C* (Logistic Regression Concatenating) has a final training accuracy of 0.8100 and a final validation accuracy of 0.6816. Model *LR-A* (Logistic Regression Averaging) has a final training accuracy of 0.6942 and a final validation accuracy of 0.6884.    \n",
    "2. Model *LR-C* (Logistic Regression Concatenating) flattens by turning (20 x 1000) data into (20000,) parameters. Model *LR-A* (Logistic Regression Averaging) flattens turning (20 x 1000) data into (1000,) parameters.\n",
    "3. Model *LR-C* (Logistic Regression Concatenating) is overfitting. The model is performing well on the training data but is not well with the validation data. \n",
    "4. Model *LR-C* (Logistic Regression Concatenating) = The result is a separate feature for each token at each position. Model *LR-A* (Logistic Regression Averaging) = The result is an array with average token counts, ignoring position. The concatenating has a final validation accuracy of 0.6816. The averaging has a final validation accuracy of 0.6884. With these results the Logistic Regression Averaging does not suffer of overfitting. \n"
   ]
  },
  {
   "cell_type": "code",
   "execution_count": 141,
   "metadata": {},
   "outputs": [
    {
     "name": "stdout",
     "output_type": "stream",
     "text": [
      "Epoch 1/5\n",
      "352/352 [==============================] - 2s 4ms/step - loss: 0.6790 - accuracy: 0.6068 - val_loss: 0.6661 - val_accuracy: 0.6552\n",
      "Epoch 2/5\n",
      "352/352 [==============================] - 1s 4ms/step - loss: 0.6337 - accuracy: 0.7413 - val_loss: 0.6456 - val_accuracy: 0.6700\n",
      "Epoch 3/5\n",
      "352/352 [==============================] - 1s 4ms/step - loss: 0.5970 - accuracy: 0.7754 - val_loss: 0.6295 - val_accuracy: 0.6756\n",
      "Epoch 4/5\n",
      "352/352 [==============================] - 1s 4ms/step - loss: 0.5668 - accuracy: 0.7960 - val_loss: 0.6184 - val_accuracy: 0.6784\n",
      "Epoch 5/5\n",
      "352/352 [==============================] - 1s 4ms/step - loss: 0.5412 - accuracy: 0.8100 - val_loss: 0.6092 - val_accuracy: 0.6816\n"
     ]
    },
    {
     "data": {
      "image/png": "[encoded data removed]",
      "text/plain": [
       "<Figure size 432x288 with 1 Axes>"
      ]
     },
     "metadata": {},
     "output_type": "display_data"
    },
    {
     "name": "stdout",
     "output_type": "stream",
     "text": [
      "Model: \"sequential\"\n",
      "_________________________________________________________________\n",
      " Layer (type)                Output Shape              Param #   \n",
      "=================================================================\n",
      " flatten (Flatten)           (None, 20000)             0         \n",
      "                                                                 \n",
      " dense (Dense)               (None, 1)                 20001     \n",
      "                                                                 \n",
      "=================================================================\n",
      "Total params: 20,001\n",
      "Trainable params: 20,001\n",
      "Non-trainable params: 0\n",
      "_________________________________________________________________\n"
     ]
    }
   ],
   "source": [
    "\n",
    "# def build_onehot_model(average_over_positions=False):\n",
    "# Logistic Regression Concatenating \n",
    "\n",
    "# if average_over_positions = False \n",
    "# Will use Concatenate \n",
    "\n",
    "model = build_onehot_model(average_over_positions=False)\n",
    "\n",
    "# Fit the model.\n",
    "history = model.fit(\n",
    "  x = X_train_one_hot,  # one-hot training data\n",
    "  y = Y_train,          # corresponding binary labels\n",
    "  epochs=5,             # number of passes through the training data\n",
    "  batch_size=64,        # mini-batch size\n",
    "  validation_split=0.1, # use a fraction of the examples for validation\n",
    "  verbose=1             # display some progress output during training\n",
    "  )\n",
    "\n",
    "# Convert the return value into a DataFrame so we can see the train loss \n",
    "# and binary accuracy after every epoch.\n",
    "history = pd.DataFrame(history.history)\n",
    "plot_history(history)\n",
    "\n",
    "# print model summary\n",
    "model.summary()\n"
   ]
  },
  {
   "cell_type": "code",
   "execution_count": 142,
   "metadata": {},
   "outputs": [
    {
     "name": "stdout",
     "output_type": "stream",
     "text": [
      "Epoch 1/5\n",
      "352/352 [==============================] - 2s 4ms/step - loss: 0.6908 - accuracy: 0.6044 - val_loss: 0.6886 - val_accuracy: 0.6336\n",
      "Epoch 2/5\n",
      "352/352 [==============================] - 1s 3ms/step - loss: 0.6857 - accuracy: 0.6689 - val_loss: 0.6840 - val_accuracy: 0.6664\n",
      "Epoch 3/5\n",
      "352/352 [==============================] - 1s 3ms/step - loss: 0.6808 - accuracy: 0.6715 - val_loss: 0.6793 - val_accuracy: 0.6844\n",
      "Epoch 4/5\n",
      "352/352 [==============================] - 1s 3ms/step - loss: 0.6761 - accuracy: 0.6933 - val_loss: 0.6751 - val_accuracy: 0.6852\n",
      "Epoch 5/5\n",
      "352/352 [==============================] - 1s 3ms/step - loss: 0.6715 - accuracy: 0.6942 - val_loss: 0.6711 - val_accuracy: 0.6884\n"
     ]
    },
    {
     "data": {
      "image/png": "[encoded data removed]",
      "text/plain": [
       "<Figure size 432x288 with 1 Axes>"
      ]
     },
     "metadata": {},
     "output_type": "display_data"
    },
    {
     "name": "stdout",
     "output_type": "stream",
     "text": [
      "Model: \"sequential\"\n",
      "_________________________________________________________________\n",
      " Layer (type)                Output Shape              Param #   \n",
      "=================================================================\n",
      " global_average_pooling1d (G  (None, 1000)             0         \n",
      " lobalAveragePooling1D)                                          \n",
      "                                                                 \n",
      " dense (Dense)               (None, 1)                 1001      \n",
      "                                                                 \n",
      "=================================================================\n",
      "Total params: 1,001\n",
      "Trainable params: 1,001\n",
      "Non-trainable params: 0\n",
      "_________________________________________________________________\n"
     ]
    }
   ],
   "source": [
    "\n",
    "# def build_onehot_model(average_over_positions=False):\n",
    "# Logistic Regression Averaging\n",
    "\n",
    "# if average_over_positions = True \n",
    "# This layer averages over the first dimension of the input by default.\n",
    "\n",
    "model = build_onehot_model(average_over_positions=True)\n",
    "\n",
    "# Fit the model.\n",
    "history = model.fit(\n",
    "  x = X_train_one_hot,  # one-hot training data\n",
    "  y = Y_train,          # corresponding binary labels\n",
    "  epochs=5,             # number of passes through the training data\n",
    "  batch_size=64,        # mini-batch size\n",
    "  validation_split=0.1, # use a fraction of the examples for validation\n",
    "  verbose=1             # display some progress output during training\n",
    "  )\n",
    "\n",
    "# Convert the return value into a DataFrame so we can see the train loss \n",
    "# and binary accuracy after every epoch.\n",
    "history = pd.DataFrame(history.history)\n",
    "plot_history(history)\n",
    "\n",
    "# print model summary\n",
    "model.summary()\n"
   ]
  },
  {
   "cell_type": "markdown",
   "metadata": {},
   "source": [
    "---"
   ]
  },
  {
   "cell_type": "markdown",
   "metadata": {
    "id": "sJIBRqK7lsjG"
   },
   "source": [
    "## Logistic Regression with Embeddings\n",
    "Next, let's train model that replaces one-hot representations of each token with learned embeddings.\n",
    "\n",
    "The code below uses a Keras Embedding layer, which expects to receive a sparse (rather than one-hot) representation. That is, it expects a (padded) sequence of token ids; for each id, it looks up the corresponding embedding vector."
   ]
  },
  {
   "cell_type": "code",
   "execution_count": 143,
   "metadata": {
    "id": "ho6uOeCaBs2e"
   },
   "outputs": [],
   "source": [
    "def build_embeddings_model(average_over_positions=False,\n",
    "                           vocab_size=1000,\n",
    "                           sequence_length=20,\n",
    "                           embedding_dim=2):\n",
    "  \"\"\"Build a tf.keras model using embeddings.\"\"\"\n",
    "  # Clear session and remove randomness.\n",
    "  tf.keras.backend.clear_session()\n",
    "  tf.random.set_seed(0)\n",
    "\n",
    "  model = tf.keras.Sequential()\n",
    "  model.add(tf.keras.layers.Embedding(\n",
    "      input_dim=vocab_size,\n",
    "      output_dim=embedding_dim,\n",
    "      input_length=sequence_length)\n",
    "  )\n",
    "\n",
    "  if average_over_positions:\n",
    "    # This layer averages over the first dimension of the input by default.\n",
    "    model.add(tf.keras.layers.GlobalAveragePooling1D())\n",
    "  else:\n",
    "    # Concatenate.\n",
    "    model.add(tf.keras.layers.Flatten())\n",
    "  model.add(tf.keras.layers.Dense(\n",
    "      units=1,                     # output dim (for binary classification)\n",
    "      activation='sigmoid'         # apply the sigmoid function!\n",
    "  ))\n",
    "\n",
    "  model.compile(loss='binary_crossentropy', \n",
    "                optimizer='adam',\n",
    "                metrics=['accuracy'])\n",
    "\n",
    "  return model"
   ]
  },
  {
   "cell_type": "markdown",
   "metadata": {
    "id": "eyhoEjAiFSNB"
   },
   "source": [
    "Try training the model as before. We'll use the averaging strategy rather than the concatenating strategy for dealing with the token sequence. That is, we'll look up embedding vectors for each token. Then we'll average them to produce a single vector. Then we'll traing a logistic regression with that vector as input to predict the binary label."
   ]
  },
  {
   "cell_type": "code",
   "execution_count": 144,
   "metadata": {
    "colab": {
     "base_uri": "https://localhost:8080/",
     "height": 478
    },
    "executionInfo": {
     "elapsed": 5490,
     "status": "ok",
     "timestamp": 1646684762935,
     "user": {
      "displayName": "Daniel Gillick",
      "photoUrl": "https://lh3.googleusercontent.com/a-/AOh14Gg9DrSMlwYnG9EolecuJqe8n9m7fpcje4_UbYrhQ10=s64",
      "userId": "01872965353911650729"
     },
     "user_tz": 600
    },
    "id": "uYUE5UwkxoU8",
    "outputId": "20a4c237-8c49-4b24-9ea1-e0f325cb9908"
   },
   "outputs": [
    {
     "name": "stdout",
     "output_type": "stream",
     "text": [
      "Epoch 1/5\n",
      "352/352 [==============================] - 1s 2ms/step - loss: 0.6891 - accuracy: 0.6316 - val_loss: 0.6829 - val_accuracy: 0.6612\n",
      "Epoch 2/5\n",
      "352/352 [==============================] - 0s 1ms/step - loss: 0.6713 - accuracy: 0.6893 - val_loss: 0.6610 - val_accuracy: 0.6860\n",
      "Epoch 3/5\n",
      "352/352 [==============================] - 0s 1ms/step - loss: 0.6448 - accuracy: 0.7018 - val_loss: 0.6349 - val_accuracy: 0.6980\n",
      "Epoch 4/5\n",
      "352/352 [==============================] - 0s 1ms/step - loss: 0.6174 - accuracy: 0.7140 - val_loss: 0.6119 - val_accuracy: 0.7040\n",
      "Epoch 5/5\n",
      "352/352 [==============================] - 0s 1ms/step - loss: 0.5933 - accuracy: 0.7190 - val_loss: 0.5931 - val_accuracy: 0.7100\n"
     ]
    },
    {
     "data": {
      "image/png": "[encoded data removed]",
      "text/plain": [
       "<Figure size 432x288 with 1 Axes>"
      ]
     },
     "metadata": {},
     "output_type": "display_data"
    }
   ],
   "source": [
    "model = build_embeddings_model(average_over_positions=True,\n",
    "                               vocab_size=1000,\n",
    "                               sequence_length=20,\n",
    "                               embedding_dim=2)\n",
    "history = model.fit(\n",
    "  x = X_train_reduced,  # our sparse padded training data\n",
    "  y = Y_train,          # corresponding binary labels\n",
    "  epochs=5,             # number of passes through the training data\n",
    "  batch_size=64,        # mini-batch size\n",
    "  validation_split=0.1, # use a fraction of the examples for validation\n",
    "  verbose=1             # display some progress output during training\n",
    "  )\n",
    "\n",
    "history = pd.DataFrame(history.history)\n",
    "plot_history(history)"
   ]
  },
  {
   "cell_type": "markdown",
   "metadata": {
    "id": "V3k__61hFnag"
   },
   "source": [
    "---\n",
    "### Exercise 3: Experiments with embeddings (8 points)\n",
    "Train 6 models with embedding sizes in [2,4,8,16,32,64], keeping other settings fixed. Use the averaging strategy rather than the concatenating strategy.\n",
    "\n",
    "1. Construct a table with the training and validation accuracies of each model (after 5 training epochs).\n",
    "2. Compute the number of parameters in each model.\n",
    "3. Do learned embeddings appear to provide improved performance over the one-hot encoding? Why?"
   ]
  },
  {
   "cell_type": "markdown",
   "metadata": {
    "id": "O7t46ZdX2ofd"
   },
   "source": [
    "*Written answers:*\n",
    "\n",
    "1. \n",
    "    |Model Embedding Size|Training Accuracies|Validation Accuracies|\n",
    "    |-|-|-|\n",
    "    |2|0.7190|0.7100|\n",
    "    |4|0.7302|0.7164|\n",
    "    |8|0.7413|0.7208|\n",
    "    |16|0.7484 |0.7268|\n",
    "    |32|0.7520|0.7300|\n",
    "    |64|0.7551|0.7284|\n"
   ]
  },
  {
   "cell_type": "markdown",
   "metadata": {},
   "source": [
    "2. \n",
    "    |Model Embedding Size| Total params|\n",
    "    |-|-|\n",
    "    |2| 2,003|\n",
    "    |4|4,005|\n",
    "    |8|8,009|\n",
    "    |16|16,017|\n",
    "    |32|32,033|\n",
    "    |64|64,065|\n"
   ]
  },
  {
   "cell_type": "markdown",
   "metadata": {},
   "source": [
    "3. \n",
    "    |Model|Training Accuracies|Validation Accuracies|\n",
    "    |-|-|-|\n",
    "    |One-Hot Encoding|0.8100|0.6816|\n",
    "    \n",
    "The one-hot model encoding had a training accuracy of 0.8100 but a validation accuracy of 0.6816. This model suffered from overfitting. \n",
    "\n",
    "The Embedding model's training accuracy and validation accuracies both increased with more embeddings. "
   ]
  },
  {
   "cell_type": "code",
   "execution_count": 145,
   "metadata": {},
   "outputs": [
    {
     "name": "stdout",
     "output_type": "stream",
     "text": [
      "Epoch 1/5\n",
      "352/352 [==============================] - 1s 2ms/step - loss: 0.6891 - accuracy: 0.6316 - val_loss: 0.6829 - val_accuracy: 0.6612\n",
      "Epoch 2/5\n",
      "352/352 [==============================] - 0s 1ms/step - loss: 0.6713 - accuracy: 0.6893 - val_loss: 0.6610 - val_accuracy: 0.6860\n",
      "Epoch 3/5\n",
      "352/352 [==============================] - 0s 1ms/step - loss: 0.6448 - accuracy: 0.7018 - val_loss: 0.6349 - val_accuracy: 0.6980\n",
      "Epoch 4/5\n",
      "352/352 [==============================] - 0s 1ms/step - loss: 0.6174 - accuracy: 0.7140 - val_loss: 0.6119 - val_accuracy: 0.7040\n",
      "Epoch 5/5\n",
      "352/352 [==============================] - 0s 1ms/step - loss: 0.5933 - accuracy: 0.7190 - val_loss: 0.5931 - val_accuracy: 0.7100\n"
     ]
    },
    {
     "data": {
      "image/png": "[encoded data removed]",
      "text/plain": [
       "<Figure size 432x288 with 1 Axes>"
      ]
     },
     "metadata": {},
     "output_type": "display_data"
    },
    {
     "name": "stdout",
     "output_type": "stream",
     "text": [
      "Model: \"sequential\"\n",
      "_________________________________________________________________\n",
      " Layer (type)                Output Shape              Param #   \n",
      "=================================================================\n",
      " embedding (Embedding)       (None, 20, 2)             2000      \n",
      "                                                                 \n",
      " global_average_pooling1d (G  (None, 2)                0         \n",
      " lobalAveragePooling1D)                                          \n",
      "                                                                 \n",
      " dense (Dense)               (None, 1)                 3         \n",
      "                                                                 \n",
      "=================================================================\n",
      "Total params: 2,003\n",
      "Trainable params: 2,003\n",
      "Non-trainable params: 0\n",
      "_________________________________________________________________\n"
     ]
    }
   ],
   "source": [
    "# Train 6 models with embedding sizes in [2,4,8,16,32,64], keeping other settings fixed. Use the averaging strategy rather than the concatenating strategy.\n",
    "\n",
    "# model with 2 embedding size\n",
    "model = build_embeddings_model(average_over_positions=True,\n",
    "                               vocab_size=1000,\n",
    "                               sequence_length=20,\n",
    "                               embedding_dim=2)\n",
    "history = model.fit(\n",
    "  x = X_train_reduced,  # our sparse padded training data\n",
    "  y = Y_train,          # corresponding binary labels\n",
    "  epochs=5,             # number of passes through the training data\n",
    "  batch_size=64,        # mini-batch size\n",
    "  validation_split=0.1, # use a fraction of the examples for validation\n",
    "  verbose=1             # display some progress output during training\n",
    "  )\n",
    "\n",
    "history = pd.DataFrame(history.history)\n",
    "plot_history(history)\n",
    "\n",
    "# print model summary\n",
    "model.summary()\n"
   ]
  },
  {
   "cell_type": "code",
   "execution_count": 146,
   "metadata": {},
   "outputs": [
    {
     "name": "stdout",
     "output_type": "stream",
     "text": [
      "Epoch 1/5\n",
      "352/352 [==============================] - 1s 2ms/step - loss: 0.6846 - accuracy: 0.6379 - val_loss: 0.6731 - val_accuracy: 0.6668\n",
      "Epoch 2/5\n",
      "352/352 [==============================] - 0s 1ms/step - loss: 0.6531 - accuracy: 0.6973 - val_loss: 0.6377 - val_accuracy: 0.7004\n",
      "Epoch 3/5\n",
      "352/352 [==============================] - 0s 1ms/step - loss: 0.6141 - accuracy: 0.7124 - val_loss: 0.6042 - val_accuracy: 0.7044\n",
      "Epoch 4/5\n",
      "352/352 [==============================] - 0s 1ms/step - loss: 0.5814 - accuracy: 0.7222 - val_loss: 0.5807 - val_accuracy: 0.7128\n",
      "Epoch 5/5\n",
      "352/352 [==============================] - 0s 1ms/step - loss: 0.5573 - accuracy: 0.7302 - val_loss: 0.5646 - val_accuracy: 0.7164\n"
     ]
    },
    {
     "data": {
      "image/png": "[encoded data removed]",
      "text/plain": [
       "<Figure size 432x288 with 1 Axes>"
      ]
     },
     "metadata": {},
     "output_type": "display_data"
    },
    {
     "name": "stdout",
     "output_type": "stream",
     "text": [
      "Model: \"sequential\"\n",
      "_________________________________________________________________\n",
      " Layer (type)                Output Shape              Param #   \n",
      "=================================================================\n",
      " embedding (Embedding)       (None, 20, 4)             4000      \n",
      "                                                                 \n",
      " global_average_pooling1d (G  (None, 4)                0         \n",
      " lobalAveragePooling1D)                                          \n",
      "                                                                 \n",
      " dense (Dense)               (None, 1)                 5         \n",
      "                                                                 \n",
      "=================================================================\n",
      "Total params: 4,005\n",
      "Trainable params: 4,005\n",
      "Non-trainable params: 0\n",
      "_________________________________________________________________\n"
     ]
    }
   ],
   "source": [
    "# Train 6 models with embedding sizes in [2,4,8,16,32,64], keeping other settings fixed. Use the averaging strategy rather than the concatenating strategy.\n",
    "\n",
    "# model with 4 embedding size\n",
    "model = build_embeddings_model(average_over_positions=True,\n",
    "                               vocab_size=1000,\n",
    "                               sequence_length=20,\n",
    "                               embedding_dim=4)\n",
    "history = model.fit(\n",
    "  x = X_train_reduced,  # our sparse padded training data\n",
    "  y = Y_train,          # corresponding binary labels\n",
    "  epochs=5,             # number of passes through the training data\n",
    "  batch_size=64,        # mini-batch size\n",
    "  validation_split=0.1, # use a fraction of the examples for validation\n",
    "  verbose=1             # display some progress output during training\n",
    "  )\n",
    "\n",
    "history = pd.DataFrame(history.history)\n",
    "plot_history(history)\n",
    "\n",
    "# print model summary\n",
    "model.summary()\n"
   ]
  },
  {
   "cell_type": "code",
   "execution_count": 147,
   "metadata": {},
   "outputs": [
    {
     "name": "stdout",
     "output_type": "stream",
     "text": [
      "Epoch 1/5\n",
      "352/352 [==============================] - 1s 2ms/step - loss: 0.6798 - accuracy: 0.6510 - val_loss: 0.6603 - val_accuracy: 0.6748\n",
      "Epoch 2/5\n",
      "352/352 [==============================] - 1s 2ms/step - loss: 0.6296 - accuracy: 0.7083 - val_loss: 0.6096 - val_accuracy: 0.7040\n",
      "Epoch 3/5\n",
      "352/352 [==============================] - 1s 2ms/step - loss: 0.5806 - accuracy: 0.7212 - val_loss: 0.5751 - val_accuracy: 0.7132\n",
      "Epoch 4/5\n",
      "352/352 [==============================] - 1s 1ms/step - loss: 0.5488 - accuracy: 0.7327 - val_loss: 0.5564 - val_accuracy: 0.7216\n",
      "Epoch 5/5\n",
      "352/352 [==============================] - 0s 1ms/step - loss: 0.5290 - accuracy: 0.7413 - val_loss: 0.5457 - val_accuracy: 0.7208\n"
     ]
    },
    {
     "data": {
      "image/png": "[encoded data removed]",
      "text/plain": [
       "<Figure size 432x288 with 1 Axes>"
      ]
     },
     "metadata": {},
     "output_type": "display_data"
    },
    {
     "name": "stdout",
     "output_type": "stream",
     "text": [
      "Model: \"sequential\"\n",
      "_________________________________________________________________\n",
      " Layer (type)                Output Shape              Param #   \n",
      "=================================================================\n",
      " embedding (Embedding)       (None, 20, 8)             8000      \n",
      "                                                                 \n",
      " global_average_pooling1d (G  (None, 8)                0         \n",
      " lobalAveragePooling1D)                                          \n",
      "                                                                 \n",
      " dense (Dense)               (None, 1)                 9         \n",
      "                                                                 \n",
      "=================================================================\n",
      "Total params: 8,009\n",
      "Trainable params: 8,009\n",
      "Non-trainable params: 0\n",
      "_________________________________________________________________\n"
     ]
    }
   ],
   "source": [
    "# Train 6 models with embedding sizes in [2,4,8,16,32,64], keeping other settings fixed. Use the averaging strategy rather than the concatenating strategy.\n",
    "\n",
    "# model with 8 embedding size\n",
    "model = build_embeddings_model(average_over_positions=True,\n",
    "                               vocab_size=1000,\n",
    "                               sequence_length=20,\n",
    "                               embedding_dim=8)\n",
    "history = model.fit(\n",
    "  x = X_train_reduced,  # our sparse padded training data\n",
    "  y = Y_train,          # corresponding binary labels\n",
    "  epochs=5,             # number of passes through the training data\n",
    "  batch_size=64,        # mini-batch size\n",
    "  validation_split=0.1, # use a fraction of the examples for validation\n",
    "  verbose=1             # display some progress output during training\n",
    "  )\n",
    "\n",
    "history = pd.DataFrame(history.history)\n",
    "plot_history(history)\n",
    "\n",
    "# print model summary\n",
    "model.summary()\n"
   ]
  },
  {
   "cell_type": "code",
   "execution_count": 148,
   "metadata": {},
   "outputs": [
    {
     "name": "stdout",
     "output_type": "stream",
     "text": [
      "Epoch 1/5\n",
      "352/352 [==============================] - 1s 2ms/step - loss: 0.6706 - accuracy: 0.6575 - val_loss: 0.6400 - val_accuracy: 0.6860\n",
      "Epoch 2/5\n",
      "352/352 [==============================] - 0s 1ms/step - loss: 0.5993 - accuracy: 0.7148 - val_loss: 0.5806 - val_accuracy: 0.7096\n",
      "Epoch 3/5\n",
      "352/352 [==============================] - 0s 1ms/step - loss: 0.5493 - accuracy: 0.7308 - val_loss: 0.5531 - val_accuracy: 0.7208\n",
      "Epoch 4/5\n",
      "352/352 [==============================] - 0s 1ms/step - loss: 0.5238 - accuracy: 0.7418 - val_loss: 0.5418 - val_accuracy: 0.7204\n",
      "Epoch 5/5\n",
      "352/352 [==============================] - 0s 1ms/step - loss: 0.5102 - accuracy: 0.7484 - val_loss: 0.5365 - val_accuracy: 0.7268\n"
     ]
    },
    {
     "data": {
      "image/png": "[encoded data removed]",
      "text/plain": [
       "<Figure size 432x288 with 1 Axes>"
      ]
     },
     "metadata": {},
     "output_type": "display_data"
    },
    {
     "name": "stdout",
     "output_type": "stream",
     "text": [
      "Model: \"sequential\"\n",
      "_________________________________________________________________\n",
      " Layer (type)                Output Shape              Param #   \n",
      "=================================================================\n",
      " embedding (Embedding)       (None, 20, 16)            16000     \n",
      "                                                                 \n",
      " global_average_pooling1d (G  (None, 16)               0         \n",
      " lobalAveragePooling1D)                                          \n",
      "                                                                 \n",
      " dense (Dense)               (None, 1)                 17        \n",
      "                                                                 \n",
      "=================================================================\n",
      "Total params: 16,017\n",
      "Trainable params: 16,017\n",
      "Non-trainable params: 0\n",
      "_________________________________________________________________\n"
     ]
    }
   ],
   "source": [
    "# Train 6 models with embedding sizes in [2,4,8,16,32,64], keeping other settings fixed. Use the averaging strategy rather than the concatenating strategy.\n",
    "\n",
    "# model with 16 embedding size\n",
    "model = build_embeddings_model(average_over_positions=True,\n",
    "                               vocab_size=1000,\n",
    "                               sequence_length=20,\n",
    "                               embedding_dim=16)\n",
    "history = model.fit(\n",
    "  x = X_train_reduced,  # our sparse padded training data\n",
    "  y = Y_train,          # corresponding binary labels\n",
    "  epochs=5,             # number of passes through the training data\n",
    "  batch_size=64,        # mini-batch size\n",
    "  validation_split=0.1, # use a fraction of the examples for validation\n",
    "  verbose=1             # display some progress output during training\n",
    "  )\n",
    "\n",
    "history = pd.DataFrame(history.history)\n",
    "plot_history(history)\n",
    "\n",
    "# print model summary\n",
    "model.summary()\n"
   ]
  },
  {
   "cell_type": "code",
   "execution_count": 149,
   "metadata": {},
   "outputs": [
    {
     "name": "stdout",
     "output_type": "stream",
     "text": [
      "Epoch 1/5\n",
      "352/352 [==============================] - 1s 2ms/step - loss: 0.6580 - accuracy: 0.6629 - val_loss: 0.6147 - val_accuracy: 0.6944\n",
      "Epoch 2/5\n",
      "352/352 [==============================] - 1s 2ms/step - loss: 0.5686 - accuracy: 0.7231 - val_loss: 0.5574 - val_accuracy: 0.7172\n",
      "Epoch 3/5\n",
      "352/352 [==============================] - 1s 2ms/step - loss: 0.5258 - accuracy: 0.7407 - val_loss: 0.5403 - val_accuracy: 0.7252\n",
      "Epoch 4/5\n",
      "352/352 [==============================] - 1s 1ms/step - loss: 0.5082 - accuracy: 0.7464 - val_loss: 0.5354 - val_accuracy: 0.7276\n",
      "Epoch 5/5\n",
      "352/352 [==============================] - 1s 2ms/step - loss: 0.5001 - accuracy: 0.7520 - val_loss: 0.5338 - val_accuracy: 0.7300\n"
     ]
    },
    {
     "data": {
      "image/png": "[encoded data removed]",
      "text/plain": [
       "<Figure size 432x288 with 1 Axes>"
      ]
     },
     "metadata": {},
     "output_type": "display_data"
    },
    {
     "name": "stdout",
     "output_type": "stream",
     "text": [
      "Model: \"sequential\"\n",
      "_________________________________________________________________\n",
      " Layer (type)                Output Shape              Param #   \n",
      "=================================================================\n",
      " embedding (Embedding)       (None, 20, 32)            32000     \n",
      "                                                                 \n",
      " global_average_pooling1d (G  (None, 32)               0         \n",
      " lobalAveragePooling1D)                                          \n",
      "                                                                 \n",
      " dense (Dense)               (None, 1)                 33        \n",
      "                                                                 \n",
      "=================================================================\n",
      "Total params: 32,033\n",
      "Trainable params: 32,033\n",
      "Non-trainable params: 0\n",
      "_________________________________________________________________\n"
     ]
    }
   ],
   "source": [
    "# Train 6 models with embedding sizes in [2,4,8,16,32,64], keeping other settings fixed. Use the averaging strategy rather than the concatenating strategy.\n",
    "\n",
    "# model with 32 embedding size\n",
    "model = build_embeddings_model(average_over_positions=True,\n",
    "                               vocab_size=1000,\n",
    "                               sequence_length=20,\n",
    "                               embedding_dim=32)\n",
    "history = model.fit(\n",
    "  x = X_train_reduced,  # our sparse padded training data\n",
    "  y = Y_train,          # corresponding binary labels\n",
    "  epochs=5,             # number of passes through the training data\n",
    "  batch_size=64,        # mini-batch size\n",
    "  validation_split=0.1, # use a fraction of the examples for validation\n",
    "  verbose=1             # display some progress output during training\n",
    "  )\n",
    "\n",
    "history = pd.DataFrame(history.history)\n",
    "plot_history(history)\n",
    "\n",
    "# print model summary\n",
    "model.summary()\n"
   ]
  },
  {
   "cell_type": "code",
   "execution_count": 150,
   "metadata": {},
   "outputs": [
    {
     "name": "stdout",
     "output_type": "stream",
     "text": [
      "Epoch 1/5\n",
      "352/352 [==============================] - 1s 2ms/step - loss: 0.6424 - accuracy: 0.6670 - val_loss: 0.5872 - val_accuracy: 0.7088\n",
      "Epoch 2/5\n",
      "352/352 [==============================] - 1s 2ms/step - loss: 0.5429 - accuracy: 0.7327 - val_loss: 0.5431 - val_accuracy: 0.7220\n",
      "Epoch 3/5\n",
      "352/352 [==============================] - 1s 2ms/step - loss: 0.5115 - accuracy: 0.7446 - val_loss: 0.5352 - val_accuracy: 0.7312\n",
      "Epoch 4/5\n",
      "352/352 [==============================] - 1s 2ms/step - loss: 0.5004 - accuracy: 0.7496 - val_loss: 0.5346 - val_accuracy: 0.7296\n",
      "Epoch 5/5\n",
      "352/352 [==============================] - 1s 2ms/step - loss: 0.4962 - accuracy: 0.7551 - val_loss: 0.5348 - val_accuracy: 0.7284\n"
     ]
    },
    {
     "data": {
      "image/png": "[encoded data removed]",
      "text/plain": [
       "<Figure size 432x288 with 1 Axes>"
      ]
     },
     "metadata": {},
     "output_type": "display_data"
    },
    {
     "name": "stdout",
     "output_type": "stream",
     "text": [
      "Model: \"sequential\"\n",
      "_________________________________________________________________\n",
      " Layer (type)                Output Shape              Param #   \n",
      "=================================================================\n",
      " embedding (Embedding)       (None, 20, 64)            64000     \n",
      "                                                                 \n",
      " global_average_pooling1d (G  (None, 64)               0         \n",
      " lobalAveragePooling1D)                                          \n",
      "                                                                 \n",
      " dense (Dense)               (None, 1)                 65        \n",
      "                                                                 \n",
      "=================================================================\n",
      "Total params: 64,065\n",
      "Trainable params: 64,065\n",
      "Non-trainable params: 0\n",
      "_________________________________________________________________\n"
     ]
    }
   ],
   "source": [
    "# Train 6 models with embedding sizes in [2,4,8,16,32,64], keeping other settings fixed. Use the averaging strategy rather than the concatenating strategy.\n",
    "\n",
    "# model with 64 embedding size\n",
    "model = build_embeddings_model(average_over_positions=True,\n",
    "                               vocab_size=1000,\n",
    "                               sequence_length=20,\n",
    "                               embedding_dim=64)\n",
    "history = model.fit(\n",
    "  x = X_train_reduced,  # our sparse padded training data\n",
    "  y = Y_train,          # corresponding binary labels\n",
    "  epochs=5,             # number of passes through the training data\n",
    "  batch_size=64,        # mini-batch size\n",
    "  validation_split=0.1, # use a fraction of the examples for validation\n",
    "  verbose=1             # display some progress output during training\n",
    "  )\n",
    "\n",
    "history = pd.DataFrame(history.history)\n",
    "plot_history(history)\n",
    "\n",
    "# print model summary\n",
    "model.summary()\n"
   ]
  },
  {
   "cell_type": "markdown",
   "metadata": {},
   "source": [
    "---"
   ]
  },
  {
   "cell_type": "markdown",
   "metadata": {
    "id": "i2dWOuxqKHA6"
   },
   "source": [
    "## Inspecting Learned Embeddings\n",
    "Let's retrieve the learned embedding parameters from the trained model and plot the token embeddings.\n",
    "\n",
    "The model layers in a Keras Sequential model are stored as a list and the embeddings are the first layer. We can use the get_weights() function to get a numpy array with the parameters."
   ]
  },
  {
   "cell_type": "code",
   "execution_count": 154,
   "metadata": {
    "colab": {
     "base_uri": "https://localhost:8080/",
     "height": 86
    },
    "executionInfo": {
     "elapsed": 355,
     "status": "ok",
     "timestamp": 1646684774106,
     "user": {
      "displayName": "Daniel Gillick",
      "photoUrl": "https://lh3.googleusercontent.com/a-/AOh14Gg9DrSMlwYnG9EolecuJqe8n9m7fpcje4_UbYrhQ10=s64",
      "userId": "01872965353911650729"
     },
     "user_tz": 600
    },
    "id": "bfsbGSwkaFjo",
    "outputId": "d9d74723-012f-464f-a9f3-8a41d8178868"
   },
   "outputs": [
    {
     "data": {
      "text/plain": [
       "[<keras.layers.embeddings.Embedding at 0x12963a98580>,\n",
       " <keras.layers.pooling.GlobalAveragePooling1D at 0x12966c1c2b0>,\n",
       " <keras.layers.core.dense.Dense at 0x12966c1c070>]"
      ]
     },
     "metadata": {},
     "output_type": "display_data"
    },
    {
     "data": {
      "text/plain": [
       "(1000, 64)"
      ]
     },
     "metadata": {},
     "output_type": "display_data"
    }
   ],
   "source": [
    "# Display the model layers.\n",
    "display(model.layers)\n",
    "\n",
    "# Retrieve the embeddings layer, which itself is wrapped in a list.\n",
    "embeddings = model.layers[0].get_weights()[0]\n",
    "display(embeddings.shape)"
   ]
  },
  {
   "cell_type": "markdown",
   "metadata": {
    "id": "apPWscNwcXTE"
   },
   "source": [
    "Now we'll use a fancy plotting tool called *plotly* to show the embeddings with hovertext so you can move your mouse over the points to see the corresponding tokens."
   ]
  },
  {
   "cell_type": "code",
   "execution_count": 155,
   "metadata": {
    "colab": {
     "base_uri": "https://localhost:8080/",
     "height": 542
    },
    "executionInfo": {
     "elapsed": 453,
     "status": "ok",
     "timestamp": 1646684778338,
     "user": {
      "displayName": "Daniel Gillick",
      "photoUrl": "https://lh3.googleusercontent.com/a-/AOh14Gg9DrSMlwYnG9EolecuJqe8n9m7fpcje4_UbYrhQ10=s64",
      "userId": "01872965353911650729"
     },
     "user_tz": 600
    },
    "id": "5RZMTrA0KttL",
    "outputId": "f5ec9b65-84bb-4c28-c673-cf86a87112df"
   },
   "outputs": [
    {
     "data": {
      "application/vnd.plotly.v1+json": {
       "config": {
        "plotlyServerURL": "https://plot.ly"
       },
       "data": [
        {
         "hoverinfo": "text",
         "mode": "markers",
         "text": [
          "game",
          "past",
          "able",
          "b",
          "days",
          "turns",
          "child",
          "they're",
          "hand",
          "flick",
          "enjoyed",
          "act",
          "genre",
          "town",
          "favorite",
          "soon",
          "kill",
          "starts",
          "sometimes",
          "car",
          "gave",
          "run",
          "late",
          "eyes",
          "actress",
          "etc",
          "directed",
          "horrible",
          "won't",
          "viewer",
          "brilliant",
          "parts",
          "self",
          "themselves",
          "hour",
          "expect",
          "thinking",
          "stories",
          "stuff",
          "girls",
          "obviously",
          "blood",
          "decent",
          "city",
          "voice",
          "highly",
          "myself",
          "feeling",
          "fight",
          "except",
          "slow",
          "matter",
          "type",
          "anyway",
          "kid",
          "roles",
          "killed",
          "heard",
          "god",
          "age",
          "says",
          "moment",
          "took",
          "leave",
          "writer",
          "strong",
          "cannot",
          "violence",
          "police",
          "hit",
          "stop",
          "happens",
          "particularly",
          "known",
          "involved",
          "happened",
          "extremely",
          "daughter",
          "obvious",
          "told",
          "chance",
          "living",
          "coming",
          "lack",
          "alone",
          "experience",
          "wouldn't",
          "including",
          "murder",
          "attempt",
          "s",
          "please",
          "james",
          "happen",
          "wonder",
          "crap",
          "ago",
          "brother",
          "film's",
          "gore",
          "none",
          "complete",
          "interest",
          "score",
          "group",
          "cut",
          "simple",
          "save",
          "ok",
          "hell",
          "looked",
          "career",
          "number",
          "song",
          "possible",
          "seriously",
          "annoying",
          "shown",
          "exactly",
          "sad",
          "running",
          "musical",
          "serious",
          "taken",
          "yourself",
          "whose",
          "released",
          "cinematography",
          "david",
          "scary",
          "ends",
          "english",
          "hero",
          "usually",
          "hours",
          "reality",
          "opening",
          "i'll",
          "across",
          "today",
          "jokes",
          "light",
          "hilarious",
          "somewhat",
          "usual",
          "started",
          "cool",
          "ridiculous",
          "body",
          "relationship",
          "view",
          "level",
          "opinion",
          "change",
          "happy",
          "middle",
          "taking",
          "wish",
          "husband",
          "finds",
          "saying",
          "order",
          "talking",
          "ones",
          "documentary",
          "shots",
          "huge",
          "novel",
          "female",
          "mostly",
          "robert",
          "power",
          "episodes",
          "room",
          "important",
          "rating",
          "talent",
          "five",
          "major",
          "turned",
          "strange",
          "word",
          "modern",
          "call",
          "apparently",
          "disappointed",
          "single",
          "events",
          "due",
          "four",
          "songs",
          "basically",
          "attention",
          "7",
          "knows",
          "clearly",
          "supporting",
          "knew",
          "british",
          "television",
          "comic",
          "non",
          "fast",
          "earth",
          "country",
          "future",
          "cheap",
          "class",
          "thriller",
          "8",
          "silly",
          "king",
          "problems",
          "aren't",
          "easily",
          "words",
          "tells",
          "miss",
          "jack",
          "local",
          "sequence",
          "bring",
          "entertainment",
          "paul",
          "beyond",
          "upon",
          "whether",
          "predictable",
          "moving",
          "similar",
          "straight",
          "romantic",
          "sets",
          "review",
          "falls",
          "oscar",
          "mystery",
          "enjoyable",
          "needs",
          "appears",
          "talk",
          "rock",
          "george",
          "giving",
          "eye",
          "richard",
          "within",
          "ten",
          "animation",
          "message",
          "theater",
          "near",
          "above",
          "dull",
          "nearly",
          "sequel",
          "theme",
          "points",
          "'",
          "stand",
          "mention",
          "lady",
          "bunch",
          "add",
          "feels",
          "herself",
          "release",
          "red",
          "team",
          "storyline",
          "surprised",
          "ways",
          "using",
          "named",
          "haven't",
          "lots",
          "easy",
          "fantastic",
          "begins",
          "actual",
          "working",
          "effort",
          "york",
          "die",
          "hate",
          "french",
          "minute",
          "tale",
          "clear",
          "stay",
          "9",
          "elements",
          "feature",
          "among",
          "follow",
          "comments",
          "re",
          "viewers",
          "avoid",
          "sister",
          "showing",
          "typical",
          "editing",
          "what's",
          "famous",
          "tried",
          "sorry",
          "dialog",
          "check",
          "fall",
          "period",
          "season",
          "form",
          "certain",
          "filmed",
          "weak",
          "soundtrack",
          "means",
          "buy",
          "material",
          "somehow",
          "realistic",
          "figure",
          "crime",
          "doubt",
          "gone",
          "peter",
          "tom",
          "kept",
          "viewing",
          "t",
          "general",
          "leads",
          "greatest",
          "space",
          "lame",
          "suspense",
          "dance",
          "imagine",
          "brought",
          "third",
          "atmosphere",
          "hear",
          "particular",
          "sequences",
          "whatever",
          "parents",
          "move",
          "lee",
          "indeed",
          "learn",
          "rent",
          "de",
          "eventually",
          "note",
          "deal",
          "average",
          "reviews",
          "wait",
          "forget",
          "japanese",
          "sexual",
          "poorly",
          "premise",
          "okay",
          "zombie",
          "surprise",
          "believable",
          "stage",
          "possibly",
          "sit",
          "who's",
          "decided",
          "expected",
          "you've",
          "subject",
          "nature",
          "became",
          "difficult",
          "free",
          "killing",
          "screenplay",
          "truth",
          "romance",
          "dr",
          "nor",
          "reading",
          "needed",
          "question",
          "leaves",
          "street",
          "20",
          "meets",
          "hot",
          "unless",
          "begin",
          "baby",
          "superb",
          "credits",
          "imdb",
          "otherwise",
          "write",
          "shame",
          "let's",
          "situation",
          "dramatic",
          "memorable",
          "directors",
          "earlier",
          "meet",
          "disney",
          "open",
          "dog",
          "badly",
          "joe",
          "male",
          "weird",
          "acted",
          "forced",
          "laughs",
          "sci",
          "emotional",
          "older",
          "realize",
          "fi",
          "dream",
          "society",
          "writers",
          "interested",
          "footage",
          "forward",
          "comment",
          "crazy",
          "deep",
          "sounds",
          "plus",
          "beauty",
          "whom",
          "america",
          "fantasy",
          "directing",
          "keeps",
          "ask",
          "development",
          "features",
          "air",
          "quickly",
          "mess",
          "creepy",
          "towards",
          "perfectly",
          "mark",
          "worked",
          "box",
          "cheesy",
          "unique",
          "setting",
          "hands",
          "plenty",
          "result",
          "previous",
          "brings",
          "effect",
          "e",
          "total",
          "personal",
          "incredibly",
          "rate",
          "fire",
          "monster",
          "business",
          "leading",
          "apart",
          "casting",
          "admit",
          "joke",
          "powerful",
          "appear",
          "background",
          "telling",
          "girlfriend",
          "meant",
          "christmas",
          "hardly",
          "present",
          "battle",
          "potential",
          "create",
          "bill",
          "break",
          "pay",
          "masterpiece",
          "gay",
          "political",
          "return",
          "dumb",
          "fails",
          "fighting",
          "various",
          "era"
         ],
         "textposition": "bottom left",
         "type": "scatter",
         "x": [
          0.13556581735610962,
          0.05487977713346481,
          -0.02001570351421833,
          0.02809658832848072,
          0.09130466729402542,
          -0.0014408370479941368,
          0.060797519981861115,
          0.008549113757908344,
          -0.22127990424633026,
          -0.046586696058511734,
          0.21460123360157013,
          -0.08716815710067749,
          0.19255800545215607,
          0.02692001685500145,
          0.4544903337955475,
          0.10677877068519592,
          -0.10577055811882019,
          -0.026993069797754288,
          0.15543510019779205,
          -0.1395406723022461,
          -0.03253260999917984,
          -0.1458492875099182,
          0.07029788941144943,
          0.0873197540640831,
          0.017248623073101044,
          -0.16095370054244995,
          -0.053620871156454086,
          -0.5098900198936462,
          0.12430955469608307,
          -0.02159135416150093,
          0.37805622816085815,
          0.12632988393306732,
          -0.21199239790439606,
          -0.06328076869249344,
          0.03712783008813858,
          -0.05552995949983597,
          -0.05533730983734131,
          0.1855592578649521,
          0.07438918203115463,
          0.042154017835855484,
          -0.07509326189756393,
          0.04778926819562912,
          -0.2149229794740677,
          0.06952173262834549,
          0.11480452865362167,
          0.6590069532394409,
          0.06401913613080978,
          0.04520163685083389,
          -0.026461604982614517,
          -0.21767866611480713,
          -0.02722959779202938,
          0.09082615375518799,
          0.0012603740906342864,
          0.005765274632722139,
          -0.1453453004360199,
          -0.0671791136264801,
          -0.10072124749422073,
          0.12958639860153198,
          -0.17445571720600128,
          0.0945807546377182,
          -0.041783541440963745,
          -0.013179345987737179,
          -0.04668610543012619,
          -0.09031975269317627,
          -0.1407690793275833,
          0.20028436183929443,
          -0.034098170697689056,
          -0.0364450141787529,
          0.05752017721533775,
          0.3304421901702881,
          -0.09045110642910004,
          -0.254086971282959,
          -0.13128779828548431,
          0.0700778141617775,
          -0.19241268932819366,
          -0.03157728910446167,
          0.035336170345544815,
          -0.006512155756354332,
          -0.2052355855703354,
          -0.06686253100633621,
          0.3091610372066498,
          -0.11153725534677505,
          0.03603123128414154,
          -0.3618743419647217,
          -0.049173131585121155,
          0.11810269951820374,
          -0.3982143998146057,
          0.2504056990146637,
          -0.028859956189990044,
          -0.3636622130870819,
          0.007704183924943209,
          -0.03670600429177284,
          0.1428074836730957,
          0.06187465414404869,
          -0.04233932122588158,
          -0.4991096556186676,
          0.11793637275695801,
          0.015657303854823112,
          -0.12470357120037079,
          -0.24978949129581451,
          -0.20200982689857483,
          -0.093073271214962,
          -0.0989602580666542,
          0.0647309347987175,
          0.03312705084681511,
          0.13202297687530518,
          0.14670902490615845,
          -0.5809436440467834,
          -0.1101599931716919,
          -0.12353406846523285,
          -0.3006564974784851,
          -0.11197664588689804,
          0.08980000764131546,
          -0.0716850683093071,
          0.03553835675120354,
          -0.16808050870895386,
          -0.30467844009399414,
          0.10228024423122406,
          0.044458650052547455,
          -0.23004154860973358,
          -0.02758237160742283,
          0.03817848861217499,
          0.05025305971503258,
          0.051521990448236465,
          -0.1523256003856659,
          -0.02390490658581257,
          0.05464513972401619,
          -0.06344417482614517,
          -0.050307005643844604,
          -0.10085180401802063,
          0.06905008852481842,
          0.2590062618255615,
          0.12539029121398926,
          0.021058786660432816,
          -0.0981081873178482,
          0.11841104179620743,
          0.07307270914316177,
          -0.021423116326332092,
          -0.0006541749462485313,
          0.4226004481315613,
          -0.04719977080821991,
          0.1757342517375946,
          0.03872371464967728,
          0.040509846061468124,
          -0.038081418722867966,
          -0.07393721491098404,
          0.1507314145565033,
          -0.32927730679512024,
          -0.14439333975315094,
          0.1252290904521942,
          0.08721001446247101,
          -0.06015961244702339,
          -0.10428229719400406,
          0.16078171133995056,
          0.17906631529331207,
          -0.021368898451328278,
          -0.0017876399215310812,
          0.10105529427528381,
          -0.05939703434705734,
          0.08179757744073868,
          -0.09844886511564255,
          0.003146158764138818,
          0.09924212098121643,
          0.008186578750610352,
          0.09015318751335144,
          -0.19166690111160278,
          -0.16754432022571564,
          -0.04201584309339523,
          -0.11469689011573792,
          -0.015941036865115166,
          0.08706347644329071,
          -0.09945322573184967,
          0.1854352504014969,
          -0.06988702714443207,
          0.09669298678636551,
          -0.04902543127536774,
          -0.10936318337917328,
          -0.07770571857690811,
          -0.1638631969690323,
          -0.22945666313171387,
          0.020871419459581375,
          -0.11014482378959656,
          0.13592922687530518,
          -0.15288089215755463,
          -0.04645336791872978,
          -0.12659063935279846,
          -0.07461420446634293,
          0.09193158894777298,
          -0.12472420930862427,
          -0.03619113937020302,
          -0.012577968649566174,
          -0.1623390167951584,
          0.15873640775680542,
          0.7093765735626221,
          0.11082608252763748,
          -0.15980155766010284,
          0.034125104546546936,
          -0.2544879913330078,
          -0.1489924043416977,
          0.12466397136449814,
          0.11695674806833267,
          -0.05692841485142708,
          -0.14227992296218872,
          0.0003888252249453217,
          0.042855456471443176,
          0.16858170926570892,
          -0.35268089175224304,
          0.05812150985002518,
          0.2190282642841339,
          0.6361005306243896,
          -0.11015459895133972,
          -0.02158154733479023,
          -0.027398116886615753,
          -0.11233432590961456,
          0.15296457707881927,
          0.0714324414730072,
          0.16019824147224426,
          0.2205335646867752,
          0.160330131649971,
          -0.09826186299324036,
          0.15058107674121857,
          0.2073446661233902,
          0.09519381076097488,
          0.13804450631141663,
          -0.0036328809801489115,
          -0.09742993861436844,
          0.17408733069896698,
          -0.21905730664730072,
          0.25907695293426514,
          0.027758480980992317,
          -0.11543817073106766,
          0.11052382737398148,
          -0.038037095218896866,
          -0.028175625950098038,
          -0.15540336072444916,
          0.3007132411003113,
          0.005868814419955015,
          0.3405786156654358,
          -0.1054181307554245,
          -0.15692605078220367,
          0.10030027478933334,
          0.15018828213214874,
          -0.0624123252928257,
          0.03550250455737114,
          -0.04174225777387619,
          0.09025432914495468,
          0.12356803566217422,
          0.033136025071144104,
          -0.005179953761398792,
          0.227579265832901,
          -0.19027160108089447,
          -0.05734451860189438,
          -0.014517350122332573,
          -0.4141695499420166,
          0.11927393823862076,
          -0.035291336476802826,
          0.007273785769939423,
          -0.06985976547002792,
          -0.012602605856955051,
          0.03207690268754959,
          -0.01808004081249237,
          0.1005425900220871,
          0.12196358293294907,
          0.03711318224668503,
          -0.053735122084617615,
          0.24430780112743378,
          0.18318884074687958,
          -0.15144935250282288,
          0.10829317569732666,
          -0.04719523712992668,
          0.030952781438827515,
          0.0684756487607956,
          -0.08494124561548233,
          -0.22121554613113403,
          0.1539415717124939,
          0.04025617986917496,
          0.08361032605171204,
          0.26170504093170166,
          0.09265558421611786,
          -0.19160985946655273,
          -0.03300589323043823,
          -0.3076569139957428,
          -0.00659926375374198,
          -0.12028566002845764,
          -0.1361699104309082,
          -0.030308635905385017,
          -0.15727992355823517,
          0.27465009689331055,
          -0.1751616895198822,
          -0.264608770608902,
          0.5928398966789246,
          0.09413056820631027,
          -0.06987673044204712,
          0.08510769158601761,
          -0.06438054144382477,
          0.05845537781715393,
          0.02822929061949253,
          -0.011230177246034145,
          -0.8043901324272156,
          -0.039769355207681656,
          0.08082345128059387,
          0.11215057969093323,
          -0.08740397542715073,
          0.01664791628718376,
          0.16727779805660248,
          0.001606911071576178,
          -0.3742225170135498,
          -0.03753676265478134,
          0.19194476306438446,
          0.03331517055630684,
          0.013898571021854877,
          0.18847933411598206,
          -0.03478951007127762,
          0.1158214583992958,
          -0.06266698241233826,
          -0.30085766315460205,
          0.17097944021224976,
          0.02032570168375969,
          0.12965869903564453,
          -0.15012162923812866,
          0.05704550817608833,
          0.2615751624107361,
          -0.029275640845298767,
          0.11991576850414276,
          0.13561229407787323,
          0.03428056836128235,
          0.06132890656590462,
          0.15387174487113953,
          -0.05961533635854721,
          0.2487565279006958,
          -0.26854559779167175,
          -0.1395137757062912,
          -0.020538348704576492,
          0.27493706345558167,
          -0.05205520987510681,
          -0.43068161606788635,
          0.0072418320924043655,
          0.2319575399160385,
          0.10189089179039001,
          0.1404343843460083,
          0.044821735471487045,
          0.3026506006717682,
          0.11670614778995514,
          0.04421696066856384,
          0.11806522309780121,
          -0.0747247189283371,
          -0.01574171707034111,
          -0.15924690663814545,
          -0.3381485342979431,
          -0.049208227545022964,
          0.0077753206714987755,
          -0.1762053519487381,
          -0.024921420961618423,
          0.10850192606449127,
          0.002039085840806365,
          0.09785650670528412,
          -0.013298582285642624,
          -0.10291974991559982,
          0.04672814905643463,
          -0.02689925767481327,
          0.10204996913671494,
          -0.08225112408399582,
          -0.4133143126964569,
          -0.25777918100357056,
          -0.31358790397644043,
          -0.07770618796348572,
          0.06619325280189514,
          0.214986652135849,
          0.042644064873456955,
          0.006798324175179005,
          -0.11022534221410751,
          0.17419232428073883,
          -0.11897393316030502,
          -0.05522216856479645,
          0.0047171213664114475,
          -0.16558513045310974,
          0.2671299874782562,
          -0.027592359110713005,
          0.24205335974693298,
          -0.1639440953731537,
          -0.1328890174627304,
          0.012198573909699917,
          -0.011232579126954079,
          0.15574802458286285,
          -0.052731070667505264,
          -0.03711764141917229,
          0.08727710694074631,
          0.13022175431251526,
          0.05039180815219879,
          0.059207525104284286,
          0.01188963558524847,
          -0.03706653043627739,
          0.013800458051264286,
          -0.12754696607589722,
          -0.5477593541145325,
          -0.09457457810640335,
          -0.041482772678136826,
          0.38512349128723145,
          -0.13022468984127045,
          -0.0965595692396164,
          -0.16753557324409485,
          -0.28461581468582153,
          -0.21101364493370056,
          -0.022423047572374344,
          0.25478267669677734,
          0.09954103082418442,
          0.1092277392745018,
          -0.18128444254398346,
          0.10876781493425369,
          -0.1776271015405655,
          0.10812675952911377,
          0.1413944512605667,
          -0.03942503407597542,
          -0.27653437852859497,
          -0.22013114392757416,
          -0.09769447892904282,
          0.13844241201877594,
          -0.002636693650856614,
          -0.07137512415647507,
          -0.0945497527718544,
          0.07222850620746613,
          0.052850570529699326,
          -0.06465490907430649,
          -0.23460674285888672,
          0.03951214626431465,
          0.053699593991041183,
          0.13360066711902618,
          -0.13188345730304718,
          0.15949830412864685,
          0.025020534172654152,
          0.13643676042556763,
          -0.10555645823478699,
          0.03749294951558113,
          0.16268916428089142,
          -0.10885404050350189,
          -0.0051503172144293785,
          0.2178604006767273,
          0.002834756625816226,
          0.19047746062278748,
          0.12888112664222717,
          -0.009079042822122574,
          0.15464554727077484,
          0.03386332094669342,
          -0.08122368901968002,
          0.060211870819330215,
          0.14995811879634857,
          -0.056680839508771896,
          -0.5257376432418823,
          0.14973971247673035,
          0.02231605164706707,
          0.3021901249885559,
          -0.1305125504732132,
          -0.17094427347183228,
          0.03511380776762962,
          -0.0656193345785141,
          0.18945270776748657,
          -0.03750929608941078,
          -0.07363606989383698,
          0.001718325074762106,
          -0.3033487796783447,
          -0.15266810357570648,
          0.12107302248477936,
          -0.039612460881471634,
          -0.1931988149881363,
          -0.24399594962596893,
          0.10505194962024689,
          0.042987894266843796,
          0.05611179396510124,
          0.10042119771242142,
          -0.12463421374559402,
          -0.01759941875934601,
          0.18340753018856049,
          -0.08657663315534592,
          -0.1736632138490677,
          0.04643454775214195,
          -0.2638664245605469,
          0.29883962869644165,
          -0.03270626813173294,
          0.009684840217232704,
          0.02571055479347706,
          0.11415793001651764,
          -0.14466442167758942,
          -0.14026153087615967,
          -0.12503322958946228,
          0.15608912706375122,
          0.021926967427134514,
          -0.15713228285312653,
          0.024570472538471222,
          0.10777931660413742,
          -0.18855330348014832,
          -0.23416128754615784,
          0.19161240756511688,
          -0.12805193662643433,
          0.05538657680153847,
          -0.0236889086663723,
          -0.261990487575531,
          -0.37750446796417236,
          0.1179969534277916,
          0.06602200120687485,
          0.2480141818523407
         ],
         "y": [
          -0.09694992005825043,
          -0.040660060942173004,
          -0.031574975699186325,
          0.025894584134221077,
          -0.06268598139286041,
          -0.03954774886369705,
          -0.038232360035181046,
          0.0631667748093605,
          0.23966194689273834,
          0.023581814020872116,
          -0.26685774326324463,
          0.03596203774213791,
          -0.10552531480789185,
          0.027345119044184685,
          -0.41429048776626587,
          -0.11656895279884338,
          0.16802388429641724,
          0.07879786193370819,
          -0.15889447927474976,
          0.1439593881368637,
          -0.00380878197029233,
          0.10381315648555756,
          0.023716749623417854,
          -0.038565900176763535,
          0.009147485718131065,
          0.18517713248729706,
          0.1234169751405716,
          0.42830517888069153,
          -0.12513241171836853,
          0.007774242665618658,
          -0.37145352363586426,
          -0.11396273970603943,
          0.17298564314842224,
          0.03930690512061119,
          0.017811551690101624,
          0.03717421740293503,
          0.07501483708620071,
          -0.09814930707216263,
          -0.05629260092973709,
          -0.01832788810133934,
          0.10537002235651016,
          -0.024615654721856117,
          0.2316928654909134,
          0.01650952361524105,
          -0.03607223182916641,
          -0.570046603679657,
          -0.021777227520942688,
          -0.04650046303868294,
          0.050538770854473114,
          0.1518106907606125,
          0.025236768648028374,
          -0.11683693528175354,
          0.028615722432732582,
          -0.012691586278378963,
          0.09689457714557648,
          0.05653313547372818,
          0.10576367378234863,
          -0.1602209061384201,
          0.13183282315731049,
          -0.10337388515472412,
          0.05539082735776901,
          -0.021704059094190598,
          -0.03607286512851715,
          0.08343173563480377,
          0.07214193046092987,
          -0.14433299005031586,
          -0.003013807814568281,
          0.0168593917042017,
          -0.08777574449777603,
          -0.29346156120300293,
          -0.006518140435218811,
          0.2709590494632721,
          0.09420938044786453,
          -0.08602012693881989,
          0.1667787879705429,
          -0.007963397540152073,
          0.022590087726712227,
          0.00389368599280715,
          0.22022753953933716,
          0.05071544274687767,
          -0.33188340067863464,
          0.0873473733663559,
          0.01036195270717144,
          0.2339562475681305,
          0.00423726812005043,
          -0.14760567247867584,
          0.3317619562149048,
          -0.19194337725639343,
          0.026795832440257072,
          0.27035871148109436,
          -0.01481409091502428,
          -0.002109195338562131,
          -0.13575896620750427,
          -0.031057151034474373,
          0.05347922444343567,
          0.4606817364692688,
          -0.07830671966075897,
          0.0547785721719265,
          0.09916376322507858,
          0.2781648635864258,
          0.17112842202186584,
          0.11719797551631927,
          0.024023791775107384,
          -0.07745365798473358,
          -0.005448861978948116,
          -0.08322615176439285,
          -0.09648741781711578,
          0.44294473528862,
          0.07908489555120468,
          0.06807193905115128,
          0.23240011930465698,
          0.09679995477199554,
          -0.09319784492254257,
          0.08284533023834229,
          -0.0036143530160188675,
          0.13447004556655884,
          0.2604732811450958,
          -0.036135606467723846,
          -0.10246199369430542,
          0.13886040449142456,
          0.09318532794713974,
          -0.041961897164583206,
          -0.03995334357023239,
          0.004761937540024519,
          0.07233598828315735,
          -0.024334363639354706,
          -0.04770834743976593,
          0.0020751417614519596,
          0.1033637672662735,
          0.061836738139390945,
          -0.03825071081519127,
          -0.2432885766029358,
          -0.09750193357467651,
          0.06793531775474548,
          0.024782028049230576,
          -0.12514713406562805,
          -0.015056777745485306,
          0.06930078566074371,
          0.011568686924874783,
          -0.3298514783382416,
          0.10373439639806747,
          -0.15647298097610474,
          -0.07409102469682693,
          -0.018435323610901833,
          -0.0474817231297493,
          0.05638499557971954,
          -0.12226583063602448,
          0.3083743751049042,
          0.127858504652977,
          -0.10200665891170502,
          -0.03268023580312729,
          0.06889747083187103,
          0.06498075276613235,
          -0.1516466736793518,
          -0.14134405553340912,
          -0.012266173027455807,
          -0.006753856316208839,
          -0.10239629447460175,
          0.06506751477718353,
          -0.04016300290822983,
          0.06739767640829086,
          0.009369716048240662,
          -0.1334565132856369,
          0.02100875787436962,
          -0.07493770122528076,
          0.16879072785377502,
          0.11400996893644333,
          0.018086254596710205,
          0.08163204044103622,
          0.008773921988904476,
          -0.04761442542076111,
          0.047602321952581406,
          -0.1381932497024536,
          0.06257788091897964,
          -0.1019611582159996,
          0.07520352303981781,
          0.09444426745176315,
          0.019707780331373215,
          0.07890666276216507,
          0.21252964437007904,
          -0.02972349524497986,
          0.12269075214862823,
          -0.1298377364873886,
          0.09541596472263336,
          0.09351692348718643,
          0.11023461818695068,
          0.007441581692546606,
          -0.05639920383691788,
          0.08987991511821747,
          -0.02073255553841591,
          0.03098360449075699,
          0.10954906046390533,
          -0.17059758305549622,
          -0.640629231929779,
          -0.1341022253036499,
          0.13076862692832947,
          0.01951701194047928,
          0.20597423613071442,
          0.13142037391662598,
          -0.06992652267217636,
          -0.04650748521089554,
          0.04184401035308838,
          0.06896400451660156,
          -0.012641636654734612,
          -0.08738821744918823,
          -0.06421677768230438,
          0.34523820877075195,
          0.009905332699418068,
          -0.1320418268442154,
          -0.5813831686973572,
          0.08768437057733536,
          0.03662128373980522,
          0.08864368498325348,
          0.07689332962036133,
          -0.13578054308891296,
          -0.056833744049072266,
          -0.16895243525505066,
          -0.2159750759601593,
          -0.14256256818771362,
          0.12007372081279755,
          -0.14271242916584015,
          -0.20523858070373535,
          -0.07024264335632324,
          -0.05691750720143318,
          -0.02565786801278591,
          0.07128224521875381,
          -0.10623534023761749,
          0.22044260799884796,
          -0.19929374754428864,
          -0.03723617270588875,
          0.03192632272839546,
          -0.12332670390605927,
          -0.03844604268670082,
          0.011222942732274532,
          0.16164366900920868,
          -0.25162196159362793,
          -0.016285624355077744,
          -0.27860403060913086,
          0.13606193661689758,
          0.16732077300548553,
          -0.040541283786296844,
          -0.17299868166446686,
          0.06152256950736046,
          0.05258772522211075,
          0.05321377143263817,
          -0.04494883120059967,
          -0.07376878708600998,
          -0.052340004593133926,
          -0.03714599087834358,
          -0.14091555774211884,
          0.1587422490119934,
          0.04934507980942726,
          0.007655822206288576,
          0.3617057800292969,
          -0.09304631501436234,
          0.004739569034427404,
          0.03355305641889572,
          0.005121320951730013,
          0.044018495827913284,
          -0.0733996331691742,
          -0.007871937938034534,
          -0.08507023751735687,
          -0.05208259075880051,
          -0.05706837773323059,
          0.03985492140054703,
          -0.17298902571201324,
          -0.09482865035533905,
          0.11854980885982513,
          -0.13166090846061707,
          0.04207679256796837,
          -0.09234973043203354,
          -0.0684749037027359,
          0.0601796917617321,
          0.16119353473186493,
          -0.15749485790729523,
          -0.02891710214316845,
          -0.08586205542087555,
          -0.28557008504867554,
          0.005303093697875738,
          0.15688632428646088,
          -0.007903804071247578,
          0.23695506155490875,
          0.023084554821252823,
          0.0903051421046257,
          0.10630042850971222,
          0.010568773373961449,
          0.16514435410499573,
          -0.2955200672149658,
          0.12732145190238953,
          0.1438487321138382,
          -0.4561649262905121,
          -0.10356267541646957,
          0.05651101469993591,
          -0.06843797862529755,
          -0.020923687145113945,
          -0.015689833089709282,
          0.028432492166757584,
          0.03893455117940903,
          0.6587260365486145,
          0.08862001448869705,
          -0.05976478010416031,
          -0.09397751092910767,
          0.015608503483235836,
          -0.006010629236698151,
          -0.21142429113388062,
          0.004476054571568966,
          0.3308056890964508,
          0.003562922589480877,
          -0.1962578147649765,
          -0.014454372227191925,
          -0.04110794886946678,
          -0.14810200035572052,
          -0.017846420407295227,
          -0.061678871512413025,
          0.03932703658938408,
          0.3033289909362793,
          -0.161893829703331,
          -0.1077384278178215,
          -0.05609453096985817,
          0.07519715279340744,
          -0.06340854614973068,
          -0.27164772152900696,
          0.048657480627298355,
          -0.11429132521152496,
          -0.12334968894720078,
          -0.009148300625383854,
          -0.006825319491326809,
          -0.0920441597700119,
          0.008388306014239788,
          -0.17858725786209106,
          0.18892063200473785,
          0.05455314368009567,
          -0.054348208010196686,
          -0.237705796957016,
          0.01917238160967827,
          0.37625861167907715,
          0.0021321114618331194,
          -0.22727982699871063,
          -0.049330078065395355,
          -0.03166597709059715,
          0.002760703442618251,
          -0.27257657051086426,
          -0.06839299201965332,
          -0.09635228663682938,
          -0.12229656428098679,
          0.1013130396604538,
          0.046004779636859894,
          0.06909830868244171,
          0.27503910660743713,
          0.10429467260837555,
          -0.06891053169965744,
          0.1727961003780365,
          -0.054952021688222885,
          -0.08504918217658997,
          0.053176186978816986,
          -0.12736327946186066,
          -0.008494097739458084,
          0.056607380509376526,
          -0.027150573208928108,
          -0.038525521755218506,
          -0.14202213287353516,
          0.007193159777671099,
          0.3709510266780853,
          0.19833770394325256,
          0.2317255288362503,
          0.0813969075679779,
          -0.04562707990407944,
          -0.16430263221263885,
          -0.013582771643996239,
          0.033433686941862106,
          0.07652392983436584,
          -0.10915176570415497,
          0.1549552083015442,
          0.07281073182821274,
          -0.03711890056729317,
          0.13906069099903107,
          -0.2633073031902313,
          -0.035415854305028915,
          -0.20232243835926056,
          0.16959170997142792,
          0.14564302563667297,
          -0.06997941434383392,
          -0.010956697165966034,
          -0.11036968231201172,
          0.05351462587714195,
          0.02657005935907364,
          -0.07138046622276306,
          -0.14723581075668335,
          -0.028642894700169563,
          0.029150547459721565,
          -0.04488179460167885,
          0.06776831299066544,
          -0.04929044470191002,
          0.1382957398891449,
          0.4948727786540985,
          0.019538208842277527,
          0.06452693045139313,
          -0.3306216597557068,
          0.1481686681509018,
          0.07394587248563766,
          0.13766977190971375,
          0.21065567433834076,
          0.17405398190021515,
          0.00028089751140214503,
          -0.16426147520542145,
          -0.1316981017589569,
          -0.10478533059358597,
          0.07709420472383499,
          -0.07477471232414246,
          0.1494571566581726,
          -0.11621610820293427,
          -0.17198650538921356,
          0.06847525388002396,
          0.27300769090652466,
          0.24263952672481537,
          0.1146080419421196,
          -0.13071952760219574,
          0.05703970417380333,
          0.14391957223415375,
          0.09666694700717926,
          0.009258016012609005,
          -0.07578491419553757,
          -0.004062242805957794,
          0.1380169689655304,
          0.00529807573184371,
          -0.031075509265065193,
          -0.09732898324728012,
          0.10830657184123993,
          -0.12133239209651947,
          -0.0723738968372345,
          -0.162747323513031,
          0.045689091086387634,
          -0.00940629281103611,
          -0.16362376511096954,
          0.11946266889572144,
          0.06398908793926239,
          -0.17409561574459076,
          -0.03035312332212925,
          -0.09928262233734131,
          -0.16676218807697296,
          0.006997109856456518,
          -0.09350688755512238,
          -0.09594940394163132,
          0.04378334805369377,
          -0.06766903400421143,
          -0.18377938866615295,
          0.04900036007165909,
          0.4914677143096924,
          -0.08010225743055344,
          0.011218591593205929,
          -0.2397811859846115,
          0.15787263214588165,
          0.15018807351589203,
          -0.04586576297879219,
          0.09976191818714142,
          -0.15673516690731049,
          0.10081854462623596,
          0.014486600644886494,
          0.06750744581222534,
          0.3177454173564911,
          0.14045986533164978,
          -0.18167424201965332,
          0.08284075558185577,
          0.1409299373626709,
          0.15529093146324158,
          -0.026807086542248726,
          0.0026790720876306295,
          -0.047632381319999695,
          -0.07406193017959595,
          0.0699981227517128,
          0.045493535697460175,
          -0.09339030086994171,
          0.0977361649274826,
          0.0766146332025528,
          -0.09083002060651779,
          0.22111442685127258,
          -0.28198885917663574,
          -0.011500616557896137,
          -0.00801796279847622,
          0.05083537474274635,
          -0.13279299437999725,
          0.07463259249925613,
          0.10236743092536926,
          0.1668841391801834,
          -0.07920093089342117,
          0.003546571359038353,
          0.23394308984279633,
          -0.014225844293832779,
          -0.05171040818095207,
          0.16886508464813232,
          0.23550359904766083,
          -0.18314576148986816,
          0.10664480924606323,
          -0.029795385897159576,
          0.0665784403681755,
          0.21567519009113312,
          0.3111744821071625,
          -0.12154902517795563,
          -0.06707143038511276,
          -0.20913517475128174
         ]
        }
       ],
       "layout": {
        "hovermode": "closest",
        "template": {
         "data": {
          "bar": [
           {
            "error_x": {
             "color": "#2a3f5f"
            },
            "error_y": {
             "color": "#2a3f5f"
            },
            "marker": {
             "line": {
              "color": "#E5ECF6",
              "width": 0.5
             },
             "pattern": {
              "fillmode": "overlay",
              "size": 10,
              "solidity": 0.2
             }
            },
            "type": "bar"
           }
          ],
          "barpolar": [
           {
            "marker": {
             "line": {
              "color": "#E5ECF6",
              "width": 0.5
             },
             "pattern": {
              "fillmode": "overlay",
              "size": 10,
              "solidity": 0.2
             }
            },
            "type": "barpolar"
           }
          ],
          "carpet": [
           {
            "aaxis": {
             "endlinecolor": "#2a3f5f",
             "gridcolor": "white",
             "linecolor": "white",
             "minorgridcolor": "white",
             "startlinecolor": "#2a3f5f"
            },
            "baxis": {
             "endlinecolor": "#2a3f5f",
             "gridcolor": "white",
             "linecolor": "white",
             "minorgridcolor": "white",
             "startlinecolor": "#2a3f5f"
            },
            "type": "carpet"
           }
          ],
          "choropleth": [
           {
            "colorbar": {
             "outlinewidth": 0,
             "ticks": ""
            },
            "type": "choropleth"
           }
          ],
          "contour": [
           {
            "colorbar": {
             "outlinewidth": 0,
             "ticks": ""
            },
            "colorscale": [
             [
              0,
              "#0d0887"
             ],
             [
              0.1111111111111111,
              "#46039f"
             ],
             [
              0.2222222222222222,
              "#7201a8"
             ],
             [
              0.3333333333333333,
              "#9c179e"
             ],
             [
              0.4444444444444444,
              "#bd3786"
             ],
             [
              0.5555555555555556,
              "#d8576b"
             ],
             [
              0.6666666666666666,
              "#ed7953"
             ],
             [
              0.7777777777777778,
              "#fb9f3a"
             ],
             [
              0.8888888888888888,
              "#fdca26"
             ],
             [
              1,
              "#f0f921"
             ]
            ],
            "type": "contour"
           }
          ],
          "contourcarpet": [
           {
            "colorbar": {
             "outlinewidth": 0,
             "ticks": ""
            },
            "type": "contourcarpet"
           }
          ],
          "heatmap": [
           {
            "colorbar": {
             "outlinewidth": 0,
             "ticks": ""
            },
            "colorscale": [
             [
              0,
              "#0d0887"
             ],
             [
              0.1111111111111111,
              "#46039f"
             ],
             [
              0.2222222222222222,
              "#7201a8"
             ],
             [
              0.3333333333333333,
              "#9c179e"
             ],
             [
              0.4444444444444444,
              "#bd3786"
             ],
             [
              0.5555555555555556,
              "#d8576b"
             ],
             [
              0.6666666666666666,
              "#ed7953"
             ],
             [
              0.7777777777777778,
              "#fb9f3a"
             ],
             [
              0.8888888888888888,
              "#fdca26"
             ],
             [
              1,
              "#f0f921"
             ]
            ],
            "type": "heatmap"
           }
          ],
          "heatmapgl": [
           {
            "colorbar": {
             "outlinewidth": 0,
             "ticks": ""
            },
            "colorscale": [
             [
              0,
              "#0d0887"
             ],
             [
              0.1111111111111111,
              "#46039f"
             ],
             [
              0.2222222222222222,
              "#7201a8"
             ],
             [
              0.3333333333333333,
              "#9c179e"
             ],
             [
              0.4444444444444444,
              "#bd3786"
             ],
             [
              0.5555555555555556,
              "#d8576b"
             ],
             [
              0.6666666666666666,
              "#ed7953"
             ],
             [
              0.7777777777777778,
              "#fb9f3a"
             ],
             [
              0.8888888888888888,
              "#fdca26"
             ],
             [
              1,
              "#f0f921"
             ]
            ],
            "type": "heatmapgl"
           }
          ],
          "histogram": [
           {
            "marker": {
             "pattern": {
              "fillmode": "overlay",
              "size": 10,
              "solidity": 0.2
             }
            },
            "type": "histogram"
           }
          ],
          "histogram2d": [
           {
            "colorbar": {
             "outlinewidth": 0,
             "ticks": ""
            },
            "colorscale": [
             [
              0,
              "#0d0887"
             ],
             [
              0.1111111111111111,
              "#46039f"
             ],
             [
              0.2222222222222222,
              "#7201a8"
             ],
             [
              0.3333333333333333,
              "#9c179e"
             ],
             [
              0.4444444444444444,
              "#bd3786"
             ],
             [
              0.5555555555555556,
              "#d8576b"
             ],
             [
              0.6666666666666666,
              "#ed7953"
             ],
             [
              0.7777777777777778,
              "#fb9f3a"
             ],
             [
              0.8888888888888888,
              "#fdca26"
             ],
             [
              1,
              "#f0f921"
             ]
            ],
            "type": "histogram2d"
           }
          ],
          "histogram2dcontour": [
           {
            "colorbar": {
             "outlinewidth": 0,
             "ticks": ""
            },
            "colorscale": [
             [
              0,
              "#0d0887"
             ],
             [
              0.1111111111111111,
              "#46039f"
             ],
             [
              0.2222222222222222,
              "#7201a8"
             ],
             [
              0.3333333333333333,
              "#9c179e"
             ],
             [
              0.4444444444444444,
              "#bd3786"
             ],
             [
              0.5555555555555556,
              "#d8576b"
             ],
             [
              0.6666666666666666,
              "#ed7953"
             ],
             [
              0.7777777777777778,
              "#fb9f3a"
             ],
             [
              0.8888888888888888,
              "#fdca26"
             ],
             [
              1,
              "#f0f921"
             ]
            ],
            "type": "histogram2dcontour"
           }
          ],
          "mesh3d": [
           {
            "colorbar": {
             "outlinewidth": 0,
             "ticks": ""
            },
            "type": "mesh3d"
           }
          ],
          "parcoords": [
           {
            "line": {
             "colorbar": {
              "outlinewidth": 0,
              "ticks": ""
             }
            },
            "type": "parcoords"
           }
          ],
          "pie": [
           {
            "automargin": true,
            "type": "pie"
           }
          ],
          "scatter": [
           {
            "fillpattern": {
             "fillmode": "overlay",
             "size": 10,
             "solidity": 0.2
            },
            "type": "scatter"
           }
          ],
          "scatter3d": [
           {
            "line": {
             "colorbar": {
              "outlinewidth": 0,
              "ticks": ""
             }
            },
            "marker": {
             "colorbar": {
              "outlinewidth": 0,
              "ticks": ""
             }
            },
            "type": "scatter3d"
           }
          ],
          "scattercarpet": [
           {
            "marker": {
             "colorbar": {
              "outlinewidth": 0,
              "ticks": ""
             }
            },
            "type": "scattercarpet"
           }
          ],
          "scattergeo": [
           {
            "marker": {
             "colorbar": {
              "outlinewidth": 0,
              "ticks": ""
             }
            },
            "type": "scattergeo"
           }
          ],
          "scattergl": [
           {
            "marker": {
             "colorbar": {
              "outlinewidth": 0,
              "ticks": ""
             }
            },
            "type": "scattergl"
           }
          ],
          "scattermapbox": [
           {
            "marker": {
             "colorbar": {
              "outlinewidth": 0,
              "ticks": ""
             }
            },
            "type": "scattermapbox"
           }
          ],
          "scatterpolar": [
           {
            "marker": {
             "colorbar": {
              "outlinewidth": 0,
              "ticks": ""
             }
            },
            "type": "scatterpolar"
           }
          ],
          "scatterpolargl": [
           {
            "marker": {
             "colorbar": {
              "outlinewidth": 0,
              "ticks": ""
             }
            },
            "type": "scatterpolargl"
           }
          ],
          "scatterternary": [
           {
            "marker": {
             "colorbar": {
              "outlinewidth": 0,
              "ticks": ""
             }
            },
            "type": "scatterternary"
           }
          ],
          "surface": [
           {
            "colorbar": {
             "outlinewidth": 0,
             "ticks": ""
            },
            "colorscale": [
             [
              0,
              "#0d0887"
             ],
             [
              0.1111111111111111,
              "#46039f"
             ],
             [
              0.2222222222222222,
              "#7201a8"
             ],
             [
              0.3333333333333333,
              "#9c179e"
             ],
             [
              0.4444444444444444,
              "#bd3786"
             ],
             [
              0.5555555555555556,
              "#d8576b"
             ],
             [
              0.6666666666666666,
              "#ed7953"
             ],
             [
              0.7777777777777778,
              "#fb9f3a"
             ],
             [
              0.8888888888888888,
              "#fdca26"
             ],
             [
              1,
              "#f0f921"
             ]
            ],
            "type": "surface"
           }
          ],
          "table": [
           {
            "cells": {
             "fill": {
              "color": "#EBF0F8"
             },
             "line": {
              "color": "white"
             }
            },
            "header": {
             "fill": {
              "color": "#C8D4E3"
             },
             "line": {
              "color": "white"
             }
            },
            "type": "table"
           }
          ]
         },
         "layout": {
          "annotationdefaults": {
           "arrowcolor": "#2a3f5f",
           "arrowhead": 0,
           "arrowwidth": 1
          },
          "autotypenumbers": "strict",
          "coloraxis": {
           "colorbar": {
            "outlinewidth": 0,
            "ticks": ""
           }
          },
          "colorscale": {
           "diverging": [
            [
             0,
             "#8e0152"
            ],
            [
             0.1,
             "#c51b7d"
            ],
            [
             0.2,
             "#de77ae"
            ],
            [
             0.3,
             "#f1b6da"
            ],
            [
             0.4,
             "#fde0ef"
            ],
            [
             0.5,
             "#f7f7f7"
            ],
            [
             0.6,
             "#e6f5d0"
            ],
            [
             0.7,
             "#b8e186"
            ],
            [
             0.8,
             "#7fbc41"
            ],
            [
             0.9,
             "#4d9221"
            ],
            [
             1,
             "#276419"
            ]
           ],
           "sequential": [
            [
             0,
             "#0d0887"
            ],
            [
             0.1111111111111111,
             "#46039f"
            ],
            [
             0.2222222222222222,
             "#7201a8"
            ],
            [
             0.3333333333333333,
             "#9c179e"
            ],
            [
             0.4444444444444444,
             "#bd3786"
            ],
            [
             0.5555555555555556,
             "#d8576b"
            ],
            [
             0.6666666666666666,
             "#ed7953"
            ],
            [
             0.7777777777777778,
             "#fb9f3a"
            ],
            [
             0.8888888888888888,
             "#fdca26"
            ],
            [
             1,
             "#f0f921"
            ]
           ],
           "sequentialminus": [
            [
             0,
             "#0d0887"
            ],
            [
             0.1111111111111111,
             "#46039f"
            ],
            [
             0.2222222222222222,
             "#7201a8"
            ],
            [
             0.3333333333333333,
             "#9c179e"
            ],
            [
             0.4444444444444444,
             "#bd3786"
            ],
            [
             0.5555555555555556,
             "#d8576b"
            ],
            [
             0.6666666666666666,
             "#ed7953"
            ],
            [
             0.7777777777777778,
             "#fb9f3a"
            ],
            [
             0.8888888888888888,
             "#fdca26"
            ],
            [
             1,
             "#f0f921"
            ]
           ]
          },
          "colorway": [
           "#636efa",
           "#EF553B",
           "#00cc96",
           "#ab63fa",
           "#FFA15A",
           "#19d3f3",
           "#FF6692",
           "#B6E880",
           "#FF97FF",
           "#FECB52"
          ],
          "font": {
           "color": "#2a3f5f"
          },
          "geo": {
           "bgcolor": "white",
           "lakecolor": "white",
           "landcolor": "#E5ECF6",
           "showlakes": true,
           "showland": true,
           "subunitcolor": "white"
          },
          "hoverlabel": {
           "align": "left"
          },
          "hovermode": "closest",
          "mapbox": {
           "style": "light"
          },
          "paper_bgcolor": "white",
          "plot_bgcolor": "#E5ECF6",
          "polar": {
           "angularaxis": {
            "gridcolor": "white",
            "linecolor": "white",
            "ticks": ""
           },
           "bgcolor": "#E5ECF6",
           "radialaxis": {
            "gridcolor": "white",
            "linecolor": "white",
            "ticks": ""
           }
          },
          "scene": {
           "xaxis": {
            "backgroundcolor": "#E5ECF6",
            "gridcolor": "white",
            "gridwidth": 2,
            "linecolor": "white",
            "showbackground": true,
            "ticks": "",
            "zerolinecolor": "white"
           },
           "yaxis": {
            "backgroundcolor": "#E5ECF6",
            "gridcolor": "white",
            "gridwidth": 2,
            "linecolor": "white",
            "showbackground": true,
            "ticks": "",
            "zerolinecolor": "white"
           },
           "zaxis": {
            "backgroundcolor": "#E5ECF6",
            "gridcolor": "white",
            "gridwidth": 2,
            "linecolor": "white",
            "showbackground": true,
            "ticks": "",
            "zerolinecolor": "white"
           }
          },
          "shapedefaults": {
           "line": {
            "color": "#2a3f5f"
           }
          },
          "ternary": {
           "aaxis": {
            "gridcolor": "white",
            "linecolor": "white",
            "ticks": ""
           },
           "baxis": {
            "gridcolor": "white",
            "linecolor": "white",
            "ticks": ""
           },
           "bgcolor": "#E5ECF6",
           "caxis": {
            "gridcolor": "white",
            "linecolor": "white",
            "ticks": ""
           }
          },
          "title": {
           "x": 0.05
          },
          "xaxis": {
           "automargin": true,
           "gridcolor": "white",
           "linecolor": "white",
           "ticks": "",
           "title": {
            "standoff": 15
           },
           "zerolinecolor": "white",
           "zerolinewidth": 2
          },
          "yaxis": {
           "automargin": true,
           "gridcolor": "white",
           "linecolor": "white",
           "ticks": "",
           "title": {
            "standoff": 15
           },
           "zerolinecolor": "white",
           "zerolinewidth": 2
          }
         }
        },
        "title": {
         "text": "Word Embeddings"
        }
       }
      }
     },
     "metadata": {},
     "output_type": "display_data"
    }
   ],
   "source": [
    "def plot_2d_embeddings(embeddings, id_start=1, count=100):\n",
    "  # Get 1st and 2nd embedding dims for the desired tokens.\n",
    "  x1 = embeddings[id_start:id_start+count, 0]\n",
    "  x2 = embeddings[id_start:id_start+count, 1]\n",
    "  \n",
    "  # Get the corresponding words from the reverse index (for labeling).\n",
    "  tokens = [reverse_index[i] for i in range(id_start, id_start+count)]\n",
    "\n",
    "  # Plot with the plotly library.\n",
    "  data = plotly.Scatter(x=x1, y=x2, text=tokens,\n",
    "                        mode='markers', textposition='bottom left',\n",
    "                        hoverinfo='text')\n",
    "  fig = plotly.Figure(data=[data],\n",
    "                      layout=plotly.Layout(title=\"Word Embeddings\",\n",
    "                                           hovermode='closest'))\n",
    "  fig.show()\n",
    "\n",
    "# Very frequent tokens tend to be more syntactic than semantic, so let's plot\n",
    "# some rarer words.    \n",
    "plot_2d_embeddings(embeddings, id_start=500, count=500)"
   ]
  },
  {
   "cell_type": "markdown",
   "metadata": {
    "id": "Z3Mm8MjRcZ20"
   },
   "source": [
    "---\n",
    "### Exercise 4: Interpretting Embeddings (8 points)\n",
    "Notice that the 2-D embeddings fall in a narrow diagonal band.\n",
    "\n",
    "1. Have the learned embeddings separated positive and negative words? What is the most negative word? Does this make sense?\n",
    "2. Give 2 examples of words that seem to have surprising embedding values and try to explain their positions. For example, what's going on with the tokens '7', '8', and '9'?\n",
    "3. The embedding for 'crazy' is very close to (0,0). Explain what this means in terms of the model's output.\n",
    "4. Can you explain what you think the 2 learned embedding dimensions mean, if anything?"
   ]
  },
  {
   "cell_type": "markdown",
   "metadata": {
    "id": "x_qAAvvo2y3t"
   },
   "source": [
    "*Written answers:*\n",
    "\n",
    "1. Yes, the embeddings have separated the positive and negative words. The most negative word is **avoid**. This plotting of the embeddings make sense. The positive review words on the right side of the plot and the negative review words on the left side of the plot.\n",
    "2. Two words that are surprising are **English** and **strange** both have positive rankings. The number digits seem to be positive number but that is somewhat weird as digits could be positive or negative. \n",
    "3. The word **crazy** is close to (0,0), this would mean that the model maybe having a difficult time determining if it is positive or negative.\n",
    "4. The two learned embeddings dimensions mean that we created and use a 2-dimensional layer to translate our vectors to 2 dimensions.\n"
   ]
  },
  {
   "cell_type": "markdown",
   "metadata": {},
   "source": [
    "---"
   ]
  },
  {
   "cell_type": "markdown",
   "metadata": {
    "id": "IXCitmUvxfwb"
   },
   "source": [
    "## Scaling Up!\n",
    "Remember how we limited our input sequences to 20 tokens and 1000 vocabulary entries? Let's see how well we can do using more data and bigger models (more parameters)."
   ]
  },
  {
   "cell_type": "markdown",
   "metadata": {
    "id": "OKZDEGS7xzr6"
   },
   "source": [
    "### Exercise 5: Improve Results (8 points)\n",
    "Using pieces of code from above, set up and train a model that improves the validation accuracy to at least 80%. You should include the following elements:\n",
    "\n",
    "1. Truncate and pad input to the desired length.\n",
    "2. Limit vocabulary to the desired size.\n",
    "3. Set up a model using embeddings.\n",
    "4. Add an additional layer or layers (after the embeddings layer and before the output layer).\n",
    "5. Evaluate on the test data. Remember to apply the same pre-processing to the test data. You can use model.evaluate()."
   ]
  },
  {
   "cell_type": "code",
   "execution_count": 153,
   "metadata": {
    "id": "ekbJ4sIq2hID"
   },
   "outputs": [],
   "source": [
    "# YOUR CODE HERE"
   ]
  },
  {
   "cell_type": "markdown",
   "metadata": {
    "id": "7EEJI9yC2jOJ"
   },
   "source": [
    "---"
   ]
  }
 ],
 "metadata": {
  "colab": {
   "authorship_tag": "ABX9TyMbG/uKJC3itEUb58OjZyV3",
   "name": "09 Embeddings for Text.ipynb",
   "provenance": []
  },
  "kernelspec": {
   "display_name": "Python 3.9.7 ('base')",
   "language": "python",
   "name": "python3"
  },
  "language_info": {
   "codemirror_mode": {
    "name": "ipython",
    "version": 3
   },
   "file_extension": ".py",
   "mimetype": "text/x-python",
   "name": "python",
   "nbconvert_exporter": "python",
   "pygments_lexer": "ipython3",
   "version": "3.9.7"
  },
  "vscode": {
   "interpreter": {
    "hash": "ad2bdc8ecc057115af97d19610ffacc2b4e99fae6737bb82f5d7fb13d2f2c186"
   }
  }
 },
 "nbformat": 4,
 "nbformat_minor": 4
}
