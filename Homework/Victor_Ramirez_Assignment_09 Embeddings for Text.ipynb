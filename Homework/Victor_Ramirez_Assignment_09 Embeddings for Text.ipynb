{
 "cells": [
  {
   "cell_type": "markdown",
   "metadata": {
    "id": "MKsRDH5ZUdfasdv"
   },
   "source": [
    "# Lab 9"
   ]
  },
  {
   "cell_type": "markdown",
   "metadata": {
    "id": "43534tdfgs-v"
   },
   "source": [
    "In this lab, we'll train models for sentiment classification and experiment with learned embeddings for text features."
   ]
  },
  {
   "cell_type": "code",
   "execution_count": 1,
   "metadata": {
    "id": "7X58hOMTUH-w"
   },
   "outputs": [],
   "source": [
    "# Import the libraries we'll use below.\n",
    "import numpy as np\n",
    "from matplotlib import pyplot as plt\n",
    "import pandas as pd\n",
    "import seaborn as sns  # for nicer plots\n",
    "sns.set(style=\"darkgrid\")  # default style\n",
    "import plotly.graph_objs as plotly  # for interactive plots\n",
    "\n",
    "import tensorflow as tf\n",
    "from tensorflow.keras.datasets import imdb"
   ]
  },
  {
   "cell_type": "markdown",
   "metadata": {
    "id": "eqppUDpmdptk"
   },
   "source": [
    "## Data for Sentiment Classification\n",
    "\n",
    "In this lab, we'll train a *sentiment* classifier for movie reviews. That is, the input is the text of a movie review and the output is the probability the input was a positive review. The target labels are binary, 0 for negative and 1 for positive.\n",
    "\n",
    "Our data includes 50,000 movie reviews on IMDB. The data comes pre-segmented into train and test splits. The [data loading function](https://www.tensorflow.org/api_docs/python/tf/keras/datasets/imdb/load_data) below also splits each input text into tokens (words) and maps the words to integer values. Each input is a sequence of integers corresponding to the words."
   ]
  },
  {
   "cell_type": "code",
   "execution_count": 2,
   "metadata": {
    "colab": {
     "base_uri": "https://localhost:8080/"
    },
    "executionInfo": {
     "elapsed": 5870,
     "status": "ok",
     "timestamp": 1646684495083,
     "user": {
      "displayName": "Daniel Gillick",
      "photoUrl": "https://lh3.googleusercontent.com/a-/AOh14Gg9DrSMlwYnG9EolecuJqe8n9m7fpcje4_UbYrhQ10=s64",
      "userId": "01872965353911650729"
     },
     "user_tz": 600
    },
    "id": "s6M-asvhQWV_",
    "outputId": "1aca520b-e1b6-4006-ac44-78ff33ac6da9"
   },
   "outputs": [
    {
     "name": "stdout",
     "output_type": "stream",
     "text": [
      "X_train.shape: (25000,)\n",
      "Y_train.shape: (25000,)\n",
      "X_test.shape: (25000,)\n",
      "Y_test.shape: (25000,)\n",
      "First training example data: [1, 14, 22, 16, 43, 530, 973, 1622, 1385, 65, 458, 4468, 66, 3941, 4, 173, 36, 256, 5, 25, 100, 43, 838, 112, 50, 670, 22665, 9, 35, 480, 284, 5, 150, 4, 172, 112, 167, 21631, 336, 385, 39, 4, 172, 4536, 1111, 17, 546, 38, 13, 447, 4, 192, 50, 16, 6, 147, 2025, 19, 14, 22, 4, 1920, 4613, 469, 4, 22, 71, 87, 12, 16, 43, 530, 38, 76, 15, 13, 1247, 4, 22, 17, 515, 17, 12, 16, 626, 18, 19193, 5, 62, 386, 12, 8, 316, 8, 106, 5, 4, 2223, 5244, 16, 480, 66, 3785, 33, 4, 130, 12, 16, 38, 619, 5, 25, 124, 51, 36, 135, 48, 25, 1415, 33, 6, 22, 12, 215, 28, 77, 52, 5, 14, 407, 16, 82, 10311, 8, 4, 107, 117, 5952, 15, 256, 4, 31050, 7, 3766, 5, 723, 36, 71, 43, 530, 476, 26, 400, 317, 46, 7, 4, 12118, 1029, 13, 104, 88, 4, 381, 15, 297, 98, 32, 2071, 56, 26, 141, 6, 194, 7486, 18, 4, 226, 22, 21, 134, 476, 26, 480, 5, 144, 30, 5535, 18, 51, 36, 28, 224, 92, 25, 104, 4, 226, 65, 16, 38, 1334, 88, 12, 16, 283, 5, 16, 4472, 113, 103, 32, 15, 16, 5345, 19, 178, 32]\n",
      "First training example label: 1\n"
     ]
    }
   ],
   "source": [
    "(X_train, Y_train), (X_test, Y_test) = imdb.load_data(path=\"imdb.npz\",\n",
    "                                                      num_words=None,\n",
    "                                                      skip_top=0,\n",
    "                                                      maxlen=None,\n",
    "                                                      seed=113,\n",
    "                                                      start_char=1,\n",
    "                                                      oov_char=2,\n",
    "                                                      index_from=3)\n",
    "\n",
    "print(\"X_train.shape:\", X_train.shape)\n",
    "print(\"Y_train.shape:\", Y_train.shape)\n",
    "print(\"X_test.shape:\", X_test.shape)\n",
    "print(\"Y_test.shape:\", Y_test.shape)\n",
    "\n",
    "print('First training example data:', X_train[0])\n",
    "print('First training example label:', Y_train[0])"
   ]
  },
  {
   "cell_type": "markdown",
   "metadata": {
    "id": "MyIWiy-4gQK-"
   },
   "source": [
    "So our first training example is a positive review. But that sequence of integer IDs is hard to read. The data loader provides a dictionary mapping words to IDs. Let's create a reverse index.\n"
   ]
  },
  {
   "cell_type": "code",
   "execution_count": 3,
   "metadata": {
    "colab": {
     "base_uri": "https://localhost:8080/"
    },
    "executionInfo": {
     "elapsed": 801,
     "status": "ok",
     "timestamp": 1646684508506,
     "user": {
      "displayName": "Daniel Gillick",
      "photoUrl": "https://lh3.googleusercontent.com/a-/AOh14Gg9DrSMlwYnG9EolecuJqe8n9m7fpcje4_UbYrhQ10=s64",
      "userId": "01872965353911650729"
     },
     "user_tz": 600
    },
    "id": "HQ-qATkhUj7c",
    "outputId": "eea86a69-fe6a-4cdb-ac8c-9307a5118e47"
   },
   "outputs": [
    {
     "name": "stdout",
     "output_type": "stream",
     "text": [
      "Largest ID: 88587\n"
     ]
    }
   ],
   "source": [
    "# The imdb dataset comes with an index mapping words to integers.\n",
    "# In the index the words are ordered by frequency they occur.\n",
    "index = imdb.get_word_index()\n",
    "\n",
    "# Because we used index_from=3 (above), setting aside ids below 3 for special\n",
    "# symbols, we need to add 3 to the index values.\n",
    "index = dict([(key, value+3) for (key, value) in index.items()])\n",
    "\n",
    "# Create a reverse index so we can lookup tokens assigned to each id.\n",
    "reverse_index = dict([(value, key) for (key, value) in index.items()])\n",
    "reverse_index[1] = '<START>'  # start of input\n",
    "reverse_index[2] = '#'        # out-of-vocabulary (OOV)\n",
    "reverse_index[3] = '<UNUSED>'\n",
    "\n",
    "max_id = max(reverse_index.keys())\n",
    "print('Largest ID:', max_id)"
   ]
  },
  {
   "cell_type": "markdown",
   "metadata": {
    "id": "h76-b07ehWNQ"
   },
   "source": [
    "Note that our index (and reverse index) have over 88,000 tokens. That's quite a large vocabulary! Let's also write a decoding function for our data."
   ]
  },
  {
   "cell_type": "code",
   "execution_count": 4,
   "metadata": {
    "colab": {
     "base_uri": "https://localhost:8080/"
    },
    "executionInfo": {
     "elapsed": 358,
     "status": "ok",
     "timestamp": 1646684531998,
     "user": {
      "displayName": "Daniel Gillick",
      "photoUrl": "https://lh3.googleusercontent.com/a-/AOh14Gg9DrSMlwYnG9EolecuJqe8n9m7fpcje4_UbYrhQ10=s64",
      "userId": "01872965353911650729"
     },
     "user_tz": 600
    },
    "id": "UjobmouHS5Dm",
    "outputId": "29975a48-7fda-4600-bd0c-693c35dd8a54"
   },
   "outputs": [
    {
     "name": "stdout",
     "output_type": "stream",
     "text": [
      "[1, 14, 22, 16, 43, 530, 973, 1622, 1385, 65, 458, 4468, 66, 3941, 4, 173, 36, 256, 5, 25, 100, 43, 838, 112, 50, 670, 22665, 9, 35, 480, 284, 5, 150, 4, 172, 112, 167, 21631, 336, 385, 39, 4, 172, 4536, 1111, 17, 546, 38, 13, 447, 4, 192, 50, 16, 6, 147, 2025, 19, 14, 22, 4, 1920, 4613, 469, 4, 22, 71, 87, 12, 16, 43, 530, 38, 76, 15, 13, 1247, 4, 22, 17, 515, 17, 12, 16, 626, 18, 19193, 5, 62, 386, 12, 8, 316, 8, 106, 5, 4, 2223, 5244, 16, 480, 66, 3785, 33, 4, 130, 12, 16, 38, 619, 5, 25, 124, 51, 36, 135, 48, 25, 1415, 33, 6, 22, 12, 215, 28, 77, 52, 5, 14, 407, 16, 82, 10311, 8, 4, 107, 117, 5952, 15, 256, 4, 31050, 7, 3766, 5, 723, 36, 71, 43, 530, 476, 26, 400, 317, 46, 7, 4, 12118, 1029, 13, 104, 88, 4, 381, 15, 297, 98, 32, 2071, 56, 26, 141, 6, 194, 7486, 18, 4, 226, 22, 21, 134, 476, 26, 480, 5, 144, 30, 5535, 18, 51, 36, 28, 224, 92, 25, 104, 4, 226, 65, 16, 38, 1334, 88, 12, 16, 283, 5, 16, 4472, 113, 103, 32, 15, 16, 5345, 19, 178, 32]\n",
      "<START> this film was just brilliant casting location scenery story direction everyone's really suited the part they played and you could just imagine being there robert redford's is an amazing actor and now the same being director norman's father came from the same scottish island as myself so i loved the fact there was a real connection with this film the witty remarks throughout the film were great it was just brilliant so much that i bought the film as soon as it was released for retail and would recommend it to everyone to watch and the fly fishing was amazing really cried at the end it was so sad and you know what they say if you cry at a film it must have been good and this definitely was also congratulations to the two little boy's that played the part's of norman and paul they were just brilliant children are often left out of the praising list i think because the stars that play them all grown up are such a big profile for the whole film but these children are amazing and should be praised for what they have done don't you think the whole story was so lovely because it was true and was someone's life after all that was shared with us all\n"
     ]
    }
   ],
   "source": [
    "def decode(token_ids):\n",
    "  \"\"\"Return a string with the decoded text given a list of token ids.\"\"\"\n",
    "  # Try looking up each id in the index, but return '#' (for OOV) if not found.\n",
    "  tokens = [reverse_index.get(i, \"#\") for i in token_ids]\n",
    "\n",
    "  # Connect the string tokens with a space.\n",
    "  return ' '.join(tokens)\n",
    "\n",
    "# Show the ids corresponding tokens in the first example.\n",
    "print(X_train[0])\n",
    "print(decode(X_train[0]))"
   ]
  },
  {
   "cell_type": "markdown",
   "metadata": {
    "id": "g47w5CackGBA"
   },
   "source": [
    "### Text Lengths\n",
    "As usual, let's start with some data analysis. How long are the reviews? Is there a difference in length between positive and negative reviews? A histogram will help answer these questions."
   ]
  },
  {
   "cell_type": "code",
   "execution_count": 5,
   "metadata": {
    "colab": {
     "base_uri": "https://localhost:8080/",
     "height": 305
    },
    "executionInfo": {
     "elapsed": 762,
     "status": "ok",
     "timestamp": 1646684547021,
     "user": {
      "displayName": "Daniel Gillick",
      "photoUrl": "https://lh3.googleusercontent.com/a-/AOh14Gg9DrSMlwYnG9EolecuJqe8n9m7fpcje4_UbYrhQ10=s64",
      "userId": "01872965353911650729"
     },
     "user_tz": 600
    },
    "id": "kEOgzo8Gk3r7",
    "outputId": "e7446ffd-10c5-4c64-a5bc-7cab81a1d73f"
   },
   "outputs": [
    {
     "data": {
      "image/png": "[encoded data removed]",
      "text/plain": [
       "<Figure size 432x288 with 1 Axes>"
      ]
     },
     "metadata": {},
     "output_type": "display_data"
    },
    {
     "name": "stdout",
     "output_type": "stream",
     "text": [
      "Longest positive review: 2494\n",
      "Longest negative review: 1571\n"
     ]
    }
   ],
   "source": [
    "# Create a list of lengths for training examples with a positive label.\n",
    "text_lengths_pos = [len(x) for (i, x) in enumerate(X_train) if Y_train[i]]\n",
    "\n",
    "# And a list of lengths for training examples with a negative label.\n",
    "text_lengths_neg = [len(x) for (i, x) in enumerate(X_train) if not Y_train[i]]\n",
    "\n",
    "# The histogram function can take a list of inputs and corresponding labels.\n",
    "plt.hist([text_lengths_pos, text_lengths_neg], bins=20, range=(0, 1000),\n",
    "         label=['positive', 'negative'])\n",
    "plt.legend()\n",
    "plt.show()\n",
    "\n",
    "# Also check the longest reviews.\n",
    "print('Longest positive review:', max(text_lengths_pos))\n",
    "print('Longest negative review:', max(text_lengths_neg))"
   ]
  },
  {
   "cell_type": "markdown",
   "metadata": {
    "id": "c3ZE9gpkml3a"
   },
   "source": [
    "---\n",
    "### Exercise 1: Token Counts (8 points)\n",
    "For each of the given tokens, construct a table with the number of positive training examples that include that token and the number of negative training examples that include that token. For reference, here are the counts for the first two tokens:\n",
    "\n",
    "|Token|Pos Count|Neg Count|\n",
    "|-|-|-|\n",
    "|good|4767|4849|\n",
    "|bad|1491|4396|\n",
    "|amazing|868|240|\n",
    "|boring|301|1205|\n",
    "|laugh|525|685|\n",
    "|cry|231|114|"
   ]
  },
  {
   "cell_type": "code",
   "execution_count": 84,
   "metadata": {
    "id": "8YOYo6d01aWI"
   },
   "outputs": [
    {
     "name": "stdout",
     "output_type": "stream",
     "text": [
      "{'good': 4767, 'amazing': 868, 'cry': 231, 'bad': 1491, 'boring': 301, 'laugh': 525}\n",
      "{'good': 4849, 'bad': 4396, 'laugh': 685, 'boring': 1205, 'amazing': 240, 'cry': 114}\n"
     ]
    }
   ],
   "source": [
    "tokens = ['good', 'bad', 'amazing', 'boring', 'laugh', 'cry']\n",
    "# YOUR CODE HERE\n",
    "\n",
    "positive_count = {}\n",
    "negative_count = {}\n",
    "    \n",
    "# loop all the review in the training data\n",
    "for x in range(len(X_train)):\n",
    "    \n",
    "    result = decode(X_train[x])    \n",
    "    \n",
    "    # loop the review text\n",
    "    for review in tokens:\n",
    "        \n",
    "        # split text on space\n",
    "        if review in result.split(\" \"):\n",
    "            \n",
    "            # positive review found\n",
    "            if Y_train[x] == 1:\n",
    "                \n",
    "                if positive_count.get(review) == None:\n",
    "                    \n",
    "                    positive_count[review] = 0\n",
    "                    \n",
    "                positive_count[review] += 1\n",
    "                \n",
    "            # negative review found\n",
    "            elif Y_train[x] == 0:\n",
    "                \n",
    "                if negative_count.get(review) == None:\n",
    "                    \n",
    "                    negative_count[review] = 0\n",
    "                    \n",
    "                negative_count[review] += 1\n",
    "                \n",
    "print(positive_count)\n",
    "print(negative_count)\n"
   ]
  },
  {
   "cell_type": "markdown",
   "metadata": {},
   "source": [
    "---"
   ]
  },
  {
   "cell_type": "markdown",
   "metadata": {
    "id": "hhzt-LnQ1m8w"
   },
   "source": [
    "## Feature Representation\n",
    "Consider the difference between the pixel features we used for image classification and the text features we are now dealing with.\n",
    "\n",
    "An image had 784 pixel positions. At each position, there is a single value in [0,1] (after normalization).\n",
    "\n",
    "In contrast, a review has a variable number of ordered tokens (up to 2494 in the training examples). Each token occurs in a particular position. We can think of the token positions much like the 784 pixel positions, except that some of the trailing positions are empty, since review lengths vary.  At each token position, there is a single token, one of the 88587 entries in the vocabulary. So we can think of a review as a (2500, 90000) matrix: At each of ~2500 token positions, we have 1 of ~90000 token ids.\n",
    "\n",
    "This representation would have 2500 * 90000 = 225 million features -- quite a lot more complexity than the images, though as you'll see below, we will make some simplifying assumptions, reducing both the number of token positions and the number of vocabulary items."
   ]
  },
  {
   "cell_type": "markdown",
   "metadata": {
    "id": "Jm_F5JmWyfko"
   },
   "source": [
    "### Padding and Reduced Length\n",
    "As is clear from the length histogram, the current representation of the review text is a variable-length array. Since fixed-length arrays are easier to work with in Tensorflow, let's add special padding tokens at the end of each review until they are all the same length.\n",
    "\n",
    "We'll also use this operation to limit the number of token positions by truncating all reviews to a specified length. In the code below, as an example, we pad all training inputs to length 300."
   ]
  },
  {
   "cell_type": "code",
   "execution_count": 85,
   "metadata": {
    "colab": {
     "base_uri": "https://localhost:8080/"
    },
    "executionInfo": {
     "elapsed": 766,
     "status": "ok",
     "timestamp": 1646684609342,
     "user": {
      "displayName": "Daniel Gillick",
      "photoUrl": "https://lh3.googleusercontent.com/a-/AOh14Gg9DrSMlwYnG9EolecuJqe8n9m7fpcje4_UbYrhQ10=s64",
      "userId": "01872965353911650729"
     },
     "user_tz": 600
    },
    "id": "a4ou8bSUCWOx",
    "outputId": "be4bc9e1-47aa-4f82-e23b-569f8d6128a4"
   },
   "outputs": [
    {
     "name": "stdout",
     "output_type": "stream",
     "text": [
      "Length of X_train[0]: 218\n",
      "Length of X_train_padded[0]: 300\n",
      "[    1    14    22    16    43   530   973  1622  1385    65   458  4468\n",
      "    66  3941     4   173    36   256     5    25   100    43   838   112\n",
      "    50   670 22665     9    35   480   284     5   150     4   172   112\n",
      "   167 21631   336   385    39     4   172  4536  1111    17   546    38\n",
      "    13   447     4   192    50    16     6   147  2025    19    14    22\n",
      "     4  1920  4613   469     4    22    71    87    12    16    43   530\n",
      "    38    76    15    13  1247     4    22    17   515    17    12    16\n",
      "   626    18 19193     5    62   386    12     8   316     8   106     5\n",
      "     4  2223  5244    16   480    66  3785    33     4   130    12    16\n",
      "    38   619     5    25   124    51    36   135    48    25  1415    33\n",
      "     6    22    12   215    28    77    52     5    14   407    16    82\n",
      " 10311     8     4   107   117  5952    15   256     4 31050     7  3766\n",
      "     5   723    36    71    43   530   476    26   400   317    46     7\n",
      "     4 12118  1029    13   104    88     4   381    15   297    98    32\n",
      "  2071    56    26   141     6   194  7486    18     4   226    22    21\n",
      "   134   476    26   480     5   144    30  5535    18    51    36    28\n",
      "   224    92    25   104     4   226    65    16    38  1334    88    12\n",
      "    16   283     5    16  4472   113   103    32    15    16  5345    19\n",
      "   178    32     0     0     0     0     0     0     0     0     0     0\n",
      "     0     0     0     0     0     0     0     0     0     0     0     0\n",
      "     0     0     0     0     0     0     0     0     0     0     0     0\n",
      "     0     0     0     0     0     0     0     0     0     0     0     0\n",
      "     0     0     0     0     0     0     0     0     0     0     0     0\n",
      "     0     0     0     0     0     0     0     0     0     0     0     0\n",
      "     0     0     0     0     0     0     0     0     0     0     0     0]\n"
     ]
    }
   ],
   "source": [
    "def pad_data(sequences, max_length):\n",
    "  # Keras has a convenient utility for padding a sequence.\n",
    "  # Also make sure we get a numpy array rather than an array of lists.\n",
    "  return np.array(list(\n",
    "      tf.keras.preprocessing.sequence.pad_sequences(\n",
    "          sequences, maxlen=max_length, padding='post', value=0)))\n",
    "\n",
    "# Pad and truncate to 300 tokens.\n",
    "X_train_padded = pad_data(X_train, max_length=300)\n",
    "\n",
    "# Check the padded output.\n",
    "print('Length of X_train[0]:', len(X_train[0]))\n",
    "print('Length of X_train_padded[0]:', len(X_train_padded[0]))\n",
    "print(X_train_padded[0])"
   ]
  },
  {
   "cell_type": "markdown",
   "metadata": {
    "id": "lFEmcwBjL4e_"
   },
   "source": [
    "### Reduced Vocabulary\n",
    "We also want to be able to limit the vocabulary size. Since our padding function produces fixed-length sequences in a numpy matrix, we can use clever numpy indexing to efficiently replace all token ids larger than some value with the designated out-of-vocabulary (OOV) id.\n",
    "\n",
    "In the code below, as an example, we'll keep just token ids less than 1000, replacing all others with OOV."
   ]
  },
  {
   "cell_type": "code",
   "execution_count": 86,
   "metadata": {
    "colab": {
     "base_uri": "https://localhost:8080/"
    },
    "executionInfo": {
     "elapsed": 347,
     "status": "ok",
     "timestamp": 1646684634116,
     "user": {
      "displayName": "Daniel Gillick",
      "photoUrl": "https://lh3.googleusercontent.com/a-/AOh14Gg9DrSMlwYnG9EolecuJqe8n9m7fpcje4_UbYrhQ10=s64",
      "userId": "01872965353911650729"
     },
     "user_tz": 600
    },
    "id": "21qpyEgGNQeB",
    "outputId": "148ce890-4376-4c5a-f96a-9fb50cbe9538"
   },
   "outputs": [
    {
     "name": "stdout",
     "output_type": "stream",
     "text": [
      "[  1  14  22  16  43 530 973   2   2  65 458   2  66   2   4 173  36 256\n",
      "   5  25 100  43 838 112  50 670   2   9  35 480 284   5 150   4 172 112\n",
      " 167   2 336 385  39   4 172   2   2  17 546  38  13 447   4 192  50  16\n",
      "   6 147   2  19  14  22   4   2   2 469   4  22  71  87  12  16  43 530\n",
      "  38  76  15  13   2   4  22  17 515  17  12  16 626  18   2   5  62 386\n",
      "  12   8 316   8 106   5   4   2   2  16 480  66   2  33   4 130  12  16\n",
      "  38 619   5  25 124  51  36 135  48  25   2  33   6  22  12 215  28  77\n",
      "  52   5  14 407  16  82   2   8   4 107 117   2  15 256   4   2   7   2\n",
      "   5 723  36  71  43 530 476  26 400 317  46   7   4   2   2  13 104  88\n",
      "   4 381  15 297  98  32   2  56  26 141   6 194   2  18   4 226  22  21\n",
      " 134 476  26 480   5 144  30   2  18  51  36  28 224  92  25 104   4 226\n",
      "  65  16  38   2  88  12  16 283   5  16   2 113 103  32  15  16   2  19\n",
      " 178  32   0   0   0   0   0   0   0   0   0   0   0   0   0   0   0   0\n",
      "   0   0   0   0   0   0   0   0   0   0   0   0   0   0   0   0   0   0\n",
      "   0   0   0   0   0   0   0   0   0   0   0   0   0   0   0   0   0   0\n",
      "   0   0   0   0   0   0   0   0   0   0   0   0   0   0   0   0   0   0\n",
      "   0   0   0   0   0   0   0   0   0   0   0   0]\n",
      "<START> this film was just brilliant casting # # story direction # really # the part they played and you could just imagine being there robert # is an amazing actor and now the same being director # father came from the same # # as myself so i loved the fact there was a real # with this film the # # throughout the film were great it was just brilliant so much that i # the film as soon as it was released for # and would recommend it to everyone to watch and the # # was amazing really # at the end it was so sad and you know what they say if you # at a film it must have been good and this definitely was also # to the two little # that played the # of # and paul they were just brilliant children are often left out of the # # i think because the stars that play them all # up are such a big # for the whole film but these children are amazing and should be # for what they have done don't you think the whole story was so # because it was true and was # life after all that was # with us all # # # # # # # # # # # # # # # # # # # # # # # # # # # # # # # # # # # # # # # # # # # # # # # # # # # # # # # # # # # # # # # # # # # # # # # # # # # # # # # # # #\n"
     ]
    }
   ],
   "source": [
    "def limit_vocab(sequences, max_token_id, oov_id=2):\n",
    "  \"\"\"Replace token ids greater than or equal to max_token_id with the oov_id.\"\"\"\n",
    "  reduced_sequences = np.copy(sequences)\n",
    "  reduced_sequences[reduced_sequences >= max_token_id] = oov_id\n",
    "  return reduced_sequences\n",
    "\n",
    "# Reduce vocabulary to 1000 tokens.\n",
    "X_train_reduced = limit_vocab(X_train_padded, max_token_id=1000)\n",
    "print(X_train_reduced[0])\n",
    "\n",
    "# Decode to see what this looks like in tokens. Note the '#' for OOVs.\n",
    "print(decode(X_train_reduced[0]))"
   ]
  },
  {
   "cell_type": "markdown",
   "metadata": {
    "id": "d24mOPC6ybC4"
   },
   "source": [
    "### One-hot Encoding\n",
    "Our current feature representations are **sparse**. That is, we only keep track of the token ids that are present in the input. A **one-hot** encoding replaces a value like 22 (corresponding to 'film') with an array with a single 1 at position 22 and zeros everywhere else. This will be very memory-inefficient, but we'll do it anyway for clarity.\n",
    "\n",
    "As discussed above, let's dramatically reduce both the number of token positions (review length) and the number of token ids (vocabulary). We'll clip each review after 20 tokens (so 2500 -> 20) and keep only the most common 1000 tokens (so 90000 -> 1000)."
   ]
  },
  {
   "cell_type": "code",
   "execution_count": 87,
   "metadata": {
    "colab": {
     "base_uri": "https://localhost:8080/"
    },
    "executionInfo": {
     "elapsed": 1777,
     "status": "ok",
     "timestamp": 1646684668163,
     "user": {
      "displayName": "Daniel Gillick",
      "photoUrl": "https://lh3.googleusercontent.com/a-/AOh14Gg9DrSMlwYnG9EolecuJqe8n9m7fpcje4_UbYrhQ10=s64",
      "userId": "01872965353911650729"
     },
     "user_tz": 600
    },
    "id": "EXzkqVL3Jufj",
    "outputId": "69a06ea3-61e2-4d2b-ed57-69c51ee2c5f4"
   },
   "outputs": [
    {
     "name": "stdout",
     "output_type": "stream",
     "text": [
      "X_train_one_hot shape: (25000, 20, 1000)\n"
     ]
    }
   ],
   "source": [
    "# Keras has a util to create one-hot encodings.\n",
    "X_train_padded = pad_data(X_train, max_length=20)\n",
    "X_train_reduced = limit_vocab(X_train_padded, max_token_id=1000)\n",
    "X_train_one_hot = tf.keras.utils.to_categorical(X_train_reduced)\n",
    "print('X_train_one_hot shape:', X_train_one_hot.shape)"
   ]
  },
  {
   "cell_type": "markdown",
   "metadata": {
    "id": "B5RvIN4w66Ej"
   },
   "source": [
    "Note the shape of the one-hot encoded features. For each of our 25000 training examples, we have a 20 x 1000 matrix. That is, for each of 20 token positions, we have a vector of 1000 elements containing a single 1 and 999 zeros.\n",
    "\n",
    "We can think of these 1000-dimensional one-hot arrays as **embeddings**. Each token in the input has a 1000-dimensional representation. But because of the one-hot setup, the distance between each pair of tokens is the same ([1,0,0,...], [0,1,0,...], etc.). By contrast, learned embeddings result in meaningful distances between pairs of tokens. We'll get to that soon."
   ]
  },
  {
   "cell_type": "markdown",
   "metadata": {
    "id": "296Cnt647b5c"
   },
   "source": [
    "## Logistic Regression with One-Hot Encodings\n",
    "Let's start with something familiar -- logistic regression. Since our feature representation is in 2 dimensions (20 x 1000), we need to flatten it to pass it to Keras (remember we did this with the pixel data too). Let's try two strategies for flattening.\n",
    "\n",
    "1. Flatten by *concatenating* (as we did with pixels), turning (20 x 1000) data into (20000,) data. The result is a separate feature for each token at each position.\n",
    "2. Flatten by *averaging* over token positions, turning (20 x 1000) data into (1000,) data. The result is an array with average token counts, ignoring position.\n",
    "\n",
    "NOTE: Our prior assignments have used the standard Stochastic Gradient Descent (SGD) optimizer to compute the gradient from an estimate of the loss (based on the current mini-batch). There are many alternative optimizers. Here we'll use the **Adam** optimizer, which sometimes gives better results. One key characteristic of Adam is that it effectively uses a different learning rate for each parameter rather than a fixed learning rate as in SGD."
   ]
  },
  {
   "cell_type": "code",
   "execution_count": 88,
   "metadata": {
    "id": "6m6eebM-0dUW"
   },
   "outputs": [],
   "source": [
    "def build_onehot_model(average_over_positions=False):\n",
    "  \"\"\"Build a tf.keras model for one-hot data.\"\"\"\n",
    "  # Clear session and remove randomness.\n",
    "  tf.keras.backend.clear_session()\n",
    "  tf.random.set_seed(0)\n",
    "\n",
    "  model = tf.keras.Sequential()\n",
    "  if average_over_positions:\n",
    "    # This layer averages over the first dimension of the input by default.\n",
    "    model.add(tf.keras.layers.GlobalAveragePooling1D())\n",
    "  else:\n",
    "    # Concatenate.\n",
    "    model.add(tf.keras.layers.Flatten())\n",
    "  model.add(tf.keras.layers.Dense(\n",
    "      units=1,                     # output dim (for binary classification)\n",
    "      activation=\"sigmoid\"         # sigmoid activation for classification\n",
    "  ))\n",
    "\n",
    "  model.compile(loss='binary_crossentropy',   # this is a classification task\n",
    "                optimizer='adam',             # fancy optimizer\n",
    "                metrics=['accuracy'])\n",
    "\n",
    "  return model"
   ]
  },
  {
   "cell_type": "markdown",
   "metadata": {
    "id": "NY3W_1-OSZ2X"
   },
   "source": [
    "Now let's try fitting the model to our training data and check performance metrics on the validation (held-out) data. But first, here's a function for plotting the learning curves given the training history object we get from Keras."
   ]
  },
  {
   "cell_type": "code",
   "execution_count": 89,
   "metadata": {
    "id": "cOVmajSuMjN6"
   },
   "outputs": [],
   "source": [
    "def plot_history(history):\n",
    "  plt.ylabel('Loss')\n",
    "  plt.xlabel('Epoch')\n",
    "  plt.xticks(range(0, len(history['loss'] + 1)))\n",
    "  plt.plot(history['loss'], label=\"training\", marker='o')\n",
    "  plt.plot(history['val_loss'], label=\"validation\", marker='o')\n",
    "  plt.legend()\n",
    "  plt.show()"
   ]
  },
  {
   "cell_type": "code",
   "execution_count": 90,
   "metadata": {
    "colab": {
     "base_uri": "https://localhost:8080/",
     "height": 478
    },
    "executionInfo": {
     "elapsed": 22140,
     "status": "ok",
     "timestamp": 1646684718388,
     "user": {
      "displayName": "Daniel Gillick",
      "photoUrl": "https://lh3.googleusercontent.com/a-/AOh14Gg9DrSMlwYnG9EolecuJqe8n9m7fpcje4_UbYrhQ10=s64",
      "userId": "01872965353911650729"
     },
     "user_tz": 600
    },
    "id": "MyE4PgX70_op",
    "outputId": "3de05dfa-f372-4b77-ba43-f212c2f47c1e"
   },
   "outputs": [
    {
     "name": "stdout",
     "output_type": "stream",
     "text": [
      "Epoch 1/5\n",
      "352/352 [==============================] - 7s 6ms/step - loss: 0.6790 - accuracy: 0.6068 - val_loss: 0.6661 - val_accuracy: 0.6552\n",
      "Epoch 2/5\n",
      "352/352 [==============================] - 1s 4ms/step - loss: 0.6337 - accuracy: 0.7413 - val_loss: 0.6456 - val_accuracy: 0.6700\n",
      "Epoch 3/5\n",
      "352/352 [==============================] - 1s 4ms/step - loss: 0.5970 - accuracy: 0.7754 - val_loss: 0.6295 - val_accuracy: 0.6756\n",
      "Epoch 4/5\n",
      "352/352 [==============================] - 1s 4ms/step - loss: 0.5668 - accuracy: 0.7960 - val_loss: 0.6184 - val_accuracy: 0.6784\n",
      "Epoch 5/5\n",
      "352/352 [==============================] - 1s 4ms/step - loss: 0.5412 - accuracy: 0.8100 - val_loss: 0.6092 - val_accuracy: 0.6816\n"
     ]
    },
    {
     "data": {
      "image/png": "[encoded data removed]",
      "text/plain": [
       "<Figure size 432x288 with 1 Axes>"
      ]
     },
     "metadata": {},
     "output_type": "display_data"
    }
   ],
   "source": [
    "model = build_onehot_model()\n",
    "\n",
    "# Fit the model.\n",
    "history = model.fit(\n",
    "  x = X_train_one_hot,  # one-hot training data\n",
    "  y = Y_train,          # corresponding binary labels\n",
    "  epochs=5,             # number of passes through the training data\n",
    "  batch_size=64,        # mini-batch size\n",
    "  validation_split=0.1, # use a fraction of the examples for validation\n",
    "  verbose=1             # display some progress output during training\n",
    "  )\n",
    "\n",
    "# Convert the return value into a DataFrame so we can see the train loss \n",
    "# and binary accuracy after every epoch.\n",
    "history = pd.DataFrame(history.history)\n",
    "plot_history(history)"
   ]
  },
  {
   "cell_type": "markdown",
   "metadata": {
    "id": "QuCh9aQPv7F_"
   },
   "source": [
    "---\n",
    "### Exercise 2: Comparing logistic regrerssion models (8 points)\n",
    "Train the one-hot model using both the concatenating and the averaging strategies and compare the results. Let's call these *LR-C* (Logistic Regression Concatenating) and *LR-A* (Logistic Regression Averaging). Then answer the following questions:\n",
    "\n",
    "1. What are the final training and validation accuracies for LR-C and LR-A?\n",
    "2. How many parameters are there in each model?\n",
    "3. Would you say that either model is overfitting? Why or why not?\n",
    "4. Briefly describe how LR-C differs from LR-A. How do you explain the relationship between their respective validation accuracy results? "
   ]
  },
  {
   "cell_type": "markdown",
   "metadata": {
    "id": "CEAN5BejHc__"
   },
   "source": [
    "*Written answers:*\n",
    "\n",
    "1. Model *LR-C* (Logistic Regression Concatenating) has a final training accuracy of 0.8100 and a final validation accuracy of 0.6816. Model *LR-A* (Logistic Regression Averaging) has a final training accuracy of 0.6942 and a final validation accuracy of 0.6884.    \n",
    "2. Model *LR-C* (Logistic Regression Concatenating) flattens by turning (20 x 1000) data into (20000,) parameters. Model *LR-A* (Logistic Regression Averaging) flattens turning (20 x 1000) data into (1000,) parameters.\n",
    "3. Model *LR-C* (Logistic Regression Concatenating) is overfitting. The model is performing well on the training data but is not well with the validation data. \n",
    "4. Model *LR-C* (Logistic Regression Concatenating) = The result is a separate feature for each token at each position. Model *LR-A* (Logistic Regression Averaging) = The result is an array with average token counts, ignoring position. The concatenating has a final validation accuracy of 0.6816. The averaging has a final validation accuracy of 0.6884. With these results the Logistic Regression Averaging does not suffer of overfitting. \n"
   ]
  },
  {
   "cell_type": "code",
   "execution_count": 102,
   "metadata": {},
   "outputs": [
    {
     "name": "stdout",
     "output_type": "stream",
     "text": [
      "Epoch 1/5\n",
      "352/352 [==============================] - 2s 4ms/step - loss: 0.6790 - accuracy: 0.6068 - val_loss: 0.6661 - val_accuracy: 0.6552\n",
      "Epoch 2/5\n",
      "352/352 [==============================] - 1s 4ms/step - loss: 0.6337 - accuracy: 0.7413 - val_loss: 0.6456 - val_accuracy: 0.6700\n",
      "Epoch 3/5\n",
      "352/352 [==============================] - 1s 4ms/step - loss: 0.5970 - accuracy: 0.7754 - val_loss: 0.6295 - val_accuracy: 0.6756\n",
      "Epoch 4/5\n",
      "352/352 [==============================] - 1s 4ms/step - loss: 0.5668 - accuracy: 0.7960 - val_loss: 0.6184 - val_accuracy: 0.6784\n",
      "Epoch 5/5\n",
      "352/352 [==============================] - 1s 4ms/step - loss: 0.5412 - accuracy: 0.8100 - val_loss: 0.6092 - val_accuracy: 0.6816\n"
     ]
    },
    {
     "data": {
      "image/png": "[encoded data removed]",
      "text/plain": [
       "<Figure size 432x288 with 1 Axes>"
      ]
     },
     "metadata": {},
     "output_type": "display_data"
    },
    {
     "name": "stdout",
     "output_type": "stream",
     "text": [
      "Model: \"sequential\"\n",
      "_________________________________________________________________\n",
      " Layer (type)                Output Shape              Param #   \n",
      "=================================================================\n",
      " flatten (Flatten)           (None, 20000)             0         \n",
      "                                                                 \n",
      " dense (Dense)               (None, 1)                 20001     \n",
      "                                                                 \n",
      "=================================================================\n",
      "Total params: 20,001\n",
      "Trainable params: 20,001\n",
      "Non-trainable params: 0\n",
      "_________________________________________________________________\n"
     ]
    }
   ],
   "source": [
    "\n",
    "# def build_onehot_model(average_over_positions=False):\n",
    "# Logistic Regression Concatenating \n",
    "\n",
    "# if average_over_positions = False \n",
    "# Will use Concatenate \n",
    "\n",
    "model = build_onehot_model(average_over_positions=False)\n",
    "\n",
    "# Fit the model.\n",
    "history = model.fit(\n",
    "  x = X_train_one_hot,  # one-hot training data\n",
    "  y = Y_train,          # corresponding binary labels\n",
    "  epochs=5,             # number of passes through the training data\n",
    "  batch_size=64,        # mini-batch size\n",
    "  validation_split=0.1, # use a fraction of the examples for validation\n",
    "  verbose=1             # display some progress output during training\n",
    "  )\n",
    "\n",
    "# Convert the return value into a DataFrame so we can see the train loss \n",
    "# and binary accuracy after every epoch.\n",
    "history = pd.DataFrame(history.history)\n",
    "plot_history(history)\n",
    "\n",
    "# print model summary\n",
    "model.summary()\n"
   ]
  },
  {
   "cell_type": "code",
   "execution_count": 103,
   "metadata": {},
   "outputs": [
    {
     "name": "stdout",
     "output_type": "stream",
     "text": [
      "Epoch 1/5\n",
      "352/352 [==============================] - 2s 3ms/step - loss: 0.6908 - accuracy: 0.6044 - val_loss: 0.6886 - val_accuracy: 0.6336\n",
      "Epoch 2/5\n",
      "352/352 [==============================] - 1s 3ms/step - loss: 0.6857 - accuracy: 0.6689 - val_loss: 0.6840 - val_accuracy: 0.6664\n",
      "Epoch 3/5\n",
      "352/352 [==============================] - 1s 3ms/step - loss: 0.6808 - accuracy: 0.6715 - val_loss: 0.6793 - val_accuracy: 0.6844\n",
      "Epoch 4/5\n",
      "352/352 [==============================] - 1s 3ms/step - loss: 0.6761 - accuracy: 0.6933 - val_loss: 0.6751 - val_accuracy: 0.6852\n",
      "Epoch 5/5\n",
      "352/352 [==============================] - 1s 3ms/step - loss: 0.6715 - accuracy: 0.6942 - val_loss: 0.6711 - val_accuracy: 0.6884\n"
     ]
    },
    {
     "data": {
      "image/png": "[encoded data removed]",
      "text/plain": [
       "<Figure size 432x288 with 1 Axes>"
      ]
     },
     "metadata": {},
     "output_type": "display_data"
    },
    {
     "name": "stdout",
     "output_type": "stream",
     "text": [
      "Model: \"sequential\"\n",
      "_________________________________________________________________\n",
      " Layer (type)                Output Shape              Param #   \n",
      "=================================================================\n",
      " global_average_pooling1d (G  (None, 1000)             0         \n",
      " lobalAveragePooling1D)                                          \n",
      "                                                                 \n",
      " dense (Dense)               (None, 1)                 1001      \n",
      "                                                                 \n",
      "=================================================================\n",
      "Total params: 1,001\n",
      "Trainable params: 1,001\n",
      "Non-trainable params: 0\n",
      "_________________________________________________________________\n"
     ]
    }
   ],
   "source": [
    "\n",
    "# def build_onehot_model(average_over_positions=False):\n",
    "# Logistic Regression Averaging\n",
    "\n",
    "# if average_over_positions = True \n",
    "# This layer averages over the first dimension of the input by default.\n",
    "\n",
    "model = build_onehot_model(average_over_positions=True)\n",
    "\n",
    "# Fit the model.\n",
    "history = model.fit(\n",
    "  x = X_train_one_hot,  # one-hot training data\n",
    "  y = Y_train,          # corresponding binary labels\n",
    "  epochs=5,             # number of passes through the training data\n",
    "  batch_size=64,        # mini-batch size\n",
    "  validation_split=0.1, # use a fraction of the examples for validation\n",
    "  verbose=1             # display some progress output during training\n",
    "  )\n",
    "\n",
    "# Convert the return value into a DataFrame so we can see the train loss \n",
    "# and binary accuracy after every epoch.\n",
    "history = pd.DataFrame(history.history)\n",
    "plot_history(history)\n",
    "\n",
    "# print model summary\n",
    "model.summary()\n"
   ]
  },
  {
   "cell_type": "markdown",
   "metadata": {},
   "source": [
    "---"
   ]
  },
  {
   "cell_type": "markdown",
   "metadata": {
    "id": "sJIBRqK7lsjG"
   },
   "source": [
    "## Logistic Regression with Embeddings\n",
    "Next, let's train model that replaces one-hot representations of each token with learned embeddings.\n",
    "\n",
    "The code below uses a Keras Embedding layer, which expects to receive a sparse (rather than one-hot) representation. That is, it expects a (padded) sequence of token ids; for each id, it looks up the corresponding embedding vector."
   ]
  },
  {
   "cell_type": "code",
   "execution_count": 91,
   "metadata": {
    "id": "ho6uOeCaBs2e"
   },
   "outputs": [],
   "source": [
    "def build_embeddings_model(average_over_positions=False,\n",
    "                           vocab_size=1000,\n",
    "                           sequence_length=20,\n",
    "                           embedding_dim=2):\n",
    "  \"\"\"Build a tf.keras model using embeddings.\"\"\"\n",
    "  # Clear session and remove randomness.\n",
    "  tf.keras.backend.clear_session()\n",
    "  tf.random.set_seed(0)\n",
    "\n",
    "  model = tf.keras.Sequential()\n",
    "  model.add(tf.keras.layers.Embedding(\n",
    "      input_dim=vocab_size,\n",
    "      output_dim=embedding_dim,\n",
    "      input_length=sequence_length)\n",
    "  )\n",
    "\n",
    "  if average_over_positions:\n",
    "    # This layer averages over the first dimension of the input by default.\n",
    "    model.add(tf.keras.layers.GlobalAveragePooling1D())\n",
    "  else:\n",
    "    # Concatenate.\n",
    "    model.add(tf.keras.layers.Flatten())\n",
    "  model.add(tf.keras.layers.Dense(\n",
    "      units=1,                     # output dim (for binary classification)\n",
    "      activation='sigmoid'         # apply the sigmoid function!\n",
    "  ))\n",
    "\n",
    "  model.compile(loss='binary_crossentropy', \n",
    "                optimizer='adam',\n",
    "                metrics=['accuracy'])\n",
    "\n",
    "  return model"
   ]
  },
  {
   "cell_type": "markdown",
   "metadata": {
    "id": "eyhoEjAiFSNB"
   },
   "source": [
    "Try training the model as before. We'll use the averaging strategy rather than the concatenating strategy for dealing with the token sequence. That is, we'll look up embedding vectors for each token. Then we'll average them to produce a single vector. Then we'll traing a logistic regression with that vector as input to predict the binary label."
   ]
  },
  {
   "cell_type": "code",
   "execution_count": 92,
   "metadata": {
    "colab": {
     "base_uri": "https://localhost:8080/",
     "height": 478
    },
    "executionInfo": {
     "elapsed": 5490,
     "status": "ok",
     "timestamp": 1646684762935,
     "user": {
      "displayName": "Daniel Gillick",
      "photoUrl": "https://lh3.googleusercontent.com/a-/AOh14Gg9DrSMlwYnG9EolecuJqe8n9m7fpcje4_UbYrhQ10=s64",
      "userId": "01872965353911650729"
     },
     "user_tz": 600
    },
    "id": "uYUE5UwkxoU8",
    "outputId": "20a4c237-8c49-4b24-9ea1-e0f325cb9908"
   },
   "outputs": [
    {
     "name": "stdout",
     "output_type": "stream",
     "text": [
      "Epoch 1/5\n",
      "352/352 [==============================] - 2s 2ms/step - loss: 0.6891 - accuracy: 0.6316 - val_loss: 0.6829 - val_accuracy: 0.6612\n",
      "Epoch 2/5\n",
      "352/352 [==============================] - 0s 1ms/step - loss: 0.6713 - accuracy: 0.6893 - val_loss: 0.6610 - val_accuracy: 0.6860\n",
      "Epoch 3/5\n",
      "352/352 [==============================] - 0s 1ms/step - loss: 0.6448 - accuracy: 0.7018 - val_loss: 0.6349 - val_accuracy: 0.6980\n",
      "Epoch 4/5\n",
      "352/352 [==============================] - 0s 1ms/step - loss: 0.6174 - accuracy: 0.7140 - val_loss: 0.6119 - val_accuracy: 0.7040\n",
      "Epoch 5/5\n",
      "352/352 [==============================] - 0s 1ms/step - loss: 0.5933 - accuracy: 0.7190 - val_loss: 0.5931 - val_accuracy: 0.7100\n"
     ]
    },
    {
     "data": {
      "image/png": "[encoded data removed]",
      "text/plain": [
       "<Figure size 432x288 with 1 Axes>"
      ]
     },
     "metadata": {},
     "output_type": "display_data"
    }
   ],
   "source": [
    "model = build_embeddings_model(average_over_positions=True,\n",
    "                               vocab_size=1000,\n",
    "                               sequence_length=20,\n",
    "                               embedding_dim=2)\n",
    "history = model.fit(\n",
    "  x = X_train_reduced,  # our sparse padded training data\n",
    "  y = Y_train,          # corresponding binary labels\n",
    "  epochs=5,             # number of passes through the training data\n",
    "  batch_size=64,        # mini-batch size\n",
    "  validation_split=0.1, # use a fraction of the examples for validation\n",
    "  verbose=1             # display some progress output during training\n",
    "  )\n",
    "\n",
    "history = pd.DataFrame(history.history)\n",
    "plot_history(history)"
   ]
  },
  {
   "cell_type": "markdown",
   "metadata": {
    "id": "V3k__61hFnag"
   },
   "source": [
    "---\n",
    "### Exercise 3: Experiments with embeddings (8 points)\n",
    "Train 6 models with embedding sizes in [2,4,8,16,32,64], keeping other settings fixed. Use the averaging strategy rather than the concatenating strategy.\n",
    "\n",
    "1. Construct a table with the training and validation accuracies of each model (after 5 training epochs).\n",
    "2. Compute the number of parameters in each model.\n",
    "3. Do learned embeddings appear to provide improved performance over the one-hot encoding? Why?"
   ]
  },
  {
   "cell_type": "markdown",
   "metadata": {
    "id": "O7t46ZdX2ofd"
   },
   "source": [
    "*Written answers:*\n",
    "\n",
    "1. \n",
    "2. \n",
    "3. \n"
   ]
  },
  {
   "cell_type": "markdown",
   "metadata": {},
   "source": [
    "---"
   ]
  },
  {
   "cell_type": "markdown",
   "metadata": {
    "id": "i2dWOuxqKHA6"
   },
   "source": [
    "## Inspecting Learned Embeddings\n",
    "Let's retrieve the learned embedding parameters from the trained model and plot the token embeddings.\n",
    "\n",
    "The model layers in a Keras Sequential model are stored as a list and the embeddings are the first layer. We can use the get_weights() function to get a numpy array with the parameters."
   ]
  },
  {
   "cell_type": "code",
   "execution_count": 93,
   "metadata": {
    "colab": {
     "base_uri": "https://localhost:8080/",
     "height": 86
    },
    "executionInfo": {
     "elapsed": 355,
     "status": "ok",
     "timestamp": 1646684774106,
     "user": {
      "displayName": "Daniel Gillick",
      "photoUrl": "https://lh3.googleusercontent.com/a-/AOh14Gg9DrSMlwYnG9EolecuJqe8n9m7fpcje4_UbYrhQ10=s64",
      "userId": "01872965353911650729"
     },
     "user_tz": 600
    },
    "id": "bfsbGSwkaFjo",
    "outputId": "d9d74723-012f-464f-a9f3-8a41d8178868"
   },
   "outputs": [
    {
     "data": {
      "text/plain": [
       "[<keras.layers.embeddings.Embedding at 0x12962506f70>,\n",
       " <keras.layers.pooling.GlobalAveragePooling1D at 0x12961f40c40>,\n",
       " <keras.layers.core.dense.Dense at 0x1296114d790>]"
      ]
     },
     "metadata": {},
     "output_type": "display_data"
    },
    {
     "data": {
      "text/plain": [
       "(1000, 2)"
      ]
     },
     "metadata": {},
     "output_type": "display_data"
    }
   ],
   "source": [
    "# Display the model layers.\n",
    "display(model.layers)\n",
    "\n",
    "# Retrieve the embeddings layer, which itself is wrapped in a list.\n",
    "embeddings = model.layers[0].get_weights()[0]\n",
    "display(embeddings.shape)"
   ]
  },
  {
   "cell_type": "markdown",
   "metadata": {
    "id": "apPWscNwcXTE"
   },
   "source": [
    "Now we'll use a fancy plotting tool called *plotly* to show the embeddings with hovertext so you can move your mouse over the points to see the corresponding tokens."
   ]
  },
  {
   "cell_type": "code",
   "execution_count": 94,
   "metadata": {
    "colab": {
     "base_uri": "https://localhost:8080/",
     "height": 542
    },
    "executionInfo": {
     "elapsed": 453,
     "status": "ok",
     "timestamp": 1646684778338,
     "user": {
      "displayName": "Daniel Gillick",
      "photoUrl": "https://lh3.googleusercontent.com/a-/AOh14Gg9DrSMlwYnG9EolecuJqe8n9m7fpcje4_UbYrhQ10=s64",
      "userId": "01872965353911650729"
     },
     "user_tz": 600
    },
    "id": "5RZMTrA0KttL",
    "outputId": "f5ec9b65-84bb-4c28-c673-cf86a87112df"
   },
   "outputs": [
    {
     "data": {
      "application/vnd.plotly.v1+json": {
       "config": {
        "plotlyServerURL": "https://plot.ly"
       },
       "data": [
        {
         "hoverinfo": "text",
         "mode": "markers",
         "text": [
          "game",
          "past",
          "able",
          "b",
          "days",
          "turns",
          "child",
          "they're",
          "hand",
          "flick",
          "enjoyed",
          "act",
          "genre",
          "town",
          "favorite",
          "soon",
          "kill",
          "starts",
          "sometimes",
          "car",
          "gave",
          "run",
          "late",
          "eyes",
          "actress",
          "etc",
          "directed",
          "horrible",
          "won't",
          "viewer",
          "brilliant",
          "parts",
          "self",
          "themselves",
          "hour",
          "expect",
          "thinking",
          "stories",
          "stuff",
          "girls",
          "obviously",
          "blood",
          "decent",
          "city",
          "voice",
          "highly",
          "myself",
          "feeling",
          "fight",
          "except",
          "slow",
          "matter",
          "type",
          "anyway",
          "kid",
          "roles",
          "killed",
          "heard",
          "god",
          "age",
          "says",
          "moment",
          "took",
          "leave",
          "writer",
          "strong",
          "cannot",
          "violence",
          "police",
          "hit",
          "stop",
          "happens",
          "particularly",
          "known",
          "involved",
          "happened",
          "extremely",
          "daughter",
          "obvious",
          "told",
          "chance",
          "living",
          "coming",
          "lack",
          "alone",
          "experience",
          "wouldn't",
          "including",
          "murder",
          "attempt",
          "s",
          "please",
          "james",
          "happen",
          "wonder",
          "crap",
          "ago",
          "brother",
          "film's",
          "gore",
          "none",
          "complete",
          "interest",
          "score",
          "group",
          "cut",
          "simple",
          "save",
          "ok",
          "hell",
          "looked",
          "career",
          "number",
          "song",
          "possible",
          "seriously",
          "annoying",
          "shown",
          "exactly",
          "sad",
          "running",
          "musical",
          "serious",
          "taken",
          "yourself",
          "whose",
          "released",
          "cinematography",
          "david",
          "scary",
          "ends",
          "english",
          "hero",
          "usually",
          "hours",
          "reality",
          "opening",
          "i'll",
          "across",
          "today",
          "jokes",
          "light",
          "hilarious",
          "somewhat",
          "usual",
          "started",
          "cool",
          "ridiculous",
          "body",
          "relationship",
          "view",
          "level",
          "opinion",
          "change",
          "happy",
          "middle",
          "taking",
          "wish",
          "husband",
          "finds",
          "saying",
          "order",
          "talking",
          "ones",
          "documentary",
          "shots",
          "huge",
          "novel",
          "female",
          "mostly",
          "robert",
          "power",
          "episodes",
          "room",
          "important",
          "rating",
          "talent",
          "five",
          "major",
          "turned",
          "strange",
          "word",
          "modern",
          "call",
          "apparently",
          "disappointed",
          "single",
          "events",
          "due",
          "four",
          "songs",
          "basically",
          "attention",
          "7",
          "knows",
          "clearly",
          "supporting",
          "knew",
          "british",
          "television",
          "comic",
          "non",
          "fast",
          "earth",
          "country",
          "future",
          "cheap",
          "class",
          "thriller",
          "8",
          "silly",
          "king",
          "problems",
          "aren't",
          "easily",
          "words",
          "tells",
          "miss",
          "jack",
          "local",
          "sequence",
          "bring",
          "entertainment",
          "paul",
          "beyond",
          "upon",
          "whether",
          "predictable",
          "moving",
          "similar",
          "straight",
          "romantic",
          "sets",
          "review",
          "falls",
          "oscar",
          "mystery",
          "enjoyable",
          "needs",
          "appears",
          "talk",
          "rock",
          "george",
          "giving",
          "eye",
          "richard",
          "within",
          "ten",
          "animation",
          "message",
          "theater",
          "near",
          "above",
          "dull",
          "nearly",
          "sequel",
          "theme",
          "points",
          "'",
          "stand",
          "mention",
          "lady",
          "bunch",
          "add",
          "feels",
          "herself",
          "release",
          "red",
          "team",
          "storyline",
          "surprised",
          "ways",
          "using",
          "named",
          "haven't",
          "lots",
          "easy",
          "fantastic",
          "begins",
          "actual",
          "working",
          "effort",
          "york",
          "die",
          "hate",
          "french",
          "minute",
          "tale",
          "clear",
          "stay",
          "9",
          "elements",
          "feature",
          "among",
          "follow",
          "comments",
          "re",
          "viewers",
          "avoid",
          "sister",
          "showing",
          "typical",
          "editing",
          "what's",
          "famous",
          "tried",
          "sorry",
          "dialog",
          "check",
          "fall",
          "period",
          "season",
          "form",
          "certain",
          "filmed",
          "weak",
          "soundtrack",
          "means",
          "buy",
          "material",
          "somehow",
          "realistic",
          "figure",
          "crime",
          "doubt",
          "gone",
          "peter",
          "tom",
          "kept",
          "viewing",
          "t",
          "general",
          "leads",
          "greatest",
          "space",
          "lame",
          "suspense",
          "dance",
          "imagine",
          "brought",
          "third",
          "atmosphere",
          "hear",
          "particular",
          "sequences",
          "whatever",
          "parents",
          "move",
          "lee",
          "indeed",
          "learn",
          "rent",
          "de",
          "eventually",
          "note",
          "deal",
          "average",
          "reviews",
          "wait",
          "forget",
          "japanese",
          "sexual",
          "poorly",
          "premise",
          "okay",
          "zombie",
          "surprise",
          "believable",
          "stage",
          "possibly",
          "sit",
          "who's",
          "decided",
          "expected",
          "you've",
          "subject",
          "nature",
          "became",
          "difficult",
          "free",
          "killing",
          "screenplay",
          "truth",
          "romance",
          "dr",
          "nor",
          "reading",
          "needed",
          "question",
          "leaves",
          "street",
          "20",
          "meets",
          "hot",
          "unless",
          "begin",
          "baby",
          "superb",
          "credits",
          "imdb",
          "otherwise",
          "write",
          "shame",
          "let's",
          "situation",
          "dramatic",
          "memorable",
          "directors",
          "earlier",
          "meet",
          "disney",
          "open",
          "dog",
          "badly",
          "joe",
          "male",
          "weird",
          "acted",
          "forced",
          "laughs",
          "sci",
          "emotional",
          "older",
          "realize",
          "fi",
          "dream",
          "society",
          "writers",
          "interested",
          "footage",
          "forward",
          "comment",
          "crazy",
          "deep",
          "sounds",
          "plus",
          "beauty",
          "whom",
          "america",
          "fantasy",
          "directing",
          "keeps",
          "ask",
          "development",
          "features",
          "air",
          "quickly",
          "mess",
          "creepy",
          "towards",
          "perfectly",
          "mark",
          "worked",
          "box",
          "cheesy",
          "unique",
          "setting",
          "hands",
          "plenty",
          "result",
          "previous",
          "brings",
          "effect",
          "e",
          "total",
          "personal",
          "incredibly",
          "rate",
          "fire",
          "monster",
          "business",
          "leading",
          "apart",
          "casting",
          "admit",
          "joke",
          "powerful",
          "appear",
          "background",
          "telling",
          "girlfriend",
          "meant",
          "christmas",
          "hardly",
          "present",
          "battle",
          "potential",
          "create",
          "bill",
          "break",
          "pay",
          "masterpiece",
          "gay",
          "political",
          "return",
          "dumb",
          "fails",
          "fighting",
          "various",
          "era"
         ],
         "textposition": "bottom left",
         "type": "scatter",
         "x": [
          0.2821241617202759,
          0.14851346611976624,
          0.01092548482120037,
          -0.016490304842591286,
          0.26912814378738403,
          -0.06752043962478638,
          0.1703818291425705,
          -0.13651041686534882,
          -0.3538544774055481,
          -0.19186659157276154,
          0.6333377361297607,
          -0.19411428272724152,
          0.42462456226348877,
          0.03978627547621727,
          0.82335364818573,
          0.29972147941589355,
          -0.3382546007633209,
          -0.09761807322502136,
          0.3218116760253906,
          -0.3047347664833069,
          0.014277471229434013,
          -0.28456971049308777,
          0.1076677218079567,
          0.13419319689273834,
          0.047503747045993805,
          -0.24298644065856934,
          -0.13081391155719757,
          -0.9618691205978394,
          0.15927207469940186,
          0.0420391671359539,
          0.8008347153663635,
          0.2197817862033844,
          -0.3272162973880768,
          0.009630626998841763,
          -0.19770875573158264,
          -0.17091241478919983,
          -0.16828292608261108,
          0.43289145827293396,
          0.11555691808462143,
          -0.020134268328547478,
          -0.22952747344970703,
          0.08060441166162491,
          -0.51800537109375,
          0.08842090517282486,
          0.15083149075508118,
          1.4866530895233154,
          0.0673985481262207,
          0.16280435025691986,
          -0.06695470958948135,
          -0.43939414620399475,
          -0.055493634194135666,
          0.14089715480804443,
          0.025505801662802696,
          -0.07617401331663132,
          -0.2942233979701996,
          0.15232667326927185,
          -0.3082805275917053,
          0.10782376676797867,
          -0.3388819694519043,
          0.2929408550262451,
          -0.06991156935691833,
          -0.016072487458586693,
          -0.0871790200471878,
          -0.16581231355667114,
          -0.24379600584506989,
          0.32322993874549866,
          0.05243320018053055,
          -0.06556519865989685,
          0.10300813615322113,
          0.5177556872367859,
          -0.26720672845840454,
          -0.3980809450149536,
          -0.13124887645244598,
          0.17377591133117676,
          -0.2792589068412781,
          -0.08678025752305984,
          -0.03162276744842529,
          0.04941742494702339,
          -0.40344247221946716,
          0.030358707532286644,
          0.7648146748542786,
          -0.012879665940999985,
          0.15375302731990814,
          -0.6388295292854309,
          -0.027004064992070198,
          0.42538636922836304,
          -0.8407734632492065,
          0.36801910400390625,
          -0.0019000920001417398,
          -0.6671854853630066,
          -0.12676183879375458,
          -0.2687914967536926,
          0.3079105615615845,
          0.07031548023223877,
          -0.21671220660209656,
          -1.070525884628296,
          0.20646443963050842,
          0.008295160718262196,
          -0.13977916538715363,
          -0.6441810727119446,
          -0.3803195655345917,
          -0.41040167212486267,
          -0.14259734749794006,
          0.27306702733039856,
          0.05253301188349724,
          0.027265014126896858,
          0.20883405208587646,
          -1.1040599346160889,
          -0.2887594401836395,
          -0.2408294677734375,
          -0.4066160023212433,
          -0.22599612176418304,
          0.17314548790454865,
          -0.06660392135381699,
          -0.022409221157431602,
          -0.29655921459198,
          -0.46928372979164124,
          0.0777938961982727,
          0.10633280128240585,
          -0.3230540454387665,
          -0.17025955021381378,
          0.1864534467458725,
          -0.027282647788524628,
          -0.07354209572076797,
          -0.5764196515083313,
          0.012299712747335434,
          0.24319420754909515,
          0.11887155473232269,
          -0.016582893207669258,
          -0.29005587100982666,
          0.1312619000673294,
          0.4022390842437744,
          0.20015035569667816,
          -0.02220075950026512,
          -0.3926932215690613,
          0.3037981688976288,
          0.05693204700946808,
          -0.1354077160358429,
          0.06512008607387543,
          0.9496335387229919,
          -0.2228897511959076,
          0.363203763961792,
          0.2589896321296692,
          0.06496066600084305,
          0.11444966495037079,
          -0.26404231786727905,
          0.29291775822639465,
          -0.5974958539009094,
          -0.1233203262090683,
          0.2790353298187256,
          0.13250406086444855,
          -0.16701051592826843,
          -0.2089412808418274,
          0.2835220396518707,
          0.39839816093444824,
          -0.08877134323120117,
          -0.05071110650897026,
          0.19870050251483917,
          -0.09247934073209763,
          0.1652097851037979,
          -0.33915776014328003,
          0.0352947935461998,
          0.17012038826942444,
          0.09651801735162735,
          0.21980707347393036,
          -0.1949956864118576,
          -0.33147257566452026,
          0.03966260328888893,
          -0.14226871728897095,
          -0.1816360354423523,
          0.12622526288032532,
          -0.0819789469242096,
          0.33828991651535034,
          -0.07886683940887451,
          0.22063228487968445,
          -0.31464776396751404,
          -0.3259279727935791,
          -0.17285983264446259,
          -0.23997411131858826,
          -0.3708752989768982,
          0.002632535295560956,
          -0.23223458230495453,
          0.26474693417549133,
          -0.20590387284755707,
          -0.14865678548812866,
          -0.07289612293243408,
          -0.15009629726409912,
          0.011133179068565369,
          -0.13087286055088043,
          -0.04466869309544563,
          -0.05705138295888901,
          -0.12621045112609863,
          0.25731438398361206,
          1.3818976879119873,
          0.16136041283607483,
          -0.260944664478302,
          0.19007040560245514,
          -0.24361568689346313,
          -0.09898726642131805,
          0.3060802221298218,
          0.20140838623046875,
          -0.1402987837791443,
          -0.24913015961647034,
          -0.08561106026172638,
          0.17944228649139404,
          0.41333746910095215,
          -0.6686104536056519,
          0.00444028852507472,
          0.35035115480422974,
          1.4234442710876465,
          -0.21336016058921814,
          -0.002453847089782357,
          -0.09668499231338501,
          -0.21470798552036285,
          0.29932400584220886,
          0.10634663701057434,
          0.2937109172344208,
          0.48450416326522827,
          0.12656238675117493,
          -0.21326975524425507,
          0.22548139095306396,
          0.3712250590324402,
          0.22935353219509125,
          0.19947528839111328,
          -0.0005735981394536793,
          -0.021351054310798645,
          0.22819218039512634,
          -0.4870741665363312,
          0.5339218974113464,
          0.10367744415998459,
          -0.07449401915073395,
          0.459987998008728,
          0.01775629259645939,
          -0.2230278104543686,
          -0.25128087401390076,
          0.520588219165802,
          0.13848845660686493,
          0.7313938736915588,
          -0.1812094748020172,
          -0.2192850410938263,
          -0.00937678199261427,
          0.26201143860816956,
          -0.06563900411128998,
          0.09618135541677475,
          -0.03945610672235489,
          0.12663191556930542,
          0.20133043825626373,
          0.08911803364753723,
          0.09894202649593353,
          0.4354925751686096,
          -0.25984516739845276,
          -0.02712598443031311,
          0.06581513583660126,
          -0.8010367155075073,
          0.2079535573720932,
          -0.1455496996641159,
          -0.06612149626016617,
          -0.13293218612670898,
          -0.13177134096622467,
          0.08687761425971985,
          0.054138343781232834,
          0.28285738825798035,
          0.05232025682926178,
          0.06495724618434906,
          -0.0605696402490139,
          0.28759732842445374,
          0.39709627628326416,
          -0.16958583891391754,
          0.06707696616649628,
          -0.02812986448407173,
          0.03990047052502632,
          0.1567440778017044,
          -0.24097608029842377,
          -0.3046717345714569,
          0.4140906035900116,
          0.09622418135404587,
          0.17500586807727814,
          0.6046353578567505,
          0.09428788721561432,
          -0.292451411485672,
          0.08563367277383804,
          -0.5368263721466064,
          0.0416158027946949,
          -0.2488078474998474,
          -0.21138320863246918,
          -0.009342153556644917,
          -0.2944323420524597,
          0.4541623592376709,
          -0.30059677362442017,
          -0.6693667769432068,
          1.1696299314498901,
          0.22982953488826752,
          -0.1090259924530983,
          0.16015395522117615,
          0.06028423085808754,
          0.029115816578269005,
          -0.004756045062094927,
          0.02195732481777668,
          -1.5130418539047241,
          -0.13936427235603333,
          0.09488620609045029,
          0.13827906548976898,
          -0.07873308658599854,
          -0.06061001121997833,
          0.2313774675130844,
          -0.044492099434137344,
          -0.8402933478355408,
          -0.1527705192565918,
          0.4160371422767639,
          0.08963105082511902,
          0.18113839626312256,
          0.3400816023349762,
          -0.00015021063154563308,
          0.22661423683166504,
          -0.05687110498547554,
          -0.5210937261581421,
          0.3512348234653473,
          0.06798090040683746,
          0.2932341992855072,
          -0.27294808626174927,
          0.09361158311367035,
          0.3908528983592987,
          -0.09870699048042297,
          0.13912314176559448,
          0.06947973370552063,
          0.05976419895887375,
          0.06212112680077553,
          0.23162703216075897,
          0.0045715561136603355,
          0.6079193949699402,
          -0.4920305907726288,
          -0.09540174156427383,
          0.07545264065265656,
          0.6543723344802856,
          -0.19469238817691803,
          -0.7730738520622253,
          0.13639076054096222,
          0.2947249412536621,
          0.017016585916280746,
          0.2524154782295227,
          0.06748096644878387,
          0.42498746514320374,
          0.1454198658466339,
          0.16021941602230072,
          0.22977305948734283,
          -0.18970966339111328,
          -0.007122856564819813,
          -0.15833915770053864,
          -0.45326176285743713,
          0.006409049034118652,
          0.039794765412807465,
          -0.38219699263572693,
          0.13073663413524628,
          0.1316361278295517,
          -0.0354875884950161,
          0.10671915113925934,
          -0.06394271552562714,
          -0.20021870732307434,
          0.07993575185537338,
          0.09345825016498566,
          0.20318040251731873,
          -0.12384001165628433,
          -0.6786110997200012,
          -0.271197646856308,
          -0.4247131943702698,
          -0.16148968040943146,
          0.08199053257703781,
          0.2944144606590271,
          -0.007852056995034218,
          -0.07031314820051193,
          -0.25236624479293823,
          0.12537558376789093,
          -0.15062104165554047,
          -0.1443234235048294,
          0.03357569873332977,
          -0.15968026220798492,
          0.4589608907699585,
          0.09168574213981628,
          0.4145394265651703,
          -0.46513986587524414,
          -0.26685526967048645,
          0.13175106048583984,
          0.05825859680771828,
          0.3363681733608246,
          -0.132924422621727,
          -0.15885262191295624,
          0.18598781526088715,
          0.20187023282051086,
          0.060535501688718796,
          0.039127279072999954,
          0.007280110381543636,
          -0.11811882257461548,
          0.040590208023786545,
          -0.2857648730278015,
          -1.085256576538086,
          -0.12896454334259033,
          -0.10176610946655273,
          0.6380792856216431,
          -0.25551313161849976,
          -0.14915822446346283,
          -0.4366496205329895,
          -0.5555795431137085,
          -0.4457295536994934,
          0.0006678535137325525,
          0.3537346422672272,
          0.19626247882843018,
          0.20407457649707794,
          -0.24570304155349731,
          0.22922976315021515,
          -0.17637498676776886,
          0.12103243917226791,
          0.3973664343357086,
          -0.11688508838415146,
          -0.4727601110935211,
          -0.2794604003429413,
          -0.25145432353019714,
          0.21805769205093384,
          0.06535995006561279,
          -0.1894339770078659,
          -0.05251292511820793,
          0.19087140262126923,
          0.19792333245277405,
          0.06405096501111984,
          -0.28238677978515625,
          0.11138908565044403,
          0.19048859179019928,
          0.22521309554576874,
          -0.18780755996704102,
          0.41653379797935486,
          0.0019093502778559923,
          0.2791759669780731,
          -0.1996065080165863,
          0.0002590928634162992,
          0.20717744529247284,
          -0.10770446807146072,
          0.05158238112926483,
          0.3833795189857483,
          0.09806264936923981,
          0.24802133440971375,
          0.2766244411468506,
          0.0206852238625288,
          0.22615426778793335,
          0.036735519766807556,
          -0.05722712352871895,
          0.10026877373456955,
          0.30015668272972107,
          -0.1635826975107193,
          -0.8967145681381226,
          0.19475992023944855,
          -0.045358411967754364,
          0.47845059633255005,
          -0.23704665899276733,
          -0.16852526366710663,
          -0.03332941234111786,
          -0.3175847828388214,
          0.4002982974052429,
          0.002926655113697052,
          -0.12035766243934631,
          0.06458023935556412,
          -0.4928534924983978,
          -0.1260242462158203,
          0.31588229537010193,
          -0.027162684127688408,
          -0.3019246459007263,
          -0.5635944604873657,
          0.24687311053276062,
          -0.010875708423554897,
          0.19477471709251404,
          0.13983184099197388,
          -0.17209939658641815,
          -0.1214660182595253,
          0.2533687353134155,
          -0.192627415060997,
          -0.16304773092269897,
          0.04327146336436272,
          -0.5314741134643555,
          0.6700968742370605,
          -0.12317340821027756,
          0.03499634936451912,
          0.04061519727110863,
          0.09078726172447205,
          -0.17338265478610992,
          -0.0794021487236023,
          -0.1959587186574936,
          0.14662577211856842,
          0.009914195165038109,
          -0.3532886803150177,
          -0.04049753025174141,
          0.12743012607097626,
          -0.3129061460494995,
          -0.46124520897865295,
          0.47789931297302246,
          -0.3587599992752075,
          0.11360125988721848,
          -0.12332314252853394,
          -0.393838107585907,
          -0.5883076786994934,
          0.16035376489162445,
          0.17005088925361633,
          0.4341076612472534
         ],
         "y": [
          -0.22007624804973602,
          -0.10429925471544266,
          0.042802199721336365,
          0.01081565860658884,
          -0.279442697763443,
          0.07008528709411621,
          -0.179966002702713,
          0.16261586546897888,
          0.30231767892837524,
          0.20031610131263733,
          -0.5783467292785645,
          0.18865466117858887,
          -0.37395456433296204,
          0.004060789011418819,
          -0.7798060178756714,
          -0.2625215947628021,
          0.35967400670051575,
          0.06160244718194008,
          -0.283720999956131,
          0.2085835486650467,
          0.0062181539833545685,
          0.282411128282547,
          -0.07820102572441101,
          -0.06402219086885452,
          -0.07588820904493332,
          0.215445414185524,
          0.039880525320768356,
          0.8024348020553589,
          -0.1354457587003708,
          -0.047956883907318115,
          -0.748991847038269,
          -0.10456012189388275,
          0.25402897596359253,
          0.006920001935213804,
          0.24466824531555176,
          0.1300465613603592,
          0.11778959631919861,
          -0.3724534809589386,
          -0.15482646226882935,
          0.016105379909276962,
          0.2755771279335022,
          -0.08834242820739746,
          0.46297380328178406,
          -0.06242027506232262,
          -0.15385547280311584,
          -1.2558929920196533,
          -0.0683111697435379,
          -0.10849741846323013,
          0.039044056087732315,
          0.4103618264198303,
          0.0703270360827446,
          -0.14040981233119965,
          -0.07182908058166504,
          0.04393325001001358,
          0.27331823110580444,
          -0.07161437720060349,
          0.23354561626911163,
          -0.17687013745307922,
          0.380374938249588,
          -0.22885623574256897,
          0.03615777567028999,
          -0.010191625915467739,
          0.09295498579740524,
          0.1980011910200119,
          0.24825415015220642,
          -0.36102333664894104,
          0.019818643108010292,
          0.03732774406671524,
          -0.10777939110994339,
          -0.5002856254577637,
          0.23767371475696564,
          0.41517558693885803,
          0.03317277505993843,
          -0.11954379826784134,
          0.16315780580043793,
          0.06821055710315704,
          0.034246183931827545,
          -0.08339548110961914,
          0.38798967003822327,
          0.019000209867954254,
          -0.6762778759002686,
          0.09052953124046326,
          -0.10992368310689926,
          0.5815003514289856,
          -0.0350504033267498,
          -0.3439025580883026,
          0.7303761839866638,
          -0.41030198335647583,
          -0.04692130908370018,
          0.5672776103019714,
          0.12434041500091553,
          0.23274736106395721,
          -0.29467537999153137,
          -0.11935554444789886,
          0.18454203009605408,
          0.8966715931892395,
          -0.12023405730724335,
          -0.015552720054984093,
          0.1370338797569275,
          0.5732797980308533,
          0.41508248448371887,
          0.28797268867492676,
          0.17556607723236084,
          -0.2219308465719223,
          -0.022305307909846306,
          -0.10643550008535385,
          -0.18844133615493774,
          1.0146046876907349,
          0.25254982709884644,
          0.235524982213974,
          0.38595592975616455,
          0.19450590014457703,
          -0.22044265270233154,
          0.015110927633941174,
          0.006896104663610458,
          0.29520368576049805,
          0.40897732973098755,
          -0.09267260879278183,
          -0.10262994468212128,
          0.2516089975833893,
          0.10141196846961975,
          -0.19994835555553436,
          0.015415308065712452,
          0.044588085263967514,
          0.5039251446723938,
          -0.031579598784446716,
          -0.24739034473896027,
          -0.1266135275363922,
          0.005573229398578405,
          0.2936380207538605,
          -0.09176298975944519,
          -0.42671123147010803,
          -0.1858784407377243,
          0.02434476464986801,
          0.311810165643692,
          -0.22834593057632446,
          -0.10604085773229599,
          0.12624768912792206,
          -0.06569313257932663,
          -0.7776215672492981,
          0.16785766184329987,
          -0.34651055932044983,
          -0.20396479964256287,
          -0.06615819036960602,
          -0.06266119331121445,
          0.20289278030395508,
          -0.2243635207414627,
          0.506047248840332,
          0.10173997282981873,
          -0.24059073626995087,
          -0.14253681898117065,
          0.14805550873279572,
          0.13244934380054474,
          -0.2580368220806122,
          -0.40162742137908936,
          0.0330994538962841,
          0.0753476470708847,
          -0.12962529063224792,
          0.06807663291692734,
          -0.13606001436710358,
          0.25165343284606934,
          -0.08517548441886902,
          -0.10253579169511795,
          -0.02618643268942833,
          -0.1424977332353592,
          0.1648959517478943,
          0.3046208918094635,
          -0.019564766436815262,
          0.16769404709339142,
          0.09739786386489868,
          -0.0975295901298523,
          0.10807633399963379,
          -0.29398977756500244,
          0.09131612628698349,
          -0.2528162896633148,
          0.25031280517578125,
          0.259039968252182,
          0.1583368331193924,
          0.194047749042511,
          0.28067734837532043,
          0.02185586467385292,
          0.25915098190307617,
          -0.2746387720108032,
          0.25386902689933777,
          0.09161538630723953,
          0.05082790553569794,
          0.14638952910900116,
          0.01777219958603382,
          0.05159314349293709,
          -0.0034310834016650915,
          -0.0016745374305173755,
          0.17657078802585602,
          -0.26274919509887695,
          -1.247546911239624,
          -0.18896496295928955,
          0.17614227533340454,
          -0.14290127158164978,
          0.25762730836868286,
          0.032035455107688904,
          -0.3200555741786957,
          -0.17348699271678925,
          0.10048606991767883,
          0.19732074439525604,
          0.029758453369140625,
          -0.136907696723938,
          -0.3752954602241516,
          0.5985248684883118,
          0.016300419345498085,
          -0.29769572615623474,
          -1.219045877456665,
          0.2149646282196045,
          0.0179867222905159,
          0.08656451106071472,
          0.14974085986614227,
          -0.27109336853027344,
          -0.059508081525564194,
          -0.2919480502605438,
          -0.39371901750564575,
          -0.11900674551725388,
          0.17220868170261383,
          -0.1613883227109909,
          -0.3717177212238312,
          -0.1694038361310959,
          -0.12078965455293655,
          0.04835783317685127,
          0.028585350140929222,
          -0.216247096657753,
          0.43617454171180725,
          -0.5351126790046692,
          -0.03273046389222145,
          0.05877433717250824,
          -0.3587327301502228,
          -0.016821255907416344,
          0.22990350425243378,
          0.23661527037620544,
          -0.4213187098503113,
          -0.12787486612796783,
          -0.7096364498138428,
          0.16653871536254883,
          0.14562970399856567,
          0.0048760403878986835,
          -0.22641533613204956,
          0.053536880761384964,
          -0.06878308206796646,
          -0.03188677504658699,
          -0.10062358528375626,
          -0.16878335177898407,
          -0.06559768319129944,
          -0.05138717591762543,
          -0.3497483730316162,
          0.25704681873321533,
          0.05467045679688454,
          0.00023471229360438883,
          0.7251635193824768,
          -0.19239065051078796,
          0.10850217938423157,
          0.05872313305735588,
          0.1519973874092102,
          0.18587397038936615,
          -0.10378701984882355,
          -0.10615506768226624,
          -0.22946469485759735,
          0.006140602752566338,
          -0.02115340530872345,
          0.0337764173746109,
          -0.20015688240528107,
          -0.3123694658279419,
          0.12787005305290222,
          -0.12264806032180786,
          0.09253007918596268,
          0.02901817113161087,
          -0.08186808973550797,
          0.1360301673412323,
          0.27157673239707947,
          -0.3326131999492645,
          -0.06638564169406891,
          -0.10838823020458221,
          -0.5624990463256836,
          -0.011622683145105839,
          0.23426972329616547,
          -0.05445747449994087,
          0.4519422948360443,
          -0.027534471824765205,
          0.22617675364017487,
          0.2673538029193878,
          0.006073339376598597,
          0.283906489610672,
          -0.4315759241580963,
          0.21461640298366547,
          0.5578440427780151,
          -1.054669737815857,
          -0.16943681240081787,
          0.04907107725739479,
          -0.17024710774421692,
          -0.06762827187776566,
          -0.08456557989120483,
          0.05019648000597954,
          -0.05378178507089615,
          1.2953739166259766,
          0.06155848130583763,
          -0.1060803160071373,
          -0.1333126276731491,
          0.04275820031762123,
          0.019779551774263382,
          -0.2664819359779358,
          0.02972954511642456,
          0.6638487577438354,
          0.19880980253219604,
          -0.33006349205970764,
          -0.02696000412106514,
          -0.2075423300266266,
          -0.2797890305519104,
          -0.05216562747955322,
          -0.18021591007709503,
          0.08879277110099792,
          0.437750905752182,
          -0.3046325445175171,
          -0.0383041612803936,
          -0.20943212509155273,
          0.203204944729805,
          -0.05523066222667694,
          -0.3859441578388214,
          0.1159200519323349,
          -0.1613793522119522,
          -0.10561244189739227,
          -0.059600893408060074,
          -0.00935930572450161,
          -0.25092756748199463,
          0.06074931472539902,
          -0.4936588704586029,
          0.4401632845401764,
          0.07952322065830231,
          -0.04991331696510315,
          -0.5602442026138306,
          0.08200323581695557,
          0.7136425971984863,
          -0.10384085774421692,
          -0.2708980143070221,
          -0.07913237065076828,
          -0.2263737916946411,
          -0.0730782076716423,
          -0.39982709288597107,
          -0.09206078201532364,
          -0.12313137948513031,
          -0.24970994889736176,
          0.19582651555538177,
          -0.07516459375619888,
          0.1676088273525238,
          0.44586485624313354,
          0.011927904561161995,
          -0.10526810586452484,
          0.3434131443500519,
          -0.09392484277486801,
          -0.09065035730600357,
          0.004228468518704176,
          -0.1212383508682251,
          0.10189420729875565,
          0.1419755518436432,
          -0.01379749272018671,
          -0.04018504545092583,
          -0.2373540699481964,
          0.11459840089082718,
          0.6252569556236267,
          0.23510713875293732,
          0.4024071991443634,
          0.1433349996805191,
          -0.1407199651002884,
          -0.274492472410202,
          0.013997147791087627,
          0.019908124580979347,
          0.2704475224018097,
          -0.09451895952224731,
          0.16638177633285522,
          0.11886747926473618,
          -0.037205327302217484,
          0.09629711508750916,
          -0.41840511560440063,
          -0.09964257478713989,
          -0.4063034951686859,
          0.3729109764099121,
          0.26298001408576965,
          -0.030058659613132477,
          -0.015290520153939724,
          -0.3766131103038788,
          0.18390104174613953,
          0.11587084829807281,
          -0.0922929123044014,
          -0.11724334210157394,
          -0.07802504301071167,
          -0.028631608933210373,
          -0.005558642093092203,
          0.14854773879051208,
          -0.06828739494085312,
          0.2932416796684265,
          0.9794006943702698,
          0.12598340213298798,
          0.09216252714395523,
          -0.5339877009391785,
          0.2560572922229767,
          0.19547738134860992,
          0.3878542482852936,
          0.5202366709709167,
          0.3861553370952606,
          -0.04225708544254303,
          -0.3282952606678009,
          -0.25135675072669983,
          -0.12986962497234344,
          0.16589078307151794,
          -0.14698909223079681,
          0.2066759467124939,
          -0.08727807551622391,
          -0.37781456112861633,
          0.08935844898223877,
          0.48026803135871887,
          0.26816338300704956,
          0.14918603003025055,
          -0.13505929708480835,
          -0.06117962300777435,
          0.1532910019159317,
          0.08652646839618683,
          -0.17248934507369995,
          -0.17980653047561646,
          -0.010777034796774387,
          0.1750420182943344,
          -0.07417738437652588,
          -0.12705515325069427,
          -0.23370474576950073,
          0.2262447625398636,
          -0.38222837448120117,
          0.003910823725163937,
          -0.24994724988937378,
          0.14540967345237732,
          0.01885710284113884,
          -0.2026624083518982,
          0.0983109250664711,
          -0.041743479669094086,
          -0.3626544773578644,
          -0.11881191283464432,
          -0.29046136140823364,
          -0.2858216166496277,
          -0.028765134513378143,
          -0.2217104434967041,
          -0.023972049355506897,
          0.10688446462154388,
          -0.14072780311107635,
          -0.3050057590007782,
          0.1325216293334961,
          0.7863748669624329,
          -0.11759341508150101,
          0.03106137551367283,
          -0.4817068874835968,
          0.19157540798187256,
          0.148585245013237,
          0.02210857905447483,
          0.2588452696800232,
          -0.27952340245246887,
          -0.009867299348115921,
          0.06115086004137993,
          0.006980399135500193,
          0.47070446610450745,
          0.09579266607761383,
          -0.315031498670578,
          0.04692563787102699,
          0.2168881595134735,
          0.45658594369888306,
          -0.21043813228607178,
          -0.0004605527501553297,
          -0.23377862572669983,
          -0.12535712122917175,
          0.19895389676094055,
          0.130205437541008,
          -0.20018640160560608,
          0.1545509397983551,
          0.1283169686794281,
          -0.03737671300768852,
          0.49281302094459534,
          -0.5499162673950195,
          0.07601471245288849,
          -0.022935783490538597,
          -0.039163440465927124,
          -0.0950070470571518,
          0.20014411211013794,
          0.10240978002548218,
          0.24986229836940765,
          -0.1266264021396637,
          0.006574112456291914,
          0.29347115755081177,
          0.025855056941509247,
          -0.10786017775535583,
          0.355993390083313,
          0.4053046703338623,
          -0.4094204604625702,
          0.3150717318058014,
          -0.061764370650053024,
          0.04266771301627159,
          0.3553529679775238,
          0.48533743619918823,
          -0.1852903515100479,
          -0.13401859998703003,
          -0.3610355854034424
         ]
        }
       ],
       "layout": {
        "hovermode": "closest",
        "template": {
         "data": {
          "bar": [
           {
            "error_x": {
             "color": "#2a3f5f"
            },
            "error_y": {
             "color": "#2a3f5f"
            },
            "marker": {
             "line": {
              "color": "#E5ECF6",
              "width": 0.5
             },
             "pattern": {
              "fillmode": "overlay",
              "size": 10,
              "solidity": 0.2
             }
            },
            "type": "bar"
           }
          ],
          "barpolar": [
           {
            "marker": {
             "line": {
              "color": "#E5ECF6",
              "width": 0.5
             },
             "pattern": {
              "fillmode": "overlay",
              "size": 10,
              "solidity": 0.2
             }
            },
            "type": "barpolar"
           }
          ],
          "carpet": [
           {
            "aaxis": {
             "endlinecolor": "#2a3f5f",
             "gridcolor": "white",
             "linecolor": "white",
             "minorgridcolor": "white",
             "startlinecolor": "#2a3f5f"
            },
            "baxis": {
             "endlinecolor": "#2a3f5f",
             "gridcolor": "white",
             "linecolor": "white",
             "minorgridcolor": "white",
             "startlinecolor": "#2a3f5f"
            },
            "type": "carpet"
           }
          ],
          "choropleth": [
           {
            "colorbar": {
             "outlinewidth": 0,
             "ticks": ""
            },
            "type": "choropleth"
           }
          ],
          "contour": [
           {
            "colorbar": {
             "outlinewidth": 0,
             "ticks": ""
            },
            "colorscale": [
             [
              0,
              "#0d0887"
             ],
             [
              0.1111111111111111,
              "#46039f"
             ],
             [
              0.2222222222222222,
              "#7201a8"
             ],
             [
              0.3333333333333333,
              "#9c179e"
             ],
             [
              0.4444444444444444,
              "#bd3786"
             ],
             [
              0.5555555555555556,
              "#d8576b"
             ],
             [
              0.6666666666666666,
              "#ed7953"
             ],
             [
              0.7777777777777778,
              "#fb9f3a"
             ],
             [
              0.8888888888888888,
              "#fdca26"
             ],
             [
              1,
              "#f0f921"
             ]
            ],
            "type": "contour"
           }
          ],
          "contourcarpet": [
           {
            "colorbar": {
             "outlinewidth": 0,
             "ticks": ""
            },
            "type": "contourcarpet"
           }
          ],
          "heatmap": [
           {
            "colorbar": {
             "outlinewidth": 0,
             "ticks": ""
            },
            "colorscale": [
             [
              0,
              "#0d0887"
             ],
             [
              0.1111111111111111,
              "#46039f"
             ],
             [
              0.2222222222222222,
              "#7201a8"
             ],
             [
              0.3333333333333333,
              "#9c179e"
             ],
             [
              0.4444444444444444,
              "#bd3786"
             ],
             [
              0.5555555555555556,
              "#d8576b"
             ],
             [
              0.6666666666666666,
              "#ed7953"
             ],
             [
              0.7777777777777778,
              "#fb9f3a"
             ],
             [
              0.8888888888888888,
              "#fdca26"
             ],
             [
              1,
              "#f0f921"
             ]
            ],
            "type": "heatmap"
           }
          ],
          "heatmapgl": [
           {
            "colorbar": {
             "outlinewidth": 0,
             "ticks": ""
            },
            "colorscale": [
             [
              0,
              "#0d0887"
             ],
             [
              0.1111111111111111,
              "#46039f"
             ],
             [
              0.2222222222222222,
              "#7201a8"
             ],
             [
              0.3333333333333333,
              "#9c179e"
             ],
             [
              0.4444444444444444,
              "#bd3786"
             ],
             [
              0.5555555555555556,
              "#d8576b"
             ],
             [
              0.6666666666666666,
              "#ed7953"
             ],
             [
              0.7777777777777778,
              "#fb9f3a"
             ],
             [
              0.8888888888888888,
              "#fdca26"
             ],
             [
              1,
              "#f0f921"
             ]
            ],
            "type": "heatmapgl"
           }
          ],
          "histogram": [
           {
            "marker": {
             "pattern": {
              "fillmode": "overlay",
              "size": 10,
              "solidity": 0.2
             }
            },
            "type": "histogram"
           }
          ],
          "histogram2d": [
           {
            "colorbar": {
             "outlinewidth": 0,
             "ticks": ""
            },
            "colorscale": [
             [
              0,
              "#0d0887"
             ],
             [
              0.1111111111111111,
              "#46039f"
             ],
             [
              0.2222222222222222,
              "#7201a8"
             ],
             [
              0.3333333333333333,
              "#9c179e"
             ],
             [
              0.4444444444444444,
              "#bd3786"
             ],
             [
              0.5555555555555556,
              "#d8576b"
             ],
             [
              0.6666666666666666,
              "#ed7953"
             ],
             [
              0.7777777777777778,
              "#fb9f3a"
             ],
             [
              0.8888888888888888,
              "#fdca26"
             ],
             [
              1,
              "#f0f921"
             ]
            ],
            "type": "histogram2d"
           }
          ],
          "histogram2dcontour": [
           {
            "colorbar": {
             "outlinewidth": 0,
             "ticks": ""
            },
            "colorscale": [
             [
              0,
              "#0d0887"
             ],
             [
              0.1111111111111111,
              "#46039f"
             ],
             [
              0.2222222222222222,
              "#7201a8"
             ],
             [
              0.3333333333333333,
              "#9c179e"
             ],
             [
              0.4444444444444444,
              "#bd3786"
             ],
             [
              0.5555555555555556,
              "#d8576b"
             ],
             [
              0.6666666666666666,
              "#ed7953"
             ],
             [
              0.7777777777777778,
              "#fb9f3a"
             ],
             [
              0.8888888888888888,
              "#fdca26"
             ],
             [
              1,
              "#f0f921"
             ]
            ],
            "type": "histogram2dcontour"
           }
          ],
          "mesh3d": [
           {
            "colorbar": {
             "outlinewidth": 0,
             "ticks": ""
            },
            "type": "mesh3d"
           }
          ],
          "parcoords": [
           {
            "line": {
             "colorbar": {
              "outlinewidth": 0,
              "ticks": ""
             }
            },
            "type": "parcoords"
           }
          ],
          "pie": [
           {
            "automargin": true,
            "type": "pie"
           }
          ],
          "scatter": [
           {
            "fillpattern": {
             "fillmode": "overlay",
             "size": 10,
             "solidity": 0.2
            },
            "type": "scatter"
           }
          ],
          "scatter3d": [
           {
            "line": {
             "colorbar": {
              "outlinewidth": 0,
              "ticks": ""
             }
            },
            "marker": {
             "colorbar": {
              "outlinewidth": 0,
              "ticks": ""
             }
            },
            "type": "scatter3d"
           }
          ],
          "scattercarpet": [
           {
            "marker": {
             "colorbar": {
              "outlinewidth": 0,
              "ticks": ""
             }
            },
            "type": "scattercarpet"
           }
          ],
          "scattergeo": [
           {
            "marker": {
             "colorbar": {
              "outlinewidth": 0,
              "ticks": ""
             }
            },
            "type": "scattergeo"
           }
          ],
          "scattergl": [
           {
            "marker": {
             "colorbar": {
              "outlinewidth": 0,
              "ticks": ""
             }
            },
            "type": "scattergl"
           }
          ],
          "scattermapbox": [
           {
            "marker": {
             "colorbar": {
              "outlinewidth": 0,
              "ticks": ""
             }
            },
            "type": "scattermapbox"
           }
          ],
          "scatterpolar": [
           {
            "marker": {
             "colorbar": {
              "outlinewidth": 0,
              "ticks": ""
             }
            },
            "type": "scatterpolar"
           }
          ],
          "scatterpolargl": [
           {
            "marker": {
             "colorbar": {
              "outlinewidth": 0,
              "ticks": ""
             }
            },
            "type": "scatterpolargl"
           }
          ],
          "scatterternary": [
           {
            "marker": {
             "colorbar": {
              "outlinewidth": 0,
              "ticks": ""
             }
            },
            "type": "scatterternary"
           }
          ],
          "surface": [
           {
            "colorbar": {
             "outlinewidth": 0,
             "ticks": ""
            },
            "colorscale": [
             [
              0,
              "#0d0887"
             ],
             [
              0.1111111111111111,
              "#46039f"
             ],
             [
              0.2222222222222222,
              "#7201a8"
             ],
             [
              0.3333333333333333,
              "#9c179e"
             ],
             [
              0.4444444444444444,
              "#bd3786"
             ],
             [
              0.5555555555555556,
              "#d8576b"
             ],
             [
              0.6666666666666666,
              "#ed7953"
             ],
             [
              0.7777777777777778,
              "#fb9f3a"
             ],
             [
              0.8888888888888888,
              "#fdca26"
             ],
             [
              1,
              "#f0f921"
             ]
            ],
            "type": "surface"
           }
          ],
          "table": [
           {
            "cells": {
             "fill": {
              "color": "#EBF0F8"
             },
             "line": {
              "color": "white"
             }
            },
            "header": {
             "fill": {
              "color": "#C8D4E3"
             },
             "line": {
              "color": "white"
             }
            },
            "type": "table"
           }
          ]
         },
         "layout": {
          "annotationdefaults": {
           "arrowcolor": "#2a3f5f",
           "arrowhead": 0,
           "arrowwidth": 1
          },
          "autotypenumbers": "strict",
          "coloraxis": {
           "colorbar": {
            "outlinewidth": 0,
            "ticks": ""
           }
          },
          "colorscale": {
           "diverging": [
            [
             0,
             "#8e0152"
            ],
            [
             0.1,
             "#c51b7d"
            ],
            [
             0.2,
             "#de77ae"
            ],
            [
             0.3,
             "#f1b6da"
            ],
            [
             0.4,
             "#fde0ef"
            ],
            [
             0.5,
             "#f7f7f7"
            ],
            [
             0.6,
             "#e6f5d0"
            ],
            [
             0.7,
             "#b8e186"
            ],
            [
             0.8,
             "#7fbc41"
            ],
            [
             0.9,
             "#4d9221"
            ],
            [
             1,
             "#276419"
            ]
           ],
           "sequential": [
            [
             0,
             "#0d0887"
            ],
            [
             0.1111111111111111,
             "#46039f"
            ],
            [
             0.2222222222222222,
             "#7201a8"
            ],
            [
             0.3333333333333333,
             "#9c179e"
            ],
            [
             0.4444444444444444,
             "#bd3786"
            ],
            [
             0.5555555555555556,
             "#d8576b"
            ],
            [
             0.6666666666666666,
             "#ed7953"
            ],
            [
             0.7777777777777778,
             "#fb9f3a"
            ],
            [
             0.8888888888888888,
             "#fdca26"
            ],
            [
             1,
             "#f0f921"
            ]
           ],
           "sequentialminus": [
            [
             0,
             "#0d0887"
            ],
            [
             0.1111111111111111,
             "#46039f"
            ],
            [
             0.2222222222222222,
             "#7201a8"
            ],
            [
             0.3333333333333333,
             "#9c179e"
            ],
            [
             0.4444444444444444,
             "#bd3786"
            ],
            [
             0.5555555555555556,
             "#d8576b"
            ],
            [
             0.6666666666666666,
             "#ed7953"
            ],
            [
             0.7777777777777778,
             "#fb9f3a"
            ],
            [
             0.8888888888888888,
             "#fdca26"
            ],
            [
             1,
             "#f0f921"
            ]
           ]
          },
          "colorway": [
           "#636efa",
           "#EF553B",
           "#00cc96",
           "#ab63fa",
           "#FFA15A",
           "#19d3f3",
           "#FF6692",
           "#B6E880",
           "#FF97FF",
           "#FECB52"
          ],
          "font": {
           "color": "#2a3f5f"
          },
          "geo": {
           "bgcolor": "white",
           "lakecolor": "white",
           "landcolor": "#E5ECF6",
           "showlakes": true,
           "showland": true,
           "subunitcolor": "white"
          },
          "hoverlabel": {
           "align": "left"
          },
          "hovermode": "closest",
          "mapbox": {
           "style": "light"
          },
          "paper_bgcolor": "white",
          "plot_bgcolor": "#E5ECF6",
          "polar": {
           "angularaxis": {
            "gridcolor": "white",
            "linecolor": "white",
            "ticks": ""
           },
           "bgcolor": "#E5ECF6",
           "radialaxis": {
            "gridcolor": "white",
            "linecolor": "white",
            "ticks": ""
           }
          },
          "scene": {
           "xaxis": {
            "backgroundcolor": "#E5ECF6",
            "gridcolor": "white",
            "gridwidth": 2,
            "linecolor": "white",
            "showbackground": true,
            "ticks": "",
            "zerolinecolor": "white"
           },
           "yaxis": {
            "backgroundcolor": "#E5ECF6",
            "gridcolor": "white",
            "gridwidth": 2,
            "linecolor": "white",
            "showbackground": true,
            "ticks": "",
            "zerolinecolor": "white"
           },
           "zaxis": {
            "backgroundcolor": "#E5ECF6",
            "gridcolor": "white",
            "gridwidth": 2,
            "linecolor": "white",
            "showbackground": true,
            "ticks": "",
            "zerolinecolor": "white"
           }
          },
          "shapedefaults": {
           "line": {
            "color": "#2a3f5f"
           }
          },
          "ternary": {
           "aaxis": {
            "gridcolor": "white",
            "linecolor": "white",
            "ticks": ""
           },
           "baxis": {
            "gridcolor": "white",
            "linecolor": "white",
            "ticks": ""
           },
           "bgcolor": "#E5ECF6",
           "caxis": {
            "gridcolor": "white",
            "linecolor": "white",
            "ticks": ""
           }
          },
          "title": {
           "x": 0.05
          },
          "xaxis": {
           "automargin": true,
           "gridcolor": "white",
           "linecolor": "white",
           "ticks": "",
           "title": {
            "standoff": 15
           },
           "zerolinecolor": "white",
           "zerolinewidth": 2
          },
          "yaxis": {
           "automargin": true,
           "gridcolor": "white",
           "linecolor": "white",
           "ticks": "",
           "title": {
            "standoff": 15
           },
           "zerolinecolor": "white",
           "zerolinewidth": 2
          }
         }
        },
        "title": {
         "text": "Word Embeddings"
        }
       }
      }
     },
     "metadata": {},
     "output_type": "display_data"
    }
   ],
   "source": [
    "def plot_2d_embeddings(embeddings, id_start=1, count=100):\n",
    "  # Get 1st and 2nd embedding dims for the desired tokens.\n",
    "  x1 = embeddings[id_start:id_start+count, 0]\n",
    "  x2 = embeddings[id_start:id_start+count, 1]\n",
    "  \n",
    "  # Get the corresponding words from the reverse index (for labeling).\n",
    "  tokens = [reverse_index[i] for i in range(id_start, id_start+count)]\n",
    "\n",
    "  # Plot with the plotly library.\n",
    "  data = plotly.Scatter(x=x1, y=x2, text=tokens,\n",
    "                        mode='markers', textposition='bottom left',\n",
    "                        hoverinfo='text')\n",
    "  fig = plotly.Figure(data=[data],\n",
    "                      layout=plotly.Layout(title=\"Word Embeddings\",\n",
    "                                           hovermode='closest'))\n",
    "  fig.show()\n",
    "\n",
    "# Very frequent tokens tend to be more syntactic than semantic, so let's plot\n",
    "# some rarer words.    \n",
    "plot_2d_embeddings(embeddings, id_start=500, count=500)"
   ]
  },
  {
   "cell_type": "markdown",
   "metadata": {
    "id": "Z3Mm8MjRcZ20"
   },
   "source": [
    "---\n",
    "### Exercise 4: Interpretting Embeddings (8 points)\n",
    "Notice that the 2-D embeddings fall in a narrow diagonal band.\n",
    "\n",
    "1. Have the learned embeddings separated positive and negative words? What is the most negative word? Does this make sense?\n",
    "2. Give 2 examples of words that seem to have surprising embedding values and try to explain their positions. For example, what's going on with the tokens '7', '8', and '9'?\n",
    "3. The embedding for 'crazy' is very close to (0,0). Explain what this means in terms of the model's output.\n",
    "4. Can you explain what you think the 2 learned embedding dimensions mean, if anything?"
   ]
  },
  {
   "cell_type": "markdown",
   "metadata": {
    "id": "x_qAAvvo2y3t"
   },
   "source": [
    "*Written answers:*\n",
    "\n",
    "1. \n",
    "2. \n",
    "3. \n",
    "4. \n"
   ]
  },
  {
   "cell_type": "markdown",
   "metadata": {},
   "source": [
    "---"
   ]
  },
  {
   "cell_type": "markdown",
   "metadata": {
    "id": "IXCitmUvxfwb"
   },
   "source": [
    "## Scaling Up!\n",
    "Remember how we limited our input sequences to 20 tokens and 1000 vocabulary entries? Let's see how well we can do using more data and bigger models (more parameters)."
   ]
  },
  {
   "cell_type": "markdown",
   "metadata": {
    "id": "OKZDEGS7xzr6"
   },
   "source": [
    "### Exercise 5: Improve Results (8 points)\n",
    "Using pieces of code from above, set up and train a model that improves the validation accuracy to at least 80%. You should include the following elements:\n",
    "\n",
    "1. Truncate and pad input to the desired length.\n",
    "2. Limit vocabulary to the desired size.\n",
    "3. Set up a model using embeddings.\n",
    "4. Add an additional layer or layers (after the embeddings layer and before the output layer).\n",
    "5. Evaluate on the test data. Remember to apply the same pre-processing to the test data. You can use model.evaluate()."
   ]
  },
  {
   "cell_type": "code",
   "execution_count": null,
   "metadata": {
    "id": "ekbJ4sIq2hID"
   },
   "outputs": [],
   "source": [
    "# YOUR CODE HERE"
   ]
  },
  {
   "cell_type": "markdown",
   "metadata": {
    "id": "7EEJI9yC2jOJ"
   },
   "source": [
    "---"
   ]
  }
 ],
 "metadata": {
  "colab": {
   "authorship_tag": "ABX9TyMbG/uKJC3itEUb58OjZyV3",
   "name": "09 Embeddings for Text.ipynb",
   "provenance": []
  },
  "kernelspec": {
   "display_name": "Python 3.9.7 ('base')",
   "language": "python",
   "name": "python3"
  },
  "language_info": {
   "codemirror_mode": {
    "name": "ipython",
    "version": 3
   },
   "file_extension": ".py",
   "mimetype": "text/x-python",
   "name": "python",
   "nbconvert_exporter": "python",
   "pygments_lexer": "ipython3",
   "version": "3.9.7"
  },
  "vscode": {
   "interpreter": {
    "hash": "ad2bdc8ecc057115af97d19610ffacc2b4e99fae6737bb82f5d7fb13d2f2c186"
   }
  }
 },
 "nbformat": 4,
 "nbformat_minor": 4
}
